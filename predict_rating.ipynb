{
  "cells": [
    {
      "cell_type": "markdown",
      "source": [
        "# Import Library"
      ],
      "metadata": {
        "id": "sDcFoOSQCxBV"
      }
    },
    {
      "cell_type": "code",
      "execution_count": null,
      "metadata": {
        "id": "pylgLswT_evR"
      },
      "outputs": [],
      "source": [
        "import sys\n",
        "import IPython\n",
        "import IPython.display\n",
        "import pandas as pd\n",
        "import matplotlib.pyplot as plt\n",
        "import numpy as np\n",
        "from sklearn.preprocessing import LabelEncoder\n",
        "import seaborn as sns\n",
        "from sklearn.preprocessing import StandardScaler\n",
        "from sklearn.model_selection import train_test_split\n",
        "from sklearn.pipeline import Pipeline\n",
        "from sklearn.model_selection import GridSearchCV\n",
        "from sklearn.cluster import KMeans\n",
        "import warnings\n",
        "warnings.filterwarnings('ignore')\n",
        "import logging"
      ]
    },
    {
      "cell_type": "code",
      "source": [
        "from google.colab import drive\n",
        "drive.mount('/content/gdrive')"
      ],
      "metadata": {
        "colab": {
          "base_uri": "https://localhost:8080/"
        },
        "id": "1CLnGdax_6tD",
        "outputId": "5315cd56-867d-4146-ed01-5386e8eb36b4"
      },
      "execution_count": null,
      "outputs": [
        {
          "output_type": "stream",
          "name": "stdout",
          "text": [
            "Mounted at /content/gdrive\n"
          ]
        }
      ]
    },
    {
      "cell_type": "markdown",
      "metadata": {
        "id": "WOQC3pw7_evU"
      },
      "source": [
        "# Quick Data"
      ]
    },
    {
      "cell_type": "markdown",
      "metadata": {
        "id": "TxMT5bj3_evW"
      },
      "source": [
        "Xem nhanh 5 dữ liệu đầu tiên"
      ]
    },
    {
      "cell_type": "code",
      "execution_count": null,
      "metadata": {
        "colab": {
          "base_uri": "https://localhost:8080/"
        },
        "id": "_zwUnRmW_evW",
        "outputId": "a6b60c23-ea73-4f74-c22c-a623eab81479"
      },
      "outputs": [
        {
          "output_type": "execute_result",
          "data": {
            "text/html": [
              "\n",
              "  <div id=\"df-ff8e0373-3620-49eb-a527-c05e27872ac5\">\n",
              "    <div class=\"colab-df-container\">\n",
              "      <div>\n",
              "<style scoped>\n",
              "    .dataframe tbody tr th:only-of-type {\n",
              "        vertical-align: middle;\n",
              "    }\n",
              "\n",
              "    .dataframe tbody tr th {\n",
              "        vertical-align: top;\n",
              "    }\n",
              "\n",
              "    .dataframe thead th {\n",
              "        text-align: right;\n",
              "    }\n",
              "</style>\n",
              "<table border=\"1\" class=\"dataframe\">\n",
              "  <thead>\n",
              "    <tr style=\"text-align: right;\">\n",
              "      <th></th>\n",
              "      <th>url</th>\n",
              "      <th>address</th>\n",
              "      <th>name</th>\n",
              "      <th>online_order</th>\n",
              "      <th>book_table</th>\n",
              "      <th>rate</th>\n",
              "      <th>votes</th>\n",
              "      <th>phone</th>\n",
              "      <th>location</th>\n",
              "      <th>rest_type</th>\n",
              "      <th>dish_liked</th>\n",
              "      <th>cuisines</th>\n",
              "      <th>approx_cost(for two people)</th>\n",
              "      <th>reviews_list</th>\n",
              "      <th>menu_item</th>\n",
              "      <th>listed_in(type)</th>\n",
              "      <th>listed_in(city)</th>\n",
              "    </tr>\n",
              "  </thead>\n",
              "  <tbody>\n",
              "    <tr>\n",
              "      <th>0</th>\n",
              "      <td>https://www.zomato.com/bangalore/jalsa-banasha...</td>\n",
              "      <td>942, 21st Main Road, 2nd Stage, Banashankari, ...</td>\n",
              "      <td>Jalsa</td>\n",
              "      <td>Yes</td>\n",
              "      <td>Yes</td>\n",
              "      <td>4.1/5</td>\n",
              "      <td>775</td>\n",
              "      <td>080 42297555\\r\\n+91 9743772233</td>\n",
              "      <td>Banashankari</td>\n",
              "      <td>Casual Dining</td>\n",
              "      <td>Pasta, Lunch Buffet, Masala Papad, Paneer Laja...</td>\n",
              "      <td>North Indian, Mughlai, Chinese</td>\n",
              "      <td>800</td>\n",
              "      <td>[('Rated 4.0', 'RATED\\n  A beautiful place to ...</td>\n",
              "      <td>[]</td>\n",
              "      <td>Buffet</td>\n",
              "      <td>Banashankari</td>\n",
              "    </tr>\n",
              "    <tr>\n",
              "      <th>1</th>\n",
              "      <td>https://www.zomato.com/bangalore/spice-elephan...</td>\n",
              "      <td>2nd Floor, 80 Feet Road, Near Big Bazaar, 6th ...</td>\n",
              "      <td>Spice Elephant</td>\n",
              "      <td>Yes</td>\n",
              "      <td>No</td>\n",
              "      <td>4.1/5</td>\n",
              "      <td>787</td>\n",
              "      <td>080 41714161</td>\n",
              "      <td>Banashankari</td>\n",
              "      <td>Casual Dining</td>\n",
              "      <td>Momos, Lunch Buffet, Chocolate Nirvana, Thai G...</td>\n",
              "      <td>Chinese, North Indian, Thai</td>\n",
              "      <td>800</td>\n",
              "      <td>[('Rated 4.0', 'RATED\\n  Had been here for din...</td>\n",
              "      <td>[]</td>\n",
              "      <td>Buffet</td>\n",
              "      <td>Banashankari</td>\n",
              "    </tr>\n",
              "    <tr>\n",
              "      <th>2</th>\n",
              "      <td>https://www.zomato.com/SanchurroBangalore?cont...</td>\n",
              "      <td>1112, Next to KIMS Medical College, 17th Cross...</td>\n",
              "      <td>San Churro Cafe</td>\n",
              "      <td>Yes</td>\n",
              "      <td>No</td>\n",
              "      <td>3.8/5</td>\n",
              "      <td>918</td>\n",
              "      <td>+91 9663487993</td>\n",
              "      <td>Banashankari</td>\n",
              "      <td>Cafe, Casual Dining</td>\n",
              "      <td>Churros, Cannelloni, Minestrone Soup, Hot Choc...</td>\n",
              "      <td>Cafe, Mexican, Italian</td>\n",
              "      <td>800</td>\n",
              "      <td>[('Rated 3.0', \"RATED\\n  Ambience is not that ...</td>\n",
              "      <td>[]</td>\n",
              "      <td>Buffet</td>\n",
              "      <td>Banashankari</td>\n",
              "    </tr>\n",
              "    <tr>\n",
              "      <th>3</th>\n",
              "      <td>https://www.zomato.com/bangalore/addhuri-udupi...</td>\n",
              "      <td>1st Floor, Annakuteera, 3rd Stage, Banashankar...</td>\n",
              "      <td>Addhuri Udupi Bhojana</td>\n",
              "      <td>No</td>\n",
              "      <td>No</td>\n",
              "      <td>3.7/5</td>\n",
              "      <td>88</td>\n",
              "      <td>+91 9620009302</td>\n",
              "      <td>Banashankari</td>\n",
              "      <td>Quick Bites</td>\n",
              "      <td>Masala Dosa</td>\n",
              "      <td>South Indian, North Indian</td>\n",
              "      <td>300</td>\n",
              "      <td>[('Rated 4.0', \"RATED\\n  Great food and proper...</td>\n",
              "      <td>[]</td>\n",
              "      <td>Buffet</td>\n",
              "      <td>Banashankari</td>\n",
              "    </tr>\n",
              "    <tr>\n",
              "      <th>4</th>\n",
              "      <td>https://www.zomato.com/bangalore/grand-village...</td>\n",
              "      <td>10, 3rd Floor, Lakshmi Associates, Gandhi Baza...</td>\n",
              "      <td>Grand Village</td>\n",
              "      <td>No</td>\n",
              "      <td>No</td>\n",
              "      <td>3.8/5</td>\n",
              "      <td>166</td>\n",
              "      <td>+91 8026612447\\r\\n+91 9901210005</td>\n",
              "      <td>Basavanagudi</td>\n",
              "      <td>Casual Dining</td>\n",
              "      <td>Panipuri, Gol Gappe</td>\n",
              "      <td>North Indian, Rajasthani</td>\n",
              "      <td>600</td>\n",
              "      <td>[('Rated 4.0', 'RATED\\n  Very good restaurant ...</td>\n",
              "      <td>[]</td>\n",
              "      <td>Buffet</td>\n",
              "      <td>Banashankari</td>\n",
              "    </tr>\n",
              "  </tbody>\n",
              "</table>\n",
              "</div>\n",
              "      <button class=\"colab-df-convert\" onclick=\"convertToInteractive('df-ff8e0373-3620-49eb-a527-c05e27872ac5')\"\n",
              "              title=\"Convert this dataframe to an interactive table.\"\n",
              "              style=\"display:none;\">\n",
              "        \n",
              "  <svg xmlns=\"http://www.w3.org/2000/svg\" height=\"24px\"viewBox=\"0 0 24 24\"\n",
              "       width=\"24px\">\n",
              "    <path d=\"M0 0h24v24H0V0z\" fill=\"none\"/>\n",
              "    <path d=\"M18.56 5.44l.94 2.06.94-2.06 2.06-.94-2.06-.94-.94-2.06-.94 2.06-2.06.94zm-11 1L8.5 8.5l.94-2.06 2.06-.94-2.06-.94L8.5 2.5l-.94 2.06-2.06.94zm10 10l.94 2.06.94-2.06 2.06-.94-2.06-.94-.94-2.06-.94 2.06-2.06.94z\"/><path d=\"M17.41 7.96l-1.37-1.37c-.4-.4-.92-.59-1.43-.59-.52 0-1.04.2-1.43.59L10.3 9.45l-7.72 7.72c-.78.78-.78 2.05 0 2.83L4 21.41c.39.39.9.59 1.41.59.51 0 1.02-.2 1.41-.59l7.78-7.78 2.81-2.81c.8-.78.8-2.07 0-2.86zM5.41 20L4 18.59l7.72-7.72 1.47 1.35L5.41 20z\"/>\n",
              "  </svg>\n",
              "      </button>\n",
              "      \n",
              "  <style>\n",
              "    .colab-df-container {\n",
              "      display:flex;\n",
              "      flex-wrap:wrap;\n",
              "      gap: 12px;\n",
              "    }\n",
              "\n",
              "    .colab-df-convert {\n",
              "      background-color: #E8F0FE;\n",
              "      border: none;\n",
              "      border-radius: 50%;\n",
              "      cursor: pointer;\n",
              "      display: none;\n",
              "      fill: #1967D2;\n",
              "      height: 32px;\n",
              "      padding: 0 0 0 0;\n",
              "      width: 32px;\n",
              "    }\n",
              "\n",
              "    .colab-df-convert:hover {\n",
              "      background-color: #E2EBFA;\n",
              "      box-shadow: 0px 1px 2px rgba(60, 64, 67, 0.3), 0px 1px 3px 1px rgba(60, 64, 67, 0.15);\n",
              "      fill: #174EA6;\n",
              "    }\n",
              "\n",
              "    [theme=dark] .colab-df-convert {\n",
              "      background-color: #3B4455;\n",
              "      fill: #D2E3FC;\n",
              "    }\n",
              "\n",
              "    [theme=dark] .colab-df-convert:hover {\n",
              "      background-color: #434B5C;\n",
              "      box-shadow: 0px 1px 3px 1px rgba(0, 0, 0, 0.15);\n",
              "      filter: drop-shadow(0px 1px 2px rgba(0, 0, 0, 0.3));\n",
              "      fill: #FFFFFF;\n",
              "    }\n",
              "  </style>\n",
              "\n",
              "      <script>\n",
              "        const buttonEl =\n",
              "          document.querySelector('#df-ff8e0373-3620-49eb-a527-c05e27872ac5 button.colab-df-convert');\n",
              "        buttonEl.style.display =\n",
              "          google.colab.kernel.accessAllowed ? 'block' : 'none';\n",
              "\n",
              "        async function convertToInteractive(key) {\n",
              "          const element = document.querySelector('#df-ff8e0373-3620-49eb-a527-c05e27872ac5');\n",
              "          const dataTable =\n",
              "            await google.colab.kernel.invokeFunction('convertToInteractive',\n",
              "                                                     [key], {});\n",
              "          if (!dataTable) return;\n",
              "\n",
              "          const docLinkHtml = 'Like what you see? Visit the ' +\n",
              "            '<a target=\"_blank\" href=https://colab.research.google.com/notebooks/data_table.ipynb>data table notebook</a>'\n",
              "            + ' to learn more about interactive tables.';\n",
              "          element.innerHTML = '';\n",
              "          dataTable['output_type'] = 'display_data';\n",
              "          await google.colab.output.renderOutput(dataTable, element);\n",
              "          const docLink = document.createElement('div');\n",
              "          docLink.innerHTML = docLinkHtml;\n",
              "          element.appendChild(docLink);\n",
              "        }\n",
              "      </script>\n",
              "    </div>\n",
              "  </div>\n",
              "  "
            ],
            "text/plain": [
              "                                                 url  ... listed_in(city)\n",
              "0  https://www.zomato.com/bangalore/jalsa-banasha...  ...    Banashankari\n",
              "1  https://www.zomato.com/bangalore/spice-elephan...  ...    Banashankari\n",
              "2  https://www.zomato.com/SanchurroBangalore?cont...  ...    Banashankari\n",
              "3  https://www.zomato.com/bangalore/addhuri-udupi...  ...    Banashankari\n",
              "4  https://www.zomato.com/bangalore/grand-village...  ...    Banashankari\n",
              "\n",
              "[5 rows x 17 columns]"
            ]
          },
          "metadata": {},
          "execution_count": 3
        }
      ],
      "source": [
        "data = pd.read_csv('/content/gdrive/MyDrive/archive/zomato.csv')\n",
        "data.head()"
      ]
    },
    {
      "cell_type": "markdown",
      "metadata": {
        "id": "HzQSLHVA_evX"
      },
      "source": [
        "show các features"
      ]
    },
    {
      "cell_type": "code",
      "execution_count": null,
      "metadata": {
        "colab": {
          "base_uri": "https://localhost:8080/"
        },
        "id": "B4B0OpmH_evY",
        "outputId": "3afb47ec-ed54-42e0-c4f9-d3755b6987d1"
      },
      "outputs": [
        {
          "output_type": "execute_result",
          "data": {
            "text/plain": [
              "Index(['url', 'address', 'name', 'online_order', 'book_table', 'rate', 'votes',\n",
              "       'phone', 'location', 'rest_type', 'dish_liked', 'cuisines',\n",
              "       'approx_cost(for two people)', 'reviews_list', 'menu_item',\n",
              "       'listed_in(type)', 'listed_in(city)'],\n",
              "      dtype='object')"
            ]
          },
          "metadata": {},
          "execution_count": 4
        }
      ],
      "source": [
        "data.columns"
      ]
    },
    {
      "cell_type": "markdown",
      "metadata": {
        "id": "kSF0Z1Gd_evY"
      },
      "source": [
        "check tổng bộ dữ liệu có null hay không?"
      ]
    },
    {
      "cell_type": "code",
      "execution_count": null,
      "metadata": {
        "colab": {
          "base_uri": "https://localhost:8080/"
        },
        "id": "HrAtp1hr_evZ",
        "outputId": "844238e6-1f77-4519-87ac-07890127399b"
      },
      "outputs": [
        {
          "output_type": "execute_result",
          "data": {
            "text/plain": [
              "url                                0\n",
              "address                            0\n",
              "name                               0\n",
              "online_order                       0\n",
              "book_table                         0\n",
              "rate                            7775\n",
              "votes                              0\n",
              "phone                           1208\n",
              "location                          21\n",
              "rest_type                        227\n",
              "dish_liked                     28078\n",
              "cuisines                          45\n",
              "approx_cost(for two people)      346\n",
              "reviews_list                       0\n",
              "menu_item                          0\n",
              "listed_in(type)                    0\n",
              "listed_in(city)                    0\n",
              "dtype: int64"
            ]
          },
          "metadata": {},
          "execution_count": 5
        }
      ],
      "source": [
        "data.isnull().sum()"
      ]
    },
    {
      "cell_type": "markdown",
      "metadata": {
        "id": "F8G3Md1G_eva"
      },
      "source": [
        "rename lại các tên feature cho dễ xử lý cho các bước tiếp theo"
      ]
    },
    {
      "cell_type": "code",
      "execution_count": null,
      "metadata": {
        "id": "oGzJU4UD_eva"
      },
      "outputs": [],
      "source": [
        "data = data.rename(columns={'approx_cost(for two people)':'cost','listed_in(type)':'type','listed_in(city)':'city'})"
      ]
    },
    {
      "cell_type": "code",
      "execution_count": null,
      "metadata": {
        "colab": {
          "base_uri": "https://localhost:8080/"
        },
        "id": "VXPhVzeu_evb",
        "outputId": "d5683f27-3e83-423b-840b-d08391f9ef9b"
      },
      "outputs": [
        {
          "output_type": "execute_result",
          "data": {
            "text/plain": [
              "array(['Casual Dining', 'Cafe, Casual Dining', 'Quick Bites',\n",
              "       'Casual Dining, Cafe', 'Cafe', 'Quick Bites, Cafe',\n",
              "       'Cafe, Quick Bites', 'Delivery', 'Mess', 'Dessert Parlor',\n",
              "       'Bakery, Dessert Parlor', 'Pub', 'Bakery', 'Takeaway, Delivery',\n",
              "       'Fine Dining', 'Beverage Shop', 'Sweet Shop', 'Bar',\n",
              "       'Beverage Shop, Quick Bites', 'Confectionery',\n",
              "       'Quick Bites, Beverage Shop', 'Dessert Parlor, Sweet Shop',\n",
              "       'Bakery, Quick Bites', 'Sweet Shop, Quick Bites', 'Kiosk',\n",
              "       'Food Truck', 'Quick Bites, Dessert Parlor',\n",
              "       'Beverage Shop, Dessert Parlor', 'Takeaway', 'Pub, Casual Dining',\n",
              "       'Casual Dining, Bar', 'Dessert Parlor, Beverage Shop',\n",
              "       'Quick Bites, Bakery', 'Dessert Parlor, Quick Bites',\n",
              "       'Microbrewery, Casual Dining', 'Lounge', 'Bar, Casual Dining',\n",
              "       'Food Court', 'Cafe, Bakery', nan, 'Dhaba',\n",
              "       'Quick Bites, Sweet Shop', 'Microbrewery',\n",
              "       'Food Court, Quick Bites', 'Pub, Bar', 'Casual Dining, Pub',\n",
              "       'Lounge, Bar', 'Food Court, Dessert Parlor',\n",
              "       'Casual Dining, Sweet Shop', 'Food Court, Casual Dining',\n",
              "       'Casual Dining, Microbrewery', 'Sweet Shop, Dessert Parlor',\n",
              "       'Bakery, Beverage Shop', 'Lounge, Casual Dining',\n",
              "       'Cafe, Food Court', 'Beverage Shop, Cafe', 'Cafe, Dessert Parlor',\n",
              "       'Dessert Parlor, Cafe', 'Dessert Parlor, Bakery',\n",
              "       'Microbrewery, Pub', 'Bakery, Food Court', 'Club',\n",
              "       'Quick Bites, Food Court', 'Bakery, Cafe', 'Bar, Cafe',\n",
              "       'Pub, Cafe', 'Casual Dining, Irani Cafee', 'Fine Dining, Lounge',\n",
              "       'Bar, Quick Bites', 'Bakery, Kiosk', 'Pub, Microbrewery',\n",
              "       'Microbrewery, Lounge', 'Fine Dining, Microbrewery',\n",
              "       'Fine Dining, Bar', 'Mess, Quick Bites', 'Dessert Parlor, Kiosk',\n",
              "       'Bhojanalya', 'Casual Dining, Quick Bites', 'Pop Up', 'Cafe, Bar',\n",
              "       'Casual Dining, Lounge', 'Bakery, Sweet Shop', 'Microbrewery, Bar',\n",
              "       'Cafe, Lounge', 'Bar, Pub', 'Lounge, Cafe', 'Club, Casual Dining',\n",
              "       'Quick Bites, Mess', 'Quick Bites, Meat Shop',\n",
              "       'Quick Bites, Kiosk', 'Lounge, Microbrewery',\n",
              "       'Food Court, Beverage Shop', 'Dessert Parlor, Food Court',\n",
              "       'Bar, Lounge'], dtype=object)"
            ]
          },
          "metadata": {},
          "execution_count": 7
        }
      ],
      "source": [
        "sorted(data)\n",
        "data.rest_type.unique()"
      ]
    },
    {
      "cell_type": "markdown",
      "metadata": {
        "id": "MqaD7O-4_evb"
      },
      "source": [
        "Loại bỏ các dữ liệu null."
      ]
    },
    {
      "cell_type": "code",
      "execution_count": null,
      "metadata": {
        "colab": {
          "base_uri": "https://localhost:8080/"
        },
        "id": "wuF0Omw0_evb",
        "outputId": "a71a7863-870a-4258-c083-95aec8a6eb67"
      },
      "outputs": [
        {
          "output_type": "execute_result",
          "data": {
            "text/plain": [
              "url             0\n",
              "address         0\n",
              "name            0\n",
              "online_order    0\n",
              "book_table      0\n",
              "rate            0\n",
              "votes           0\n",
              "phone           0\n",
              "location        0\n",
              "rest_type       0\n",
              "dish_liked      0\n",
              "cuisines        0\n",
              "cost            0\n",
              "reviews_list    0\n",
              "menu_item       0\n",
              "type            0\n",
              "city            0\n",
              "dtype: int64"
            ]
          },
          "metadata": {},
          "execution_count": 8
        }
      ],
      "source": [
        "data.dropna(inplace=True)\n",
        "data.isnull().sum()"
      ]
    },
    {
      "cell_type": "markdown",
      "metadata": {
        "id": "GW3EwK38_evc"
      },
      "source": [
        "Label Encoder 2 feature có 2 loại đáp án Yes, No giống nhau và chuyển về kiểu float"
      ]
    },
    {
      "cell_type": "code",
      "execution_count": null,
      "metadata": {
        "colab": {
          "base_uri": "https://localhost:8080/"
        },
        "id": "-VG6pBNW_evc",
        "outputId": "229b1c2e-0ef4-45d3-e4f1-db89013402de"
      },
      "outputs": [
        {
          "output_type": "execute_result",
          "data": {
            "text/plain": [
              "0        1\n",
              "1        0\n",
              "2        0\n",
              "3        0\n",
              "4        0\n",
              "        ..\n",
              "51705    1\n",
              "51707    0\n",
              "51708    0\n",
              "51711    0\n",
              "51715    1\n",
              "Name: book_table, Length: 23193, dtype: int64"
            ]
          },
          "metadata": {},
          "execution_count": 9
        }
      ],
      "source": [
        "X = data.copy()\n",
        "\n",
        "le = LabelEncoder()  \n",
        "X.online_order = le.fit_transform(X.online_order)\n",
        "X.book_table = le.fit_transform(X.book_table)\n",
        "X['online_order'].unique()\n",
        "X['book_table'].unique()\n",
        "X.online_order.astype(float)\n",
        "X.book_table.astype(float)\n",
        "X.book_table"
      ]
    },
    {
      "cell_type": "code",
      "execution_count": null,
      "metadata": {
        "colab": {
          "base_uri": "https://localhost:8080/"
        },
        "id": "AHNqLPpC_evd",
        "outputId": "899dd5fb-fea6-4f31-959b-76a8eaf2f6eb"
      },
      "outputs": [
        {
          "output_type": "execute_result",
          "data": {
            "text/plain": [
              "array(['4.1/5', '3.8/5', '3.7/5', '4.6/5', '4.0/5', '4.2/5', '3.9/5',\n",
              "       '3.0/5', '3.6/5', '2.8/5', '4.4/5', '3.1/5', '4.3/5', '2.6/5',\n",
              "       '3.3/5', '3.5/5', '3.8 /5', '3.2/5', '4.5/5', '2.5/5', '2.9/5',\n",
              "       '3.4/5', '2.7/5', '4.7/5', 'NEW', '2.4/5', '2.2/5', '2.3/5',\n",
              "       '4.8/5', '3.9 /5', '4.2 /5', '4.0 /5', '4.1 /5', '2.9 /5',\n",
              "       '2.7 /5', '2.5 /5', '2.6 /5', '4.5 /5', '4.3 /5', '3.7 /5',\n",
              "       '4.4 /5', '4.9/5', '2.1/5', '2.0/5', '1.8/5', '3.4 /5', '3.6 /5',\n",
              "       '3.3 /5', '4.6 /5', '4.9 /5', '3.2 /5', '3.0 /5', '2.8 /5',\n",
              "       '3.5 /5', '3.1 /5', '4.8 /5', '2.3 /5', '4.7 /5', '2.4 /5',\n",
              "       '2.1 /5', '2.2 /5', '2.0 /5', '1.8 /5'], dtype=object)"
            ]
          },
          "metadata": {},
          "execution_count": 10
        }
      ],
      "source": [
        "X.rate.head()\n",
        "X.rate.unique()"
      ]
    },
    {
      "cell_type": "markdown",
      "metadata": {
        "id": "LFcOMi5y_evd"
      },
      "source": [
        "remove /5 từ rate."
      ]
    },
    {
      "cell_type": "code",
      "execution_count": null,
      "metadata": {
        "id": "IsCn_wca_evd"
      },
      "outputs": [],
      "source": [
        "# def handlerate(value):\n",
        "#     if(value=='NEW' or value=='-'):\n",
        "#         return np.nan\n",
        "#     else:\n",
        "#         value = str(value).split('/')\n",
        "#         value = value[0]\n",
        "#         return float(value)\n",
        "    \n",
        "# data['rate'] = data['rate'].apply(handlerate)\n",
        "# data['rate'].head()"
      ]
    },
    {
      "cell_type": "code",
      "execution_count": null,
      "metadata": {
        "colab": {
          "base_uri": "https://localhost:8080/"
        },
        "id": "5HqwngjL_eve",
        "outputId": "2adba5b6-db3e-45b3-cb7f-e994868f34c8"
      },
      "outputs": [
        {
          "output_type": "execute_result",
          "data": {
            "text/plain": [
              "0        4.1\n",
              "1        4.1\n",
              "2        3.8\n",
              "3        3.7\n",
              "4        3.8\n",
              "        ... \n",
              "23041    3.8\n",
              "23042    3.9\n",
              "23043    2.8\n",
              "23044    2.5\n",
              "23045    4.3\n",
              "Name: rate, Length: 23046, dtype: float64"
            ]
          },
          "metadata": {},
          "execution_count": 12
        }
      ],
      "source": [
        "X = X.loc[X.rate !='NEW']\n",
        "\n",
        "X = X.loc[X.rate !='-'].reset_index(drop=True)\n",
        "\n",
        "X.rate= X.rate.astype(str)\n",
        "\n",
        "X.rate=X.rate.apply(lambda x : x.replace('/5',''))\n",
        "X.rate=X.rate.astype(float)\n",
        "X.rate"
      ]
    },
    {
      "cell_type": "code",
      "execution_count": null,
      "metadata": {
        "colab": {
          "base_uri": "https://localhost:8080/"
        },
        "id": "D151aPxv_eve",
        "outputId": "67fa79ff-ea12-4ecc-830d-b4e978a5c9d3"
      },
      "outputs": [
        {
          "output_type": "execute_result",
          "data": {
            "text/plain": [
              "0         800.0\n",
              "1         800.0\n",
              "2         800.0\n",
              "3         300.0\n",
              "4         600.0\n",
              "          ...  \n",
              "23041    1200.0\n",
              "23042    2000.0\n",
              "23043    1200.0\n",
              "23044     800.0\n",
              "23045    2500.0\n",
              "Name: cost, Length: 23046, dtype: float64"
            ]
          },
          "metadata": {},
          "execution_count": 13
        }
      ],
      "source": [
        "X.cost = X.cost.astype(str)\n",
        "X.cost = X.cost.apply(lambda x : x.replace(',',''))\n",
        "X.cost = X.cost.astype(float)\n",
        "X.cost"
      ]
    },
    {
      "cell_type": "code",
      "execution_count": null,
      "metadata": {
        "colab": {
          "base_uri": "https://localhost:8080/"
        },
        "id": "McPDnyCP_eve",
        "outputId": "8edc112c-53b2-4cd0-897d-209e4feeda54"
      },
      "outputs": [
        {
          "output_type": "execute_result",
          "data": {
            "text/plain": [
              "0        775.0\n",
              "1        787.0\n",
              "2        918.0\n",
              "3         88.0\n",
              "4        166.0\n",
              "         ...  \n",
              "23041    128.0\n",
              "23042     77.0\n",
              "23043    161.0\n",
              "23044     81.0\n",
              "23045    236.0\n",
              "Name: votes, Length: 23046, dtype: float64"
            ]
          },
          "metadata": {},
          "execution_count": 14
        }
      ],
      "source": [
        "X.votes.astype(float)"
      ]
    },
    {
      "cell_type": "markdown",
      "metadata": {
        "id": "adyQMikK_eve"
      },
      "source": [
        "Xoá các samples giống nhau."
      ]
    },
    {
      "cell_type": "code",
      "execution_count": null,
      "metadata": {
        "id": "QECLDr6Y_evf"
      },
      "outputs": [],
      "source": [
        "X.drop_duplicates(keep='first',inplace = True)"
      ]
    },
    {
      "cell_type": "code",
      "execution_count": null,
      "metadata": {
        "colab": {
          "base_uri": "https://localhost:8080/"
        },
        "id": "2nxYM71o_evf",
        "outputId": "1f13c14f-e2ca-4162-b634-330149128342"
      },
      "outputs": [
        {
          "output_type": "execute_result",
          "data": {
            "text/html": [
              "\n",
              "  <div id=\"df-f40f9a75-da13-4c20-8f68-c8ff17a13b70\">\n",
              "    <div class=\"colab-df-container\">\n",
              "      <div>\n",
              "<style scoped>\n",
              "    .dataframe tbody tr th:only-of-type {\n",
              "        vertical-align: middle;\n",
              "    }\n",
              "\n",
              "    .dataframe tbody tr th {\n",
              "        vertical-align: top;\n",
              "    }\n",
              "\n",
              "    .dataframe thead th {\n",
              "        text-align: right;\n",
              "    }\n",
              "</style>\n",
              "<table border=\"1\" class=\"dataframe\">\n",
              "  <thead>\n",
              "    <tr style=\"text-align: right;\">\n",
              "      <th></th>\n",
              "      <th>url</th>\n",
              "      <th>address</th>\n",
              "      <th>name</th>\n",
              "      <th>online_order</th>\n",
              "      <th>book_table</th>\n",
              "      <th>rate</th>\n",
              "      <th>votes</th>\n",
              "      <th>phone</th>\n",
              "      <th>location</th>\n",
              "      <th>rest_type</th>\n",
              "      <th>dish_liked</th>\n",
              "      <th>cuisines</th>\n",
              "      <th>cost</th>\n",
              "      <th>reviews_list</th>\n",
              "      <th>menu_item</th>\n",
              "      <th>type</th>\n",
              "      <th>city</th>\n",
              "    </tr>\n",
              "  </thead>\n",
              "  <tbody>\n",
              "    <tr>\n",
              "      <th>0</th>\n",
              "      <td>https://www.zomato.com/bangalore/jalsa-banasha...</td>\n",
              "      <td>942, 21st Main Road, 2nd Stage, Banashankari, ...</td>\n",
              "      <td>Jalsa</td>\n",
              "      <td>1</td>\n",
              "      <td>1</td>\n",
              "      <td>4.1</td>\n",
              "      <td>775</td>\n",
              "      <td>080 42297555\\r\\n+91 9743772233</td>\n",
              "      <td>Banashankari</td>\n",
              "      <td>Casual Dining</td>\n",
              "      <td>Pasta, Lunch Buffet, Masala Papad, Paneer Laja...</td>\n",
              "      <td>North Indian, Mughlai, Chinese</td>\n",
              "      <td>800.0</td>\n",
              "      <td>[('Rated 4.0', 'RATED\\n  A beautiful place to ...</td>\n",
              "      <td>[]</td>\n",
              "      <td>Buffet</td>\n",
              "      <td>Banashankari</td>\n",
              "    </tr>\n",
              "    <tr>\n",
              "      <th>1</th>\n",
              "      <td>https://www.zomato.com/bangalore/spice-elephan...</td>\n",
              "      <td>2nd Floor, 80 Feet Road, Near Big Bazaar, 6th ...</td>\n",
              "      <td>Spice Elephant</td>\n",
              "      <td>1</td>\n",
              "      <td>0</td>\n",
              "      <td>4.1</td>\n",
              "      <td>787</td>\n",
              "      <td>080 41714161</td>\n",
              "      <td>Banashankari</td>\n",
              "      <td>Casual Dining</td>\n",
              "      <td>Momos, Lunch Buffet, Chocolate Nirvana, Thai G...</td>\n",
              "      <td>Chinese, North Indian, Thai</td>\n",
              "      <td>800.0</td>\n",
              "      <td>[('Rated 4.0', 'RATED\\n  Had been here for din...</td>\n",
              "      <td>[]</td>\n",
              "      <td>Buffet</td>\n",
              "      <td>Banashankari</td>\n",
              "    </tr>\n",
              "    <tr>\n",
              "      <th>2</th>\n",
              "      <td>https://www.zomato.com/SanchurroBangalore?cont...</td>\n",
              "      <td>1112, Next to KIMS Medical College, 17th Cross...</td>\n",
              "      <td>San Churro Cafe</td>\n",
              "      <td>1</td>\n",
              "      <td>0</td>\n",
              "      <td>3.8</td>\n",
              "      <td>918</td>\n",
              "      <td>+91 9663487993</td>\n",
              "      <td>Banashankari</td>\n",
              "      <td>Cafe, Casual Dining</td>\n",
              "      <td>Churros, Cannelloni, Minestrone Soup, Hot Choc...</td>\n",
              "      <td>Cafe, Mexican, Italian</td>\n",
              "      <td>800.0</td>\n",
              "      <td>[('Rated 3.0', \"RATED\\n  Ambience is not that ...</td>\n",
              "      <td>[]</td>\n",
              "      <td>Buffet</td>\n",
              "      <td>Banashankari</td>\n",
              "    </tr>\n",
              "    <tr>\n",
              "      <th>3</th>\n",
              "      <td>https://www.zomato.com/bangalore/addhuri-udupi...</td>\n",
              "      <td>1st Floor, Annakuteera, 3rd Stage, Banashankar...</td>\n",
              "      <td>Addhuri Udupi Bhojana</td>\n",
              "      <td>0</td>\n",
              "      <td>0</td>\n",
              "      <td>3.7</td>\n",
              "      <td>88</td>\n",
              "      <td>+91 9620009302</td>\n",
              "      <td>Banashankari</td>\n",
              "      <td>Quick Bites</td>\n",
              "      <td>Masala Dosa</td>\n",
              "      <td>South Indian, North Indian</td>\n",
              "      <td>300.0</td>\n",
              "      <td>[('Rated 4.0', \"RATED\\n  Great food and proper...</td>\n",
              "      <td>[]</td>\n",
              "      <td>Buffet</td>\n",
              "      <td>Banashankari</td>\n",
              "    </tr>\n",
              "    <tr>\n",
              "      <th>4</th>\n",
              "      <td>https://www.zomato.com/bangalore/grand-village...</td>\n",
              "      <td>10, 3rd Floor, Lakshmi Associates, Gandhi Baza...</td>\n",
              "      <td>Grand Village</td>\n",
              "      <td>0</td>\n",
              "      <td>0</td>\n",
              "      <td>3.8</td>\n",
              "      <td>166</td>\n",
              "      <td>+91 8026612447\\r\\n+91 9901210005</td>\n",
              "      <td>Basavanagudi</td>\n",
              "      <td>Casual Dining</td>\n",
              "      <td>Panipuri, Gol Gappe</td>\n",
              "      <td>North Indian, Rajasthani</td>\n",
              "      <td>600.0</td>\n",
              "      <td>[('Rated 4.0', 'RATED\\n  Very good restaurant ...</td>\n",
              "      <td>[]</td>\n",
              "      <td>Buffet</td>\n",
              "      <td>Banashankari</td>\n",
              "    </tr>\n",
              "  </tbody>\n",
              "</table>\n",
              "</div>\n",
              "      <button class=\"colab-df-convert\" onclick=\"convertToInteractive('df-f40f9a75-da13-4c20-8f68-c8ff17a13b70')\"\n",
              "              title=\"Convert this dataframe to an interactive table.\"\n",
              "              style=\"display:none;\">\n",
              "        \n",
              "  <svg xmlns=\"http://www.w3.org/2000/svg\" height=\"24px\"viewBox=\"0 0 24 24\"\n",
              "       width=\"24px\">\n",
              "    <path d=\"M0 0h24v24H0V0z\" fill=\"none\"/>\n",
              "    <path d=\"M18.56 5.44l.94 2.06.94-2.06 2.06-.94-2.06-.94-.94-2.06-.94 2.06-2.06.94zm-11 1L8.5 8.5l.94-2.06 2.06-.94-2.06-.94L8.5 2.5l-.94 2.06-2.06.94zm10 10l.94 2.06.94-2.06 2.06-.94-2.06-.94-.94-2.06-.94 2.06-2.06.94z\"/><path d=\"M17.41 7.96l-1.37-1.37c-.4-.4-.92-.59-1.43-.59-.52 0-1.04.2-1.43.59L10.3 9.45l-7.72 7.72c-.78.78-.78 2.05 0 2.83L4 21.41c.39.39.9.59 1.41.59.51 0 1.02-.2 1.41-.59l7.78-7.78 2.81-2.81c.8-.78.8-2.07 0-2.86zM5.41 20L4 18.59l7.72-7.72 1.47 1.35L5.41 20z\"/>\n",
              "  </svg>\n",
              "      </button>\n",
              "      \n",
              "  <style>\n",
              "    .colab-df-container {\n",
              "      display:flex;\n",
              "      flex-wrap:wrap;\n",
              "      gap: 12px;\n",
              "    }\n",
              "\n",
              "    .colab-df-convert {\n",
              "      background-color: #E8F0FE;\n",
              "      border: none;\n",
              "      border-radius: 50%;\n",
              "      cursor: pointer;\n",
              "      display: none;\n",
              "      fill: #1967D2;\n",
              "      height: 32px;\n",
              "      padding: 0 0 0 0;\n",
              "      width: 32px;\n",
              "    }\n",
              "\n",
              "    .colab-df-convert:hover {\n",
              "      background-color: #E2EBFA;\n",
              "      box-shadow: 0px 1px 2px rgba(60, 64, 67, 0.3), 0px 1px 3px 1px rgba(60, 64, 67, 0.15);\n",
              "      fill: #174EA6;\n",
              "    }\n",
              "\n",
              "    [theme=dark] .colab-df-convert {\n",
              "      background-color: #3B4455;\n",
              "      fill: #D2E3FC;\n",
              "    }\n",
              "\n",
              "    [theme=dark] .colab-df-convert:hover {\n",
              "      background-color: #434B5C;\n",
              "      box-shadow: 0px 1px 3px 1px rgba(0, 0, 0, 0.15);\n",
              "      filter: drop-shadow(0px 1px 2px rgba(0, 0, 0, 0.3));\n",
              "      fill: #FFFFFF;\n",
              "    }\n",
              "  </style>\n",
              "\n",
              "      <script>\n",
              "        const buttonEl =\n",
              "          document.querySelector('#df-f40f9a75-da13-4c20-8f68-c8ff17a13b70 button.colab-df-convert');\n",
              "        buttonEl.style.display =\n",
              "          google.colab.kernel.accessAllowed ? 'block' : 'none';\n",
              "\n",
              "        async function convertToInteractive(key) {\n",
              "          const element = document.querySelector('#df-f40f9a75-da13-4c20-8f68-c8ff17a13b70');\n",
              "          const dataTable =\n",
              "            await google.colab.kernel.invokeFunction('convertToInteractive',\n",
              "                                                     [key], {});\n",
              "          if (!dataTable) return;\n",
              "\n",
              "          const docLinkHtml = 'Like what you see? Visit the ' +\n",
              "            '<a target=\"_blank\" href=https://colab.research.google.com/notebooks/data_table.ipynb>data table notebook</a>'\n",
              "            + ' to learn more about interactive tables.';\n",
              "          element.innerHTML = '';\n",
              "          dataTable['output_type'] = 'display_data';\n",
              "          await google.colab.output.renderOutput(dataTable, element);\n",
              "          const docLink = document.createElement('div');\n",
              "          docLink.innerHTML = docLinkHtml;\n",
              "          element.appendChild(docLink);\n",
              "        }\n",
              "      </script>\n",
              "    </div>\n",
              "  </div>\n",
              "  "
            ],
            "text/plain": [
              "                                                 url  ...          city\n",
              "0  https://www.zomato.com/bangalore/jalsa-banasha...  ...  Banashankari\n",
              "1  https://www.zomato.com/bangalore/spice-elephan...  ...  Banashankari\n",
              "2  https://www.zomato.com/SanchurroBangalore?cont...  ...  Banashankari\n",
              "3  https://www.zomato.com/bangalore/addhuri-udupi...  ...  Banashankari\n",
              "4  https://www.zomato.com/bangalore/grand-village...  ...  Banashankari\n",
              "\n",
              "[5 rows x 17 columns]"
            ]
          },
          "metadata": {},
          "execution_count": 16
        }
      ],
      "source": [
        "X.head()"
      ]
    },
    {
      "cell_type": "markdown",
      "metadata": {
        "id": "kEIGSBJp_evf"
      },
      "source": [
        "# Data visualization"
      ]
    },
    {
      "cell_type": "code",
      "execution_count": null,
      "metadata": {
        "colab": {
          "base_uri": "https://localhost:8080/"
        },
        "id": "ytS_Vc5U_evf",
        "outputId": "6b2a112b-62ed-414c-8dc5-a1a35b628bca"
      },
      "outputs": [
        {
          "output_type": "execute_result",
          "data": {
            "text/plain": [
              "Text(0.5, 1.0, 'Location')"
            ]
          },
          "metadata": {},
          "execution_count": 17
        },
        {
          "output_type": "display_data",
          "data": {
            "image/png": "[encoded data removed]",
            "text/plain": [
              "<Figure size 720x720 with 1 Axes>"
            ]
          },
          "metadata": {
            "needs_background": "light"
          }
        }
      ],
      "source": [
        "sns.countplot(data['city'])\n",
        "sns.countplot(data['city']).set_xticklabels(sns.countplot(data['city']).get_xticklabels(), rotation=90, ha=\"right\")\n",
        "fig = plt.gcf()\n",
        "fig.set_size_inches(10,10)\n",
        "plt.title('Location')"
      ]
    },
    {
      "cell_type": "code",
      "execution_count": null,
      "metadata": {
        "colab": {
          "base_uri": "https://localhost:8080/"
        },
        "id": "y-pGNsFD_evf",
        "outputId": "51073fc3-5ab7-4b00-ddcf-1396e2acec74"
      },
      "outputs": [
        {
          "output_type": "display_data",
          "data": {
            "image/png": "[encoded data removed]",
            "text/plain": [
              "<Figure size 720x720 with 1 Axes>"
            ]
          },
          "metadata": {
            "needs_background": "light"
          }
        }
      ],
      "source": [
        "loc_plt=pd.crosstab(X['rate'],X['city'])\n",
        "loc_plt.plot(kind='bar',stacked=True);\n",
        "fig = plt.gcf()\n",
        "fig.set_size_inches(10,10)\n",
        "plt.title('Location - Rating',fontsize=15,fontweight='bold')\n",
        "plt.ylabel('Location',fontsize=10,fontweight='bold')\n",
        "plt.xlabel('Rating',fontsize=10,fontweight='bold')\n",
        "plt.xticks(fontsize=10,fontweight='bold')\n",
        "plt.yticks(fontsize=10,fontweight='bold')\n",
        "plt.legend().remove()"
      ]
    },
    {
      "cell_type": "code",
      "execution_count": null,
      "metadata": {
        "colab": {
          "base_uri": "https://localhost:8080/"
        },
        "id": "ce6TvDqj_evg",
        "outputId": "d4396ea2-ffc7-4127-c7cd-c185984f527f"
      },
      "outputs": [
        {
          "output_type": "execute_result",
          "data": {
            "text/plain": [
              "(array([   0.,  200.,  400.,  600.,  800., 1000., 1200., 1400., 1600.]),\n",
              " <a list of 9 Text major ticklabel objects>)"
            ]
          },
          "metadata": {},
          "execution_count": 19
        },
        {
          "output_type": "display_data",
          "data": {
            "image/png": "[encoded data removed]",
            "text/plain": [
              "<Figure size 720x720 with 1 Axes>"
            ]
          },
          "metadata": {
            "needs_background": "light"
          }
        }
      ],
      "source": [
        "type_plt=pd.crosstab(X['rate'],data['type'])\n",
        "type_plt.plot(kind='bar',stacked=True);\n",
        "fig = plt.gcf()\n",
        "fig.set_size_inches(10,10)\n",
        "plt.title('Type - Rating',fontsize=15,fontweight='bold')\n",
        "plt.ylabel('Type',fontsize=10,fontweight='bold')\n",
        "plt.xlabel('Rating',fontsize=10,fontweight='bold')\n",
        "plt.xticks(fontsize=10,fontweight='bold')\n",
        "plt.yticks(fontsize=10,fontweight='bold')"
      ]
    },
    {
      "cell_type": "code",
      "execution_count": null,
      "metadata": {
        "colab": {
          "base_uri": "https://localhost:8080/"
        },
        "id": "PUv8m0w0_evg",
        "outputId": "a673f0a6-bd3a-4bc7-f3a5-56f3eb11e56a"
      },
      "outputs": [
        {
          "output_type": "execute_result",
          "data": {
            "text/plain": [
              "<matplotlib.axes._subplots.AxesSubplot at 0x7fa6f9fd7d50>"
            ]
          },
          "metadata": {},
          "execution_count": 20
        },
        {
          "output_type": "display_data",
          "data": {
            "image/png": "[encoded data removed]",
            "text/plain": [
              "<Figure size 432x288 with 1 Axes>"
            ]
          },
          "metadata": {
            "needs_background": "light"
          }
        }
      ],
      "source": [
        "sns.boxplot(x=X.online_order, y =X.rate ,data = X)"
      ]
    },
    {
      "cell_type": "code",
      "execution_count": null,
      "metadata": {
        "colab": {
          "base_uri": "https://localhost:8080/"
        },
        "id": "helZuRT8_evg",
        "outputId": "ffca77b4-d7ad-4ae4-b816-52c8eaa03fec"
      },
      "outputs": [
        {
          "output_type": "execute_result",
          "data": {
            "text/plain": [
              "<matplotlib.axes._subplots.AxesSubplot at 0x7fa6f9c09410>"
            ]
          },
          "metadata": {},
          "execution_count": 21
        },
        {
          "output_type": "display_data",
          "data": {
            "image/png": "[encoded data removed]",
            "text/plain": [
              "<Figure size 432x288 with 1 Axes>"
            ]
          },
          "metadata": {
            "needs_background": "light"
          }
        }
      ],
      "source": [
        "sns.boxplot(x=X.book_table, y =X.rate ,data = X)"
      ]
    },
    {
      "cell_type": "code",
      "execution_count": null,
      "metadata": {
        "colab": {
          "base_uri": "https://localhost:8080/"
        },
        "id": "O5e6HYyn_evg",
        "outputId": "729086eb-2ceb-4736-d95b-5c2265437a43"
      },
      "outputs": [
        {
          "output_type": "execute_result",
          "data": {
            "text/plain": [
              "Text(0.5, 1.0, 'Restaurants delivering online or not')"
            ]
          },
          "metadata": {},
          "execution_count": 22
        },
        {
          "output_type": "display_data",
          "data": {
            "image/png": "[encoded data removed]",
            "text/plain": [
              "<Figure size 720x720 with 1 Axes>"
            ]
          },
          "metadata": {
            "needs_background": "light"
          }
        }
      ],
      "source": [
        "sns.countplot(x='online_order',data=data)\n",
        "fig = plt.gcf()\n",
        "fig.set_size_inches(10,10)\n",
        "plt.title('Restaurants delivering online or not')"
      ]
    },
    {
      "cell_type": "code",
      "execution_count": null,
      "metadata": {
        "colab": {
          "base_uri": "https://localhost:8080/"
        },
        "id": "mW30fW_X_evh",
        "outputId": "8e99af44-456f-425e-a49c-e0466ef7da28"
      },
      "outputs": [
        {
          "output_type": "execute_result",
          "data": {
            "text/plain": [
              "Text(0.5, 1.0, 'Restaurants allowing table booking or not')"
            ]
          },
          "metadata": {},
          "execution_count": 23
        },
        {
          "output_type": "display_data",
          "data": {
            "image/png": "[encoded data removed]",
            "text/plain": [
              "<Figure size 432x432 with 1 Axes>"
            ]
          },
          "metadata": {
            "needs_background": "light"
          }
        }
      ],
      "source": [
        "sns.countplot(data['book_table'])\n",
        "fig = plt.gcf()\n",
        "fig.set_size_inches(6,6)\n",
        "plt.title('Restaurants allowing table booking or not')"
      ]
    },
    {
      "cell_type": "code",
      "execution_count": null,
      "metadata": {
        "colab": {
          "base_uri": "https://localhost:8080/"
        },
        "id": "37CZ-T84_evh",
        "outputId": "d8848d38-7b95-45d4-a73b-d67cc35c5f42"
      },
      "outputs": [
        {
          "output_type": "execute_result",
          "data": {
            "text/plain": [
              "Text(0.5, 1.0, 'Type of Service')"
            ]
          },
          "metadata": {},
          "execution_count": 24
        },
        {
          "output_type": "display_data",
          "data": {
            "image/png": "[encoded data removed]",
            "text/plain": [
              "<Figure size 720x720 with 1 Axes>"
            ]
          },
          "metadata": {
            "needs_background": "light"
          }
        }
      ],
      "source": [
        "sns.countplot(X['type'])\n",
        "sns.countplot(X['type']).set_xticklabels(sns.countplot(X['type']).get_xticklabels(), rotation=90, ha=\"right\")\n",
        "fig = plt.gcf()\n",
        "fig.set_size_inches(10,10)\n",
        "plt.title('Type of Service')"
      ]
    },
    {
      "cell_type": "code",
      "execution_count": null,
      "metadata": {
        "colab": {
          "base_uri": "https://localhost:8080/"
        },
        "id": "fdDCxCv8_evh",
        "outputId": "f25864a7-adbc-4870-ae81-1ac3638a1faa"
      },
      "outputs": [
        {
          "output_type": "execute_result",
          "data": {
            "text/plain": [
              "Text(0.5, 1.0, 'Top 10 restuarants in Bangalore')"
            ]
          },
          "metadata": {},
          "execution_count": 25
        },
        {
          "output_type": "display_data",
          "data": {
            "image/png": "[encoded data removed]",
            "text/plain": [
              "<Figure size 432x288 with 1 Axes>"
            ]
          },
          "metadata": {
            "needs_background": "light"
          }
        }
      ],
      "source": [
        "temp = X.name.value_counts()\n",
        "temp = temp.head(10).plot(kind = 'barh',color='cyan')\n",
        "temp.set_title('Top 10 restuarants in Bangalore')"
      ]
    },
    {
      "cell_type": "code",
      "execution_count": null,
      "metadata": {
        "colab": {
          "base_uri": "https://localhost:8080/"
        },
        "id": "IorBYPs-_evh",
        "outputId": "1071d17f-ea4e-4951-c11b-333c3f31ed42"
      },
      "outputs": [
        {
          "output_type": "execute_result",
          "data": {
            "text/plain": [
              "<matplotlib.axes._subplots.AxesSubplot at 0x7fa6fb06b390>"
            ]
          },
          "metadata": {},
          "execution_count": 26
        },
        {
          "output_type": "display_data",
          "data": {
            "image/png": "[encoded data removed]",
            "text/plain": [
              "<Figure size 432x288 with 1 Axes>"
            ]
          },
          "metadata": {
            "needs_background": "light"
          }
        }
      ],
      "source": [
        "sns.scatterplot(data = X ,x='cost', y='rate',hue='online_order',\n",
        "    sizes=(20, 200), legend=\"full\")"
      ]
    },
    {
      "cell_type": "code",
      "execution_count": null,
      "metadata": {
        "colab": {
          "base_uri": "https://localhost:8080/"
        },
        "id": "RDNFLnRy_evh",
        "outputId": "c9f79e2a-5e95-485a-8b29-a648d011cb17"
      },
      "outputs": [
        {
          "output_type": "execute_result",
          "data": {
            "text/plain": [
              "<matplotlib.axes._subplots.AxesSubplot at 0x7fa6fab92950>"
            ]
          },
          "metadata": {},
          "execution_count": 27
        },
        {
          "output_type": "display_data",
          "data": {
            "image/png": "[encoded data removed]",
            "text/plain": [
              "<Figure size 432x288 with 1 Axes>"
            ]
          },
          "metadata": {
            "needs_background": "light"
          }
        }
      ],
      "source": [
        "sns.scatterplot(data = X ,x='cost', y='rate',hue='book_table',\n",
        "    sizes=(20, 200), legend=\"full\")"
      ]
    },
    {
      "cell_type": "code",
      "execution_count": null,
      "metadata": {
        "colab": {
          "base_uri": "https://localhost:8080/"
        },
        "id": "G-eYGia__evi",
        "outputId": "a225c97a-fee7-441c-b0b5-9b33b2c52329"
      },
      "outputs": [
        {
          "output_type": "execute_result",
          "data": {
            "text/plain": [
              "Text(0.5, 1.0, 'Cost of Restuarant')"
            ]
          },
          "metadata": {},
          "execution_count": 28
        },
        {
          "output_type": "display_data",
          "data": {
            "image/png": "[encoded data removed]",
            "text/plain": [
              "<Figure size 864x864 with 1 Axes>"
            ]
          },
          "metadata": {
            "needs_background": "light"
          }
        }
      ],
      "source": [
        "sns.countplot(X['cost'])\n",
        "sns.countplot(X['cost']).set_xticklabels(sns.countplot(X['cost']).get_xticklabels(), rotation=90, ha=\"right\")\n",
        "fig = plt.gcf()\n",
        "fig.set_size_inches(12,12)\n",
        "plt.title('Cost of Restuarant')"
      ]
    },
    {
      "cell_type": "code",
      "execution_count": null,
      "metadata": {
        "id": "iw1Zxw6e_evi"
      },
      "outputs": [],
      "source": [
        "X = X.drop(['url','address','phone','location','city','menu_item'],axis=1)"
      ]
    },
    {
      "cell_type": "markdown",
      "metadata": {
        "id": "-3NqHHDl_evi"
      },
      "source": [
        "# Key Findings"
      ]
    },
    {
      "cell_type": "code",
      "execution_count": null,
      "metadata": {
        "colab": {
          "base_uri": "https://localhost:8080/"
        },
        "id": "hidtzlCK_evi",
        "outputId": "f51b4179-b176-4658-a739-7ee0a7ad009d"
      },
      "outputs": [
        {
          "output_type": "execute_result",
          "data": {
            "text/html": [
              "\n",
              "  <div id=\"df-dd459d80-0eea-4637-95fa-1aa4c7bed3a9\">\n",
              "    <div class=\"colab-df-container\">\n",
              "      <div>\n",
              "<style scoped>\n",
              "    .dataframe tbody tr th:only-of-type {\n",
              "        vertical-align: middle;\n",
              "    }\n",
              "\n",
              "    .dataframe tbody tr th {\n",
              "        vertical-align: top;\n",
              "    }\n",
              "\n",
              "    .dataframe thead th {\n",
              "        text-align: right;\n",
              "    }\n",
              "</style>\n",
              "<table border=\"1\" class=\"dataframe\">\n",
              "  <thead>\n",
              "    <tr style=\"text-align: right;\">\n",
              "      <th></th>\n",
              "      <th>book_table</th>\n",
              "      <th>rate</th>\n",
              "      <th>votes</th>\n",
              "      <th>cost</th>\n",
              "    </tr>\n",
              "    <tr>\n",
              "      <th>online_order</th>\n",
              "      <th></th>\n",
              "      <th></th>\n",
              "      <th></th>\n",
              "      <th></th>\n",
              "    </tr>\n",
              "  </thead>\n",
              "  <tbody>\n",
              "    <tr>\n",
              "      <th>0</th>\n",
              "      <td>0.357979</td>\n",
              "      <td>3.930227</td>\n",
              "      <td>744.678767</td>\n",
              "      <td>994.039117</td>\n",
              "    </tr>\n",
              "    <tr>\n",
              "      <th>1</th>\n",
              "      <td>0.222434</td>\n",
              "      <td>3.893680</td>\n",
              "      <td>547.026017</td>\n",
              "      <td>655.017488</td>\n",
              "    </tr>\n",
              "  </tbody>\n",
              "</table>\n",
              "</div>\n",
              "      <button class=\"colab-df-convert\" onclick=\"convertToInteractive('df-dd459d80-0eea-4637-95fa-1aa4c7bed3a9')\"\n",
              "              title=\"Convert this dataframe to an interactive table.\"\n",
              "              style=\"display:none;\">\n",
              "        \n",
              "  <svg xmlns=\"http://www.w3.org/2000/svg\" height=\"24px\"viewBox=\"0 0 24 24\"\n",
              "       width=\"24px\">\n",
              "    <path d=\"M0 0h24v24H0V0z\" fill=\"none\"/>\n",
              "    <path d=\"M18.56 5.44l.94 2.06.94-2.06 2.06-.94-2.06-.94-.94-2.06-.94 2.06-2.06.94zm-11 1L8.5 8.5l.94-2.06 2.06-.94-2.06-.94L8.5 2.5l-.94 2.06-2.06.94zm10 10l.94 2.06.94-2.06 2.06-.94-2.06-.94-.94-2.06-.94 2.06-2.06.94z\"/><path d=\"M17.41 7.96l-1.37-1.37c-.4-.4-.92-.59-1.43-.59-.52 0-1.04.2-1.43.59L10.3 9.45l-7.72 7.72c-.78.78-.78 2.05 0 2.83L4 21.41c.39.39.9.59 1.41.59.51 0 1.02-.2 1.41-.59l7.78-7.78 2.81-2.81c.8-.78.8-2.07 0-2.86zM5.41 20L4 18.59l7.72-7.72 1.47 1.35L5.41 20z\"/>\n",
              "  </svg>\n",
              "      </button>\n",
              "      \n",
              "  <style>\n",
              "    .colab-df-container {\n",
              "      display:flex;\n",
              "      flex-wrap:wrap;\n",
              "      gap: 12px;\n",
              "    }\n",
              "\n",
              "    .colab-df-convert {\n",
              "      background-color: #E8F0FE;\n",
              "      border: none;\n",
              "      border-radius: 50%;\n",
              "      cursor: pointer;\n",
              "      display: none;\n",
              "      fill: #1967D2;\n",
              "      height: 32px;\n",
              "      padding: 0 0 0 0;\n",
              "      width: 32px;\n",
              "    }\n",
              "\n",
              "    .colab-df-convert:hover {\n",
              "      background-color: #E2EBFA;\n",
              "      box-shadow: 0px 1px 2px rgba(60, 64, 67, 0.3), 0px 1px 3px 1px rgba(60, 64, 67, 0.15);\n",
              "      fill: #174EA6;\n",
              "    }\n",
              "\n",
              "    [theme=dark] .colab-df-convert {\n",
              "      background-color: #3B4455;\n",
              "      fill: #D2E3FC;\n",
              "    }\n",
              "\n",
              "    [theme=dark] .colab-df-convert:hover {\n",
              "      background-color: #434B5C;\n",
              "      box-shadow: 0px 1px 3px 1px rgba(0, 0, 0, 0.15);\n",
              "      filter: drop-shadow(0px 1px 2px rgba(0, 0, 0, 0.3));\n",
              "      fill: #FFFFFF;\n",
              "    }\n",
              "  </style>\n",
              "\n",
              "      <script>\n",
              "        const buttonEl =\n",
              "          document.querySelector('#df-dd459d80-0eea-4637-95fa-1aa4c7bed3a9 button.colab-df-convert');\n",
              "        buttonEl.style.display =\n",
              "          google.colab.kernel.accessAllowed ? 'block' : 'none';\n",
              "\n",
              "        async function convertToInteractive(key) {\n",
              "          const element = document.querySelector('#df-dd459d80-0eea-4637-95fa-1aa4c7bed3a9');\n",
              "          const dataTable =\n",
              "            await google.colab.kernel.invokeFunction('convertToInteractive',\n",
              "                                                     [key], {});\n",
              "          if (!dataTable) return;\n",
              "\n",
              "          const docLinkHtml = 'Like what you see? Visit the ' +\n",
              "            '<a target=\"_blank\" href=https://colab.research.google.com/notebooks/data_table.ipynb>data table notebook</a>'\n",
              "            + ' to learn more about interactive tables.';\n",
              "          element.innerHTML = '';\n",
              "          dataTable['output_type'] = 'display_data';\n",
              "          await google.colab.output.renderOutput(dataTable, element);\n",
              "          const docLink = document.createElement('div');\n",
              "          docLink.innerHTML = docLinkHtml;\n",
              "          element.appendChild(docLink);\n",
              "        }\n",
              "      </script>\n",
              "    </div>\n",
              "  </div>\n",
              "  "
            ],
            "text/plain": [
              "              book_table      rate       votes        cost\n",
              "online_order                                              \n",
              "0               0.357979  3.930227  744.678767  994.039117\n",
              "1               0.222434  3.893680  547.026017  655.017488"
            ]
          },
          "metadata": {},
          "execution_count": 30
        }
      ],
      "source": [
        "X.groupby('online_order').mean()"
      ]
    },
    {
      "cell_type": "code",
      "execution_count": null,
      "metadata": {
        "colab": {
          "base_uri": "https://localhost:8080/"
        },
        "id": "-D3ObSMR_evi",
        "outputId": "7298a258-c032-4a5e-e8dc-116471854602"
      },
      "outputs": [
        {
          "output_type": "execute_result",
          "data": {
            "text/html": [
              "\n",
              "  <div id=\"df-e0808cd1-da0e-47c6-b561-b6b0b09749e1\">\n",
              "    <div class=\"colab-df-container\">\n",
              "      <div>\n",
              "<style scoped>\n",
              "    .dataframe tbody tr th:only-of-type {\n",
              "        vertical-align: middle;\n",
              "    }\n",
              "\n",
              "    .dataframe tbody tr th {\n",
              "        vertical-align: top;\n",
              "    }\n",
              "\n",
              "    .dataframe thead th {\n",
              "        text-align: right;\n",
              "    }\n",
              "</style>\n",
              "<table border=\"1\" class=\"dataframe\">\n",
              "  <thead>\n",
              "    <tr style=\"text-align: right;\">\n",
              "      <th></th>\n",
              "      <th>online_order</th>\n",
              "      <th>rate</th>\n",
              "      <th>votes</th>\n",
              "      <th>cost</th>\n",
              "    </tr>\n",
              "    <tr>\n",
              "      <th>book_table</th>\n",
              "      <th></th>\n",
              "      <th></th>\n",
              "      <th></th>\n",
              "      <th></th>\n",
              "    </tr>\n",
              "  </thead>\n",
              "  <tbody>\n",
              "    <tr>\n",
              "      <th>0</th>\n",
              "      <td>0.745193</td>\n",
              "      <td>3.813349</td>\n",
              "      <td>387.606057</td>\n",
              "      <td>566.271097</td>\n",
              "    </tr>\n",
              "    <tr>\n",
              "      <th>1</th>\n",
              "      <td>0.600066</td>\n",
              "      <td>4.160636</td>\n",
              "      <td>1216.599735</td>\n",
              "      <td>1283.587154</td>\n",
              "    </tr>\n",
              "  </tbody>\n",
              "</table>\n",
              "</div>\n",
              "      <button class=\"colab-df-convert\" onclick=\"convertToInteractive('df-e0808cd1-da0e-47c6-b561-b6b0b09749e1')\"\n",
              "              title=\"Convert this dataframe to an interactive table.\"\n",
              "              style=\"display:none;\">\n",
              "        \n",
              "  <svg xmlns=\"http://www.w3.org/2000/svg\" height=\"24px\"viewBox=\"0 0 24 24\"\n",
              "       width=\"24px\">\n",
              "    <path d=\"M0 0h24v24H0V0z\" fill=\"none\"/>\n",
              "    <path d=\"M18.56 5.44l.94 2.06.94-2.06 2.06-.94-2.06-.94-.94-2.06-.94 2.06-2.06.94zm-11 1L8.5 8.5l.94-2.06 2.06-.94-2.06-.94L8.5 2.5l-.94 2.06-2.06.94zm10 10l.94 2.06.94-2.06 2.06-.94-2.06-.94-.94-2.06-.94 2.06-2.06.94z\"/><path d=\"M17.41 7.96l-1.37-1.37c-.4-.4-.92-.59-1.43-.59-.52 0-1.04.2-1.43.59L10.3 9.45l-7.72 7.72c-.78.78-.78 2.05 0 2.83L4 21.41c.39.39.9.59 1.41.59.51 0 1.02-.2 1.41-.59l7.78-7.78 2.81-2.81c.8-.78.8-2.07 0-2.86zM5.41 20L4 18.59l7.72-7.72 1.47 1.35L5.41 20z\"/>\n",
              "  </svg>\n",
              "      </button>\n",
              "      \n",
              "  <style>\n",
              "    .colab-df-container {\n",
              "      display:flex;\n",
              "      flex-wrap:wrap;\n",
              "      gap: 12px;\n",
              "    }\n",
              "\n",
              "    .colab-df-convert {\n",
              "      background-color: #E8F0FE;\n",
              "      border: none;\n",
              "      border-radius: 50%;\n",
              "      cursor: pointer;\n",
              "      display: none;\n",
              "      fill: #1967D2;\n",
              "      height: 32px;\n",
              "      padding: 0 0 0 0;\n",
              "      width: 32px;\n",
              "    }\n",
              "\n",
              "    .colab-df-convert:hover {\n",
              "      background-color: #E2EBFA;\n",
              "      box-shadow: 0px 1px 2px rgba(60, 64, 67, 0.3), 0px 1px 3px 1px rgba(60, 64, 67, 0.15);\n",
              "      fill: #174EA6;\n",
              "    }\n",
              "\n",
              "    [theme=dark] .colab-df-convert {\n",
              "      background-color: #3B4455;\n",
              "      fill: #D2E3FC;\n",
              "    }\n",
              "\n",
              "    [theme=dark] .colab-df-convert:hover {\n",
              "      background-color: #434B5C;\n",
              "      box-shadow: 0px 1px 3px 1px rgba(0, 0, 0, 0.15);\n",
              "      filter: drop-shadow(0px 1px 2px rgba(0, 0, 0, 0.3));\n",
              "      fill: #FFFFFF;\n",
              "    }\n",
              "  </style>\n",
              "\n",
              "      <script>\n",
              "        const buttonEl =\n",
              "          document.querySelector('#df-e0808cd1-da0e-47c6-b561-b6b0b09749e1 button.colab-df-convert');\n",
              "        buttonEl.style.display =\n",
              "          google.colab.kernel.accessAllowed ? 'block' : 'none';\n",
              "\n",
              "        async function convertToInteractive(key) {\n",
              "          const element = document.querySelector('#df-e0808cd1-da0e-47c6-b561-b6b0b09749e1');\n",
              "          const dataTable =\n",
              "            await google.colab.kernel.invokeFunction('convertToInteractive',\n",
              "                                                     [key], {});\n",
              "          if (!dataTable) return;\n",
              "\n",
              "          const docLinkHtml = 'Like what you see? Visit the ' +\n",
              "            '<a target=\"_blank\" href=https://colab.research.google.com/notebooks/data_table.ipynb>data table notebook</a>'\n",
              "            + ' to learn more about interactive tables.';\n",
              "          element.innerHTML = '';\n",
              "          dataTable['output_type'] = 'display_data';\n",
              "          await google.colab.output.renderOutput(dataTable, element);\n",
              "          const docLink = document.createElement('div');\n",
              "          docLink.innerHTML = docLinkHtml;\n",
              "          element.appendChild(docLink);\n",
              "        }\n",
              "      </script>\n",
              "    </div>\n",
              "  </div>\n",
              "  "
            ],
            "text/plain": [
              "            online_order      rate        votes         cost\n",
              "book_table                                                  \n",
              "0               0.745193  3.813349   387.606057   566.271097\n",
              "1               0.600066  4.160636  1216.599735  1283.587154"
            ]
          },
          "metadata": {},
          "execution_count": 31
        }
      ],
      "source": [
        "X.groupby('book_table').mean()"
      ]
    },
    {
      "cell_type": "code",
      "execution_count": null,
      "metadata": {
        "id": "Xp2ya4yp_evi"
      },
      "outputs": [],
      "source": [
        "# for column in X.columns[~X.columns.isin(['rate', 'cost', 'votes'])]:\n",
        "#     print(pd.factorize(X[column])[0])\n",
        "#     print('===============')"
      ]
    },
    {
      "cell_type": "code",
      "execution_count": null,
      "metadata": {
        "colab": {
          "base_uri": "https://localhost:8080/"
        },
        "id": "5fSRKmku_evj",
        "outputId": "98098e76-0d1b-48e1-f81e-df14c12db743"
      },
      "outputs": [
        {
          "output_type": "execute_result",
          "data": {
            "text/html": [
              "\n",
              "  <div id=\"df-dcf67174-a9f0-44c8-ab8c-75baba02ab9e\">\n",
              "    <div class=\"colab-df-container\">\n",
              "      <div>\n",
              "<style scoped>\n",
              "    .dataframe tbody tr th:only-of-type {\n",
              "        vertical-align: middle;\n",
              "    }\n",
              "\n",
              "    .dataframe tbody tr th {\n",
              "        vertical-align: top;\n",
              "    }\n",
              "\n",
              "    .dataframe thead th {\n",
              "        text-align: right;\n",
              "    }\n",
              "</style>\n",
              "<table border=\"1\" class=\"dataframe\">\n",
              "  <thead>\n",
              "    <tr style=\"text-align: right;\">\n",
              "      <th></th>\n",
              "      <th>name</th>\n",
              "      <th>online_order</th>\n",
              "      <th>book_table</th>\n",
              "      <th>rate</th>\n",
              "      <th>votes</th>\n",
              "      <th>rest_type</th>\n",
              "      <th>dish_liked</th>\n",
              "      <th>cuisines</th>\n",
              "      <th>cost</th>\n",
              "      <th>reviews_list</th>\n",
              "      <th>type</th>\n",
              "    </tr>\n",
              "  </thead>\n",
              "  <tbody>\n",
              "    <tr>\n",
              "      <th>0</th>\n",
              "      <td>0</td>\n",
              "      <td>0</td>\n",
              "      <td>0</td>\n",
              "      <td>4.1</td>\n",
              "      <td>775</td>\n",
              "      <td>0</td>\n",
              "      <td>0</td>\n",
              "      <td>0</td>\n",
              "      <td>800.0</td>\n",
              "      <td>0</td>\n",
              "      <td>0</td>\n",
              "    </tr>\n",
              "    <tr>\n",
              "      <th>1</th>\n",
              "      <td>1</td>\n",
              "      <td>0</td>\n",
              "      <td>1</td>\n",
              "      <td>4.1</td>\n",
              "      <td>787</td>\n",
              "      <td>0</td>\n",
              "      <td>1</td>\n",
              "      <td>1</td>\n",
              "      <td>800.0</td>\n",
              "      <td>1</td>\n",
              "      <td>0</td>\n",
              "    </tr>\n",
              "    <tr>\n",
              "      <th>2</th>\n",
              "      <td>2</td>\n",
              "      <td>0</td>\n",
              "      <td>1</td>\n",
              "      <td>3.8</td>\n",
              "      <td>918</td>\n",
              "      <td>1</td>\n",
              "      <td>2</td>\n",
              "      <td>2</td>\n",
              "      <td>800.0</td>\n",
              "      <td>2</td>\n",
              "      <td>0</td>\n",
              "    </tr>\n",
              "    <tr>\n",
              "      <th>3</th>\n",
              "      <td>3</td>\n",
              "      <td>1</td>\n",
              "      <td>1</td>\n",
              "      <td>3.7</td>\n",
              "      <td>88</td>\n",
              "      <td>2</td>\n",
              "      <td>3</td>\n",
              "      <td>3</td>\n",
              "      <td>300.0</td>\n",
              "      <td>3</td>\n",
              "      <td>0</td>\n",
              "    </tr>\n",
              "    <tr>\n",
              "      <th>4</th>\n",
              "      <td>4</td>\n",
              "      <td>1</td>\n",
              "      <td>1</td>\n",
              "      <td>3.8</td>\n",
              "      <td>166</td>\n",
              "      <td>0</td>\n",
              "      <td>4</td>\n",
              "      <td>4</td>\n",
              "      <td>600.0</td>\n",
              "      <td>4</td>\n",
              "      <td>0</td>\n",
              "    </tr>\n",
              "    <tr>\n",
              "      <th>...</th>\n",
              "      <td>...</td>\n",
              "      <td>...</td>\n",
              "      <td>...</td>\n",
              "      <td>...</td>\n",
              "      <td>...</td>\n",
              "      <td>...</td>\n",
              "      <td>...</td>\n",
              "      <td>...</td>\n",
              "      <td>...</td>\n",
              "      <td>...</td>\n",
              "      <td>...</td>\n",
              "    </tr>\n",
              "    <tr>\n",
              "      <th>23041</th>\n",
              "      <td>1484</td>\n",
              "      <td>0</td>\n",
              "      <td>0</td>\n",
              "      <td>3.8</td>\n",
              "      <td>128</td>\n",
              "      <td>33</td>\n",
              "      <td>1780</td>\n",
              "      <td>852</td>\n",
              "      <td>1200.0</td>\n",
              "      <td>2445</td>\n",
              "      <td>6</td>\n",
              "    </tr>\n",
              "    <tr>\n",
              "      <th>23042</th>\n",
              "      <td>1310</td>\n",
              "      <td>1</td>\n",
              "      <td>1</td>\n",
              "      <td>3.9</td>\n",
              "      <td>77</td>\n",
              "      <td>58</td>\n",
              "      <td>55</td>\n",
              "      <td>161</td>\n",
              "      <td>2000.0</td>\n",
              "      <td>2180</td>\n",
              "      <td>6</td>\n",
              "    </tr>\n",
              "    <tr>\n",
              "      <th>23043</th>\n",
              "      <td>1312</td>\n",
              "      <td>1</td>\n",
              "      <td>1</td>\n",
              "      <td>2.8</td>\n",
              "      <td>161</td>\n",
              "      <td>15</td>\n",
              "      <td>1555</td>\n",
              "      <td>774</td>\n",
              "      <td>1200.0</td>\n",
              "      <td>2182</td>\n",
              "      <td>6</td>\n",
              "    </tr>\n",
              "    <tr>\n",
              "      <th>23044</th>\n",
              "      <td>840</td>\n",
              "      <td>1</td>\n",
              "      <td>1</td>\n",
              "      <td>2.5</td>\n",
              "      <td>81</td>\n",
              "      <td>15</td>\n",
              "      <td>5144</td>\n",
              "      <td>501</td>\n",
              "      <td>800.0</td>\n",
              "      <td>13897</td>\n",
              "      <td>6</td>\n",
              "    </tr>\n",
              "    <tr>\n",
              "      <th>23045</th>\n",
              "      <td>3140</td>\n",
              "      <td>1</td>\n",
              "      <td>0</td>\n",
              "      <td>4.3</td>\n",
              "      <td>236</td>\n",
              "      <td>10</td>\n",
              "      <td>5140</td>\n",
              "      <td>161</td>\n",
              "      <td>2500.0</td>\n",
              "      <td>13873</td>\n",
              "      <td>6</td>\n",
              "    </tr>\n",
              "  </tbody>\n",
              "</table>\n",
              "<p>23046 rows × 11 columns</p>\n",
              "</div>\n",
              "      <button class=\"colab-df-convert\" onclick=\"convertToInteractive('df-dcf67174-a9f0-44c8-ab8c-75baba02ab9e')\"\n",
              "              title=\"Convert this dataframe to an interactive table.\"\n",
              "              style=\"display:none;\">\n",
              "        \n",
              "  <svg xmlns=\"http://www.w3.org/2000/svg\" height=\"24px\"viewBox=\"0 0 24 24\"\n",
              "       width=\"24px\">\n",
              "    <path d=\"M0 0h24v24H0V0z\" fill=\"none\"/>\n",
              "    <path d=\"M18.56 5.44l.94 2.06.94-2.06 2.06-.94-2.06-.94-.94-2.06-.94 2.06-2.06.94zm-11 1L8.5 8.5l.94-2.06 2.06-.94-2.06-.94L8.5 2.5l-.94 2.06-2.06.94zm10 10l.94 2.06.94-2.06 2.06-.94-2.06-.94-.94-2.06-.94 2.06-2.06.94z\"/><path d=\"M17.41 7.96l-1.37-1.37c-.4-.4-.92-.59-1.43-.59-.52 0-1.04.2-1.43.59L10.3 9.45l-7.72 7.72c-.78.78-.78 2.05 0 2.83L4 21.41c.39.39.9.59 1.41.59.51 0 1.02-.2 1.41-.59l7.78-7.78 2.81-2.81c.8-.78.8-2.07 0-2.86zM5.41 20L4 18.59l7.72-7.72 1.47 1.35L5.41 20z\"/>\n",
              "  </svg>\n",
              "      </button>\n",
              "      \n",
              "  <style>\n",
              "    .colab-df-container {\n",
              "      display:flex;\n",
              "      flex-wrap:wrap;\n",
              "      gap: 12px;\n",
              "    }\n",
              "\n",
              "    .colab-df-convert {\n",
              "      background-color: #E8F0FE;\n",
              "      border: none;\n",
              "      border-radius: 50%;\n",
              "      cursor: pointer;\n",
              "      display: none;\n",
              "      fill: #1967D2;\n",
              "      height: 32px;\n",
              "      padding: 0 0 0 0;\n",
              "      width: 32px;\n",
              "    }\n",
              "\n",
              "    .colab-df-convert:hover {\n",
              "      background-color: #E2EBFA;\n",
              "      box-shadow: 0px 1px 2px rgba(60, 64, 67, 0.3), 0px 1px 3px 1px rgba(60, 64, 67, 0.15);\n",
              "      fill: #174EA6;\n",
              "    }\n",
              "\n",
              "    [theme=dark] .colab-df-convert {\n",
              "      background-color: #3B4455;\n",
              "      fill: #D2E3FC;\n",
              "    }\n",
              "\n",
              "    [theme=dark] .colab-df-convert:hover {\n",
              "      background-color: #434B5C;\n",
              "      box-shadow: 0px 1px 3px 1px rgba(0, 0, 0, 0.15);\n",
              "      filter: drop-shadow(0px 1px 2px rgba(0, 0, 0, 0.3));\n",
              "      fill: #FFFFFF;\n",
              "    }\n",
              "  </style>\n",
              "\n",
              "      <script>\n",
              "        const buttonEl =\n",
              "          document.querySelector('#df-dcf67174-a9f0-44c8-ab8c-75baba02ab9e button.colab-df-convert');\n",
              "        buttonEl.style.display =\n",
              "          google.colab.kernel.accessAllowed ? 'block' : 'none';\n",
              "\n",
              "        async function convertToInteractive(key) {\n",
              "          const element = document.querySelector('#df-dcf67174-a9f0-44c8-ab8c-75baba02ab9e');\n",
              "          const dataTable =\n",
              "            await google.colab.kernel.invokeFunction('convertToInteractive',\n",
              "                                                     [key], {});\n",
              "          if (!dataTable) return;\n",
              "\n",
              "          const docLinkHtml = 'Like what you see? Visit the ' +\n",
              "            '<a target=\"_blank\" href=https://colab.research.google.com/notebooks/data_table.ipynb>data table notebook</a>'\n",
              "            + ' to learn more about interactive tables.';\n",
              "          element.innerHTML = '';\n",
              "          dataTable['output_type'] = 'display_data';\n",
              "          await google.colab.output.renderOutput(dataTable, element);\n",
              "          const docLink = document.createElement('div');\n",
              "          docLink.innerHTML = docLinkHtml;\n",
              "          element.appendChild(docLink);\n",
              "        }\n",
              "      </script>\n",
              "    </div>\n",
              "  </div>\n",
              "  "
            ],
            "text/plain": [
              "       name  online_order  book_table  ...    cost  reviews_list  type\n",
              "0         0             0           0  ...   800.0             0     0\n",
              "1         1             0           1  ...   800.0             1     0\n",
              "2         2             0           1  ...   800.0             2     0\n",
              "3         3             1           1  ...   300.0             3     0\n",
              "4         4             1           1  ...   600.0             4     0\n",
              "...     ...           ...         ...  ...     ...           ...   ...\n",
              "23041  1484             0           0  ...  1200.0          2445     6\n",
              "23042  1310             1           1  ...  2000.0          2180     6\n",
              "23043  1312             1           1  ...  1200.0          2182     6\n",
              "23044   840             1           1  ...   800.0         13897     6\n",
              "23045  3140             1           0  ...  2500.0         13873     6\n",
              "\n",
              "[23046 rows x 11 columns]"
            ]
          },
          "metadata": {},
          "execution_count": 33
        }
      ],
      "source": [
        "def Encode(X):\n",
        "    for column in X.columns[~X.columns.isin(['rate', 'cost', 'votes'])]:\n",
        "        X[column] = pd.factorize(X[column])[0]\n",
        "    return X\n",
        "\n",
        "enc = Encode(X.copy())\n",
        "enc"
      ]
    },
    {
      "cell_type": "markdown",
      "metadata": {
        "id": "cjPUsD9T_evj"
      },
      "source": [
        "# Standardizing the data"
      ]
    },
    {
      "cell_type": "code",
      "execution_count": null,
      "metadata": {
        "id": "RSQA3kAz_evj"
      },
      "outputs": [],
      "source": [
        "scaler = StandardScaler()"
      ]
    },
    {
      "cell_type": "code",
      "execution_count": null,
      "metadata": {
        "id": "NdA5YZoH_evj"
      },
      "outputs": [],
      "source": [
        "x_fit=scaler.fit_transform(enc)"
      ]
    },
    {
      "cell_type": "code",
      "execution_count": null,
      "metadata": {
        "colab": {
          "base_uri": "https://localhost:8080/"
        },
        "id": "2nKA12Gs_evj",
        "outputId": "8b28376b-92ba-4a31-cc62-d383af5de028"
      },
      "outputs": [
        {
          "output_type": "execute_result",
          "data": {
            "text/html": [
              "\n",
              "  <div id=\"df-efaeba9b-d98c-4014-85a0-6a888dd8b327\">\n",
              "    <div class=\"colab-df-container\">\n",
              "      <div>\n",
              "<style scoped>\n",
              "    .dataframe tbody tr th:only-of-type {\n",
              "        vertical-align: middle;\n",
              "    }\n",
              "\n",
              "    .dataframe tbody tr th {\n",
              "        vertical-align: top;\n",
              "    }\n",
              "\n",
              "    .dataframe thead th {\n",
              "        text-align: right;\n",
              "    }\n",
              "</style>\n",
              "<table border=\"1\" class=\"dataframe\">\n",
              "  <thead>\n",
              "    <tr style=\"text-align: right;\">\n",
              "      <th></th>\n",
              "      <th>name</th>\n",
              "      <th>online_order</th>\n",
              "      <th>book_table</th>\n",
              "      <th>rate</th>\n",
              "      <th>votes</th>\n",
              "      <th>rest_type</th>\n",
              "      <th>dish_liked</th>\n",
              "      <th>cuisines</th>\n",
              "      <th>cost</th>\n",
              "      <th>reviews_list</th>\n",
              "      <th>type</th>\n",
              "    </tr>\n",
              "  </thead>\n",
              "  <tbody>\n",
              "    <tr>\n",
              "      <th>0</th>\n",
              "      <td>-1.498317</td>\n",
              "      <td>-0.643526</td>\n",
              "      <td>-1.677776</td>\n",
              "      <td>0.458813</td>\n",
              "      <td>0.152229</td>\n",
              "      <td>-0.624891</td>\n",
              "      <td>-1.519327</td>\n",
              "      <td>-1.068466</td>\n",
              "      <td>0.087628</td>\n",
              "      <td>-1.473825</td>\n",
              "      <td>-2.240464</td>\n",
              "    </tr>\n",
              "    <tr>\n",
              "      <th>1</th>\n",
              "      <td>-1.497063</td>\n",
              "      <td>-0.643526</td>\n",
              "      <td>0.596027</td>\n",
              "      <td>0.458813</td>\n",
              "      <td>0.162968</td>\n",
              "      <td>-0.624891</td>\n",
              "      <td>-1.518592</td>\n",
              "      <td>-1.066135</td>\n",
              "      <td>0.087628</td>\n",
              "      <td>-1.473584</td>\n",
              "      <td>-2.240464</td>\n",
              "    </tr>\n",
              "    <tr>\n",
              "      <th>2</th>\n",
              "      <td>-1.495809</td>\n",
              "      <td>-0.643526</td>\n",
              "      <td>0.596027</td>\n",
              "      <td>-0.244825</td>\n",
              "      <td>0.280211</td>\n",
              "      <td>-0.545131</td>\n",
              "      <td>-1.517857</td>\n",
              "      <td>-1.063804</td>\n",
              "      <td>0.087628</td>\n",
              "      <td>-1.473342</td>\n",
              "      <td>-2.240464</td>\n",
              "    </tr>\n",
              "    <tr>\n",
              "      <th>3</th>\n",
              "      <td>-1.494555</td>\n",
              "      <td>1.553940</td>\n",
              "      <td>0.596027</td>\n",
              "      <td>-0.479371</td>\n",
              "      <td>-0.462623</td>\n",
              "      <td>-0.465371</td>\n",
              "      <td>-1.517122</td>\n",
              "      <td>-1.061473</td>\n",
              "      <td>-0.871095</td>\n",
              "      <td>-1.473101</td>\n",
              "      <td>-2.240464</td>\n",
              "    </tr>\n",
              "    <tr>\n",
              "      <th>4</th>\n",
              "      <td>-1.493301</td>\n",
              "      <td>1.553940</td>\n",
              "      <td>0.596027</td>\n",
              "      <td>-0.244825</td>\n",
              "      <td>-0.392815</td>\n",
              "      <td>-0.624891</td>\n",
              "      <td>-1.516387</td>\n",
              "      <td>-1.059142</td>\n",
              "      <td>-0.295861</td>\n",
              "      <td>-1.472859</td>\n",
              "      <td>-2.240464</td>\n",
              "    </tr>\n",
              "  </tbody>\n",
              "</table>\n",
              "</div>\n",
              "      <button class=\"colab-df-convert\" onclick=\"convertToInteractive('df-efaeba9b-d98c-4014-85a0-6a888dd8b327')\"\n",
              "              title=\"Convert this dataframe to an interactive table.\"\n",
              "              style=\"display:none;\">\n",
              "        \n",
              "  <svg xmlns=\"http://www.w3.org/2000/svg\" height=\"24px\"viewBox=\"0 0 24 24\"\n",
              "       width=\"24px\">\n",
              "    <path d=\"M0 0h24v24H0V0z\" fill=\"none\"/>\n",
              "    <path d=\"M18.56 5.44l.94 2.06.94-2.06 2.06-.94-2.06-.94-.94-2.06-.94 2.06-2.06.94zm-11 1L8.5 8.5l.94-2.06 2.06-.94-2.06-.94L8.5 2.5l-.94 2.06-2.06.94zm10 10l.94 2.06.94-2.06 2.06-.94-2.06-.94-.94-2.06-.94 2.06-2.06.94z\"/><path d=\"M17.41 7.96l-1.37-1.37c-.4-.4-.92-.59-1.43-.59-.52 0-1.04.2-1.43.59L10.3 9.45l-7.72 7.72c-.78.78-.78 2.05 0 2.83L4 21.41c.39.39.9.59 1.41.59.51 0 1.02-.2 1.41-.59l7.78-7.78 2.81-2.81c.8-.78.8-2.07 0-2.86zM5.41 20L4 18.59l7.72-7.72 1.47 1.35L5.41 20z\"/>\n",
              "  </svg>\n",
              "      </button>\n",
              "      \n",
              "  <style>\n",
              "    .colab-df-container {\n",
              "      display:flex;\n",
              "      flex-wrap:wrap;\n",
              "      gap: 12px;\n",
              "    }\n",
              "\n",
              "    .colab-df-convert {\n",
              "      background-color: #E8F0FE;\n",
              "      border: none;\n",
              "      border-radius: 50%;\n",
              "      cursor: pointer;\n",
              "      display: none;\n",
              "      fill: #1967D2;\n",
              "      height: 32px;\n",
              "      padding: 0 0 0 0;\n",
              "      width: 32px;\n",
              "    }\n",
              "\n",
              "    .colab-df-convert:hover {\n",
              "      background-color: #E2EBFA;\n",
              "      box-shadow: 0px 1px 2px rgba(60, 64, 67, 0.3), 0px 1px 3px 1px rgba(60, 64, 67, 0.15);\n",
              "      fill: #174EA6;\n",
              "    }\n",
              "\n",
              "    [theme=dark] .colab-df-convert {\n",
              "      background-color: #3B4455;\n",
              "      fill: #D2E3FC;\n",
              "    }\n",
              "\n",
              "    [theme=dark] .colab-df-convert:hover {\n",
              "      background-color: #434B5C;\n",
              "      box-shadow: 0px 1px 3px 1px rgba(0, 0, 0, 0.15);\n",
              "      filter: drop-shadow(0px 1px 2px rgba(0, 0, 0, 0.3));\n",
              "      fill: #FFFFFF;\n",
              "    }\n",
              "  </style>\n",
              "\n",
              "      <script>\n",
              "        const buttonEl =\n",
              "          document.querySelector('#df-efaeba9b-d98c-4014-85a0-6a888dd8b327 button.colab-df-convert');\n",
              "        buttonEl.style.display =\n",
              "          google.colab.kernel.accessAllowed ? 'block' : 'none';\n",
              "\n",
              "        async function convertToInteractive(key) {\n",
              "          const element = document.querySelector('#df-efaeba9b-d98c-4014-85a0-6a888dd8b327');\n",
              "          const dataTable =\n",
              "            await google.colab.kernel.invokeFunction('convertToInteractive',\n",
              "                                                     [key], {});\n",
              "          if (!dataTable) return;\n",
              "\n",
              "          const docLinkHtml = 'Like what you see? Visit the ' +\n",
              "            '<a target=\"_blank\" href=https://colab.research.google.com/notebooks/data_table.ipynb>data table notebook</a>'\n",
              "            + ' to learn more about interactive tables.';\n",
              "          element.innerHTML = '';\n",
              "          dataTable['output_type'] = 'display_data';\n",
              "          await google.colab.output.renderOutput(dataTable, element);\n",
              "          const docLink = document.createElement('div');\n",
              "          docLink.innerHTML = docLinkHtml;\n",
              "          element.appendChild(docLink);\n",
              "        }\n",
              "      </script>\n",
              "    </div>\n",
              "  </div>\n",
              "  "
            ],
            "text/plain": [
              "       name  online_order  book_table  ...      cost  reviews_list      type\n",
              "0 -1.498317     -0.643526   -1.677776  ...  0.087628     -1.473825 -2.240464\n",
              "1 -1.497063     -0.643526    0.596027  ...  0.087628     -1.473584 -2.240464\n",
              "2 -1.495809     -0.643526    0.596027  ...  0.087628     -1.473342 -2.240464\n",
              "3 -1.494555      1.553940    0.596027  ... -0.871095     -1.473101 -2.240464\n",
              "4 -1.493301      1.553940    0.596027  ... -0.295861     -1.472859 -2.240464\n",
              "\n",
              "[5 rows x 11 columns]"
            ]
          },
          "metadata": {},
          "execution_count": 36
        }
      ],
      "source": [
        "enc=pd.DataFrame(x_fit,columns=enc.columns)\n",
        "enc.head()"
      ]
    },
    {
      "cell_type": "code",
      "execution_count": null,
      "metadata": {
        "colab": {
          "base_uri": "https://localhost:8080/"
        },
        "id": "ae-I6AoN_evj",
        "outputId": "9bef1a58-f17c-4cb7-8ff8-82b13e879757"
      },
      "outputs": [
        {
          "output_type": "stream",
          "name": "stdout",
          "text": [
            "<class 'pandas.core.frame.DataFrame'>\n",
            "RangeIndex: 23046 entries, 0 to 23045\n",
            "Data columns (total 11 columns):\n",
            " #   Column        Non-Null Count  Dtype  \n",
            "---  ------        --------------  -----  \n",
            " 0   name          23046 non-null  float64\n",
            " 1   online_order  23046 non-null  float64\n",
            " 2   book_table    23046 non-null  float64\n",
            " 3   rate          23046 non-null  float64\n",
            " 4   votes         23046 non-null  float64\n",
            " 5   rest_type     23046 non-null  float64\n",
            " 6   dish_liked    23046 non-null  float64\n",
            " 7   cuisines      23046 non-null  float64\n",
            " 8   cost          23046 non-null  float64\n",
            " 9   reviews_list  23046 non-null  float64\n",
            " 10  type          23046 non-null  float64\n",
            "dtypes: float64(11)\n",
            "memory usage: 1.9 MB\n"
          ]
        }
      ],
      "source": [
        "enc.info()"
      ]
    },
    {
      "cell_type": "markdown",
      "metadata": {
        "id": "Vm83ycUD_evj"
      },
      "source": [
        "# Correlation between different variables"
      ]
    },
    {
      "cell_type": "code",
      "execution_count": null,
      "metadata": {
        "colab": {
          "base_uri": "https://localhost:8080/"
        },
        "id": "2sbW_jh-_evk",
        "outputId": "45fd750c-e89d-4a05-bca8-164338c7ba04"
      },
      "outputs": [
        {
          "output_type": "execute_result",
          "data": {
            "text/plain": [
              "Index(['name', 'online_order', 'book_table', 'rate', 'votes', 'rest_type',\n",
              "       'dish_liked', 'cuisines', 'cost', 'reviews_list', 'type'],\n",
              "      dtype='object')"
            ]
          },
          "metadata": {},
          "execution_count": 38
        },
        {
          "output_type": "display_data",
          "data": {
            "image/png": "[encoded data removed]",
            "text/plain": [
              "<Figure size 1080x576 with 2 Axes>"
            ]
          },
          "metadata": {
            "needs_background": "light"
          }
        }
      ],
      "source": [
        "corr = enc.corr(method='kendall')\n",
        "plt.figure(figsize=(15,8))\n",
        "sns.heatmap(corr, annot=True)\n",
        "enc.columns"
      ]
    },
    {
      "cell_type": "markdown",
      "metadata": {
        "id": "-VCUZpIW_evk"
      },
      "source": [
        "# Splitting the dataset\n"
      ]
    },
    {
      "cell_type": "code",
      "execution_count": null,
      "metadata": {
        "colab": {
          "base_uri": "https://localhost:8080/"
        },
        "id": "rTRCtqg-_evk",
        "outputId": "5e2d057f-4e06-41a8-cb32-e877e9662351"
      },
      "outputs": [
        {
          "output_type": "execute_result",
          "data": {
            "text/html": [
              "\n",
              "  <div id=\"df-4d1bc901-ba85-4d33-9d5f-43bc339af35f\">\n",
              "    <div class=\"colab-df-container\">\n",
              "      <div>\n",
              "<style scoped>\n",
              "    .dataframe tbody tr th:only-of-type {\n",
              "        vertical-align: middle;\n",
              "    }\n",
              "\n",
              "    .dataframe tbody tr th {\n",
              "        vertical-align: top;\n",
              "    }\n",
              "\n",
              "    .dataframe thead th {\n",
              "        text-align: right;\n",
              "    }\n",
              "</style>\n",
              "<table border=\"1\" class=\"dataframe\">\n",
              "  <thead>\n",
              "    <tr style=\"text-align: right;\">\n",
              "      <th></th>\n",
              "      <th>online_order</th>\n",
              "      <th>book_table</th>\n",
              "      <th>votes</th>\n",
              "      <th>rest_type</th>\n",
              "      <th>dish_liked</th>\n",
              "      <th>cuisines</th>\n",
              "      <th>cost</th>\n",
              "      <th>reviews_list</th>\n",
              "      <th>type</th>\n",
              "    </tr>\n",
              "  </thead>\n",
              "  <tbody>\n",
              "    <tr>\n",
              "      <th>19046</th>\n",
              "      <td>-0.643526</td>\n",
              "      <td>0.596027</td>\n",
              "      <td>-0.314951</td>\n",
              "      <td>3.044072</td>\n",
              "      <td>0.463452</td>\n",
              "      <td>0.754406</td>\n",
              "      <td>-0.775223</td>\n",
              "      <td>1.331909</td>\n",
              "      <td>-0.662874</td>\n",
              "    </tr>\n",
              "    <tr>\n",
              "      <th>4057</th>\n",
              "      <td>-0.643526</td>\n",
              "      <td>0.596027</td>\n",
              "      <td>2.543617</td>\n",
              "      <td>-0.624891</td>\n",
              "      <td>0.079096</td>\n",
              "      <td>-1.056811</td>\n",
              "      <td>-0.295861</td>\n",
              "      <td>-0.744696</td>\n",
              "      <td>-0.662874</td>\n",
              "    </tr>\n",
              "    <tr>\n",
              "      <th>139</th>\n",
              "      <td>-0.643526</td>\n",
              "      <td>0.596027</td>\n",
              "      <td>-0.252303</td>\n",
              "      <td>-0.624891</td>\n",
              "      <td>-1.426728</td>\n",
              "      <td>-1.012521</td>\n",
              "      <td>0.183500</td>\n",
              "      <td>-1.442449</td>\n",
              "      <td>-0.662874</td>\n",
              "    </tr>\n",
              "    <tr>\n",
              "      <th>16780</th>\n",
              "      <td>-0.643526</td>\n",
              "      <td>0.596027</td>\n",
              "      <td>-0.221873</td>\n",
              "      <td>-0.465371</td>\n",
              "      <td>-0.700640</td>\n",
              "      <td>-1.056811</td>\n",
              "      <td>-0.775223</td>\n",
              "      <td>0.279608</td>\n",
              "      <td>-0.662874</td>\n",
              "    </tr>\n",
              "    <tr>\n",
              "      <th>9593</th>\n",
              "      <td>-0.643526</td>\n",
              "      <td>-1.677776</td>\n",
              "      <td>0.216667</td>\n",
              "      <td>0.571510</td>\n",
              "      <td>-1.167306</td>\n",
              "      <td>-0.380810</td>\n",
              "      <td>0.662862</td>\n",
              "      <td>-0.059494</td>\n",
              "      <td>1.703511</td>\n",
              "    </tr>\n",
              "  </tbody>\n",
              "</table>\n",
              "</div>\n",
              "      <button class=\"colab-df-convert\" onclick=\"convertToInteractive('df-4d1bc901-ba85-4d33-9d5f-43bc339af35f')\"\n",
              "              title=\"Convert this dataframe to an interactive table.\"\n",
              "              style=\"display:none;\">\n",
              "        \n",
              "  <svg xmlns=\"http://www.w3.org/2000/svg\" height=\"24px\"viewBox=\"0 0 24 24\"\n",
              "       width=\"24px\">\n",
              "    <path d=\"M0 0h24v24H0V0z\" fill=\"none\"/>\n",
              "    <path d=\"M18.56 5.44l.94 2.06.94-2.06 2.06-.94-2.06-.94-.94-2.06-.94 2.06-2.06.94zm-11 1L8.5 8.5l.94-2.06 2.06-.94-2.06-.94L8.5 2.5l-.94 2.06-2.06.94zm10 10l.94 2.06.94-2.06 2.06-.94-2.06-.94-.94-2.06-.94 2.06-2.06.94z\"/><path d=\"M17.41 7.96l-1.37-1.37c-.4-.4-.92-.59-1.43-.59-.52 0-1.04.2-1.43.59L10.3 9.45l-7.72 7.72c-.78.78-.78 2.05 0 2.83L4 21.41c.39.39.9.59 1.41.59.51 0 1.02-.2 1.41-.59l7.78-7.78 2.81-2.81c.8-.78.8-2.07 0-2.86zM5.41 20L4 18.59l7.72-7.72 1.47 1.35L5.41 20z\"/>\n",
              "  </svg>\n",
              "      </button>\n",
              "      \n",
              "  <style>\n",
              "    .colab-df-container {\n",
              "      display:flex;\n",
              "      flex-wrap:wrap;\n",
              "      gap: 12px;\n",
              "    }\n",
              "\n",
              "    .colab-df-convert {\n",
              "      background-color: #E8F0FE;\n",
              "      border: none;\n",
              "      border-radius: 50%;\n",
              "      cursor: pointer;\n",
              "      display: none;\n",
              "      fill: #1967D2;\n",
              "      height: 32px;\n",
              "      padding: 0 0 0 0;\n",
              "      width: 32px;\n",
              "    }\n",
              "\n",
              "    .colab-df-convert:hover {\n",
              "      background-color: #E2EBFA;\n",
              "      box-shadow: 0px 1px 2px rgba(60, 64, 67, 0.3), 0px 1px 3px 1px rgba(60, 64, 67, 0.15);\n",
              "      fill: #174EA6;\n",
              "    }\n",
              "\n",
              "    [theme=dark] .colab-df-convert {\n",
              "      background-color: #3B4455;\n",
              "      fill: #D2E3FC;\n",
              "    }\n",
              "\n",
              "    [theme=dark] .colab-df-convert:hover {\n",
              "      background-color: #434B5C;\n",
              "      box-shadow: 0px 1px 3px 1px rgba(0, 0, 0, 0.15);\n",
              "      filter: drop-shadow(0px 1px 2px rgba(0, 0, 0, 0.3));\n",
              "      fill: #FFFFFF;\n",
              "    }\n",
              "  </style>\n",
              "\n",
              "      <script>\n",
              "        const buttonEl =\n",
              "          document.querySelector('#df-4d1bc901-ba85-4d33-9d5f-43bc339af35f button.colab-df-convert');\n",
              "        buttonEl.style.display =\n",
              "          google.colab.kernel.accessAllowed ? 'block' : 'none';\n",
              "\n",
              "        async function convertToInteractive(key) {\n",
              "          const element = document.querySelector('#df-4d1bc901-ba85-4d33-9d5f-43bc339af35f');\n",
              "          const dataTable =\n",
              "            await google.colab.kernel.invokeFunction('convertToInteractive',\n",
              "                                                     [key], {});\n",
              "          if (!dataTable) return;\n",
              "\n",
              "          const docLinkHtml = 'Like what you see? Visit the ' +\n",
              "            '<a target=\"_blank\" href=https://colab.research.google.com/notebooks/data_table.ipynb>data table notebook</a>'\n",
              "            + ' to learn more about interactive tables.';\n",
              "          element.innerHTML = '';\n",
              "          dataTable['output_type'] = 'display_data';\n",
              "          await google.colab.output.renderOutput(dataTable, element);\n",
              "          const docLink = document.createElement('div');\n",
              "          docLink.innerHTML = docLinkHtml;\n",
              "          element.appendChild(docLink);\n",
              "        }\n",
              "      </script>\n",
              "    </div>\n",
              "  </div>\n",
              "  "
            ],
            "text/plain": [
              "       online_order  book_table     votes  ...      cost  reviews_list      type\n",
              "19046     -0.643526    0.596027 -0.314951  ... -0.775223      1.331909 -0.662874\n",
              "4057      -0.643526    0.596027  2.543617  ... -0.295861     -0.744696 -0.662874\n",
              "139       -0.643526    0.596027 -0.252303  ...  0.183500     -1.442449 -0.662874\n",
              "16780     -0.643526    0.596027 -0.221873  ... -0.775223      0.279608 -0.662874\n",
              "9593      -0.643526   -1.677776  0.216667  ...  0.662862     -0.059494  1.703511\n",
              "\n",
              "[5 rows x 9 columns]"
            ]
          },
          "metadata": {},
          "execution_count": 39
        }
      ],
      "source": [
        "x = enc.iloc[:, [1,2,4,5,6,7,8,9,10]]\n",
        "y = X.rate\n",
        "x_train, x_test, y_train, y_test = train_test_split(x, y, test_size=.1, random_state=42)\n",
        "x_train.head()"
      ]
    },
    {
      "cell_type": "code",
      "execution_count": null,
      "metadata": {
        "colab": {
          "base_uri": "https://localhost:8080/"
        },
        "id": "tdjsOnv1_evk",
        "outputId": "b4c7ce73-cc9d-435c-e282-53755abdfe03"
      },
      "outputs": [
        {
          "output_type": "execute_result",
          "data": {
            "text/plain": [
              "ExtraTreesRegressor()"
            ]
          },
          "metadata": {},
          "execution_count": 40
        }
      ],
      "source": [
        "from sklearn.ensemble import ExtraTreesRegressor\n",
        "import matplotlib.pyplot as plt\n",
        "model = ExtraTreesRegressor()\n",
        "model.fit(x,y)"
      ]
    },
    {
      "cell_type": "code",
      "execution_count": null,
      "metadata": {
        "colab": {
          "base_uri": "https://localhost:8080/"
        },
        "id": "EtKUQTrS_evk",
        "outputId": "618580d9-babe-452e-c7dd-ae2f1c7114b2"
      },
      "outputs": [
        {
          "output_type": "display_data",
          "data": {
            "image/png": "[encoded data removed]",
            "text/plain": [
              "<Figure size 432x288 with 1 Axes>"
            ]
          },
          "metadata": {
            "needs_background": "light"
          }
        }
      ],
      "source": [
        "feat_importances = pd.Series(model.feature_importances_, index=x.columns)\n",
        "feat_importances.nlargest(8).plot(kind='barh')\n",
        "plt.show()"
      ]
    },
    {
      "cell_type": "markdown",
      "metadata": {
        "id": "igdRGZmy_evk"
      },
      "source": [
        "# Linear Regressor"
      ]
    },
    {
      "cell_type": "markdown",
      "metadata": {
        "id": "DoqFrPgV_evl"
      },
      "source": [
        "**Linear Regression** is a machine learning algorithm based on supervised learning. It performs a regression task. Regression models a target prediction value based on independent variables. It is mostly used for finding out the relationship between variables and forecasting. Different regression models differ based on – the kind of relationship between dependent and independent variables, they are considering and the number of independent variables being used."
      ]
    },
    {
      "cell_type": "code",
      "execution_count": null,
      "metadata": {
        "colab": {
          "base_uri": "https://localhost:8080/"
        },
        "id": "NQDC8BmH_evl",
        "outputId": "cd946652-9211-4894-b001-43d613c28426"
      },
      "outputs": [
        {
          "output_type": "execute_result",
          "data": {
            "text/plain": [
              "0.13614191565519995"
            ]
          },
          "metadata": {},
          "execution_count": 42
        }
      ],
      "source": [
        "from sklearn.linear_model import LinearRegression\n",
        "from sklearn.metrics import mean_squared_error\n",
        "\n",
        "reg = LinearRegression()\n",
        "reg.fit(x_train,y_train)\n",
        "IPython.display.clear_output()\n",
        "LR_predict = reg.predict(x_test)\n",
        "mean_squared_error(y_test, LR_predict)"
      ]
    },
    {
      "cell_type": "code",
      "execution_count": null,
      "metadata": {
        "colab": {
          "base_uri": "https://localhost:8080/"
        },
        "id": "O1lpcGK1_evl",
        "outputId": "c6ba37a6-4fd3-44f2-bd85-512f63266e74"
      },
      "outputs": [
        {
          "output_type": "execute_result",
          "data": {
            "text/plain": [
              "0.2381021002722188"
            ]
          },
          "metadata": {},
          "execution_count": 43
        }
      ],
      "source": [
        "reg.score(x_test, y_test)"
      ]
    },
    {
      "cell_type": "code",
      "execution_count": null,
      "metadata": {
        "colab": {
          "base_uri": "https://localhost:8080/"
        },
        "id": "RSLZh8Qj_evl",
        "outputId": "5299fc8b-e919-4ae7-99e0-8de7cd8899f5"
      },
      "outputs": [
        {
          "output_type": "execute_result",
          "data": {
            "text/plain": [
              "<matplotlib.axes._subplots.AxesSubplot at 0x7fa6fa607d50>"
            ]
          },
          "metadata": {},
          "execution_count": 44
        },
        {
          "output_type": "display_data",
          "data": {
            "image/png": "[encoded data removed]",
            "text/plain": [
              "<Figure size 432x288 with 1 Axes>"
            ]
          },
          "metadata": {
            "needs_background": "light"
          }
        }
      ],
      "source": [
        "sns.distplot(y_test-LR_predict)"
      ]
    },
    {
      "cell_type": "markdown",
      "metadata": {
        "id": "SSaWpIeE_evl"
      },
      "source": [
        "Apply KMeans for preprocessing"
      ]
    },
    {
      "cell_type": "code",
      "execution_count": null,
      "metadata": {
        "id": "4bxtZ0Br_evl"
      },
      "outputs": [],
      "source": [
        "pipeline_reg = Pipeline([\n",
        "(\"kmeans\", KMeans(n_clusters=50)),\n",
        "(\"reg\", LinearRegression()),\n",
        "])\n",
        "\n",
        "pipeline_reg.fit(x_train, y_train)\n",
        "IPython.display.clear_output()"
      ]
    },
    {
      "cell_type": "code",
      "execution_count": null,
      "metadata": {
        "colab": {
          "base_uri": "https://localhost:8080/"
        },
        "id": "aIarfMjf_evl",
        "outputId": "3261986e-55b4-4ea9-82f4-dc47da62cdc7"
      },
      "outputs": [
        {
          "output_type": "execute_result",
          "data": {
            "text/plain": [
              "0.2808331161620693"
            ]
          },
          "metadata": {},
          "execution_count": 46
        }
      ],
      "source": [
        "pipeline_reg.score(x_test, y_test)"
      ]
    },
    {
      "cell_type": "code",
      "execution_count": null,
      "metadata": {
        "id": "2f2W28Yz_evm"
      },
      "outputs": [],
      "source": [
        "param_grid = dict(kmeans__n_clusters=range(2, 100))\n",
        "grid_clf = GridSearchCV(pipeline_reg, param_grid, cv=3, verbose=2)\n",
        "grid_clf.fit(x_train, y_train)\n",
        "IPython.display.clear_output()"
      ]
    },
    {
      "cell_type": "code",
      "execution_count": null,
      "metadata": {
        "colab": {
          "base_uri": "https://localhost:8080/"
        },
        "id": "6eq6HdLi_evm",
        "outputId": "e8d6e74d-fe4a-43e1-c82d-0f76c0efa708"
      },
      "outputs": [
        {
          "output_type": "execute_result",
          "data": {
            "text/plain": [
              "{'kmeans__n_clusters': 99}"
            ]
          },
          "metadata": {},
          "execution_count": 48
        }
      ],
      "source": [
        "grid_clf.best_params_"
      ]
    },
    {
      "cell_type": "code",
      "execution_count": null,
      "metadata": {
        "colab": {
          "base_uri": "https://localhost:8080/"
        },
        "id": "PUpiyugC_evm",
        "outputId": "f96be2ae-c3ad-4c75-ade9-5e734402fcfe"
      },
      "outputs": [
        {
          "output_type": "execute_result",
          "data": {
            "text/plain": [
              "0.2936868283658659"
            ]
          },
          "metadata": {},
          "execution_count": 49
        }
      ],
      "source": [
        "grid_clf.score(x_test, y_test)"
      ]
    },
    {
      "cell_type": "code",
      "execution_count": null,
      "metadata": {
        "colab": {
          "base_uri": "https://localhost:8080/"
        },
        "id": "R8L6IdBb_evm",
        "outputId": "669e06d7-e32e-41c4-b87a-3a7f28aa20f1"
      },
      "outputs": [
        {
          "output_type": "execute_result",
          "data": {
            "text/plain": [
              "0.12620959878367913"
            ]
          },
          "metadata": {},
          "execution_count": 50
        }
      ],
      "source": [
        "grid_clf_predict = grid_clf.predict(x_test)\n",
        "mean_squared_error(y_test, grid_clf_predict)"
      ]
    },
    {
      "cell_type": "code",
      "execution_count": null,
      "metadata": {
        "colab": {
          "base_uri": "https://localhost:8080/"
        },
        "id": "EV62oDaL_evm",
        "outputId": "759880cb-e9cd-43ed-bf6b-2ca6fcd0d961"
      },
      "outputs": [
        {
          "output_type": "execute_result",
          "data": {
            "text/plain": [
              "<matplotlib.axes._subplots.AxesSubplot at 0x7fa6fa71f950>"
            ]
          },
          "metadata": {},
          "execution_count": 51
        },
        {
          "output_type": "display_data",
          "data": {
            "image/png": "[encoded data removed]",
            "text/plain": [
              "<Figure size 432x288 with 1 Axes>"
            ]
          },
          "metadata": {
            "needs_background": "light"
          }
        }
      ],
      "source": [
        "sns.distplot(y_test-grid_clf_predict)"
      ]
    },
    {
      "cell_type": "markdown",
      "metadata": {
        "id": "avvjkRcZ_evm"
      },
      "source": [
        "# SVR"
      ]
    },
    {
      "cell_type": "markdown",
      "metadata": {
        "id": "YgThkt2c_evm"
      },
      "source": [
        "###### Support Vector Machine\n",
        "In machine learning, Support Vector Machines are supervised learning models with associated learning algorithms that analyze data used for classification and regression analysis. In Support Vector Regression, the straight line that is required to fit the data is referred to as **hyperplane**.\n",
        "\n",
        "\n",
        "The objective of a support vector machine algorithm is to find a hyperplane in an n-dimensional space that distinctly classifies the data points. The data points on either side of the hyperplane that are closest to the hyperplane are called **Support Vectors**. These influence the position and orientation of the hyperplane and thus help build the SVM.\n",
        "\n",
        "So what exactly is Support Vector Machine (SVM)? We’ll start by understanding SVM in simple terms. Let’s say we have a plot of two label classes as shown in the figure below:\n",
        "\n",
        "Can you decide what the separating line will be? You might have come up with this:\n",
        "\n",
        "The line fairly separates the classes. This is what SVM essentially does – **simple class separation**. Now, what is the data was like this:\n",
        "\n",
        "Here, we don’t have a simple line separating these two classes. So we’ll extend our dimension and introduce a new dimension along the z-axis. We can now separate these two classes:\n",
        "\n",
        "When we transform this line back to the original plane, it maps to the circular boundary as I’ve shown here:\n",
        "\n",
        "This is exactly what SVM does! It tries to find a line/hyperplane (in multidimensional space) that separates these two classes. Then it classifies the new point depending on whether it lies on the positive or negative side of the hyperplane depending on the classes to predict.\n",
        "\n",
        "###### Support Vector Regression\n",
        "SVR is a supervised learning algorithm that is used to predict discrete values. Support Vector Regression uses the same principle as the SVMs. The basic idea behind SVR is to find the best fit line. In SVR, the best fit line is the hyperplane that has the maximum number of points.\n",
        "\n",
        "Unlike other Regression models that try to minimize the error between the real and predicted value, the SVR tries to fit the best line within a threshold value. The threshold value is the distance between the hyperplane and boundary line. The fit time complexity of SVR is more than quadratic with the number of samples which makes it hard to scale to datasets with more than a couple of 10000 samples.\n",
        "\n",
        "For large datasets, **Linear SVR** or **SGD Regressor** is used. Linear SVR provides a faster implementation than SVR but only considers the linear kernel. The model produced by Support Vector Regression depends only on a subset of the training data, because the cost function ignores samples whose prediction is close to their target.\n",
        "\n",
        "###### Hyperparameters in SVR\n",
        "\n",
        "Now that we have an intuition of what a support vector machine is, we will take look into the various hyperparameters that are used in Support Vector Regression. Some of the key parameters used are as mentioned below:\n",
        "\n",
        "1. **Kernel**:\n",
        "A kernel helps us find a hyperplane in the higher dimensional space without increasing the computational cost. Usually, the computational cost will increase if the dimension of the data increases. This increase in dimension is required when we are unable to find a separating hyperplane in a given dimension and are required to move in a higher dimension:\n",
        "\n",
        "The most widely used kernels include **Linear, Non-Linear, Polynomial, Radial Basis Function (RBF) and Sigmoid**. By default, RBF is used as the **kernel**. Each of these kernels are used depending on the dataset.\n",
        "\n",
        "2. **Hyperplane**: \n",
        "This is basically a separating line between two data classes in SVM. But in Support Vector Regression, this is the line that will be used to predict the continuous output\n",
        "3. **Decision Boundary**: \n",
        "A decision boundary can be thought of as a demarcation line (for simplification) on one side of which lie positive examples and on the other side lie the negative examples. On this very line, the examples may be classified as either positive or negative. This same concept of SVM will be applied in Support Vector Regression as well\n",
        "\n",
        "Advantages of Support Vector Regression\n",
        "* Although Support Vector Regression is used rarely it carries certain advantages that are as mentioned below:\n",
        "* It is robust to outliers.\n",
        "* Decision model can be easily updated.\n",
        "* It has excellent generalization capability, with high prediction accuracy.\n",
        "* Its implementation is easy.\n",
        "\n",
        "Disadvantages of Support Vector Regression\n",
        "* Some of the drawbacks faced by Support Vector Machines while handling regression problems are as mentioned below:\n",
        "* They are not suitable for large datasets.\n",
        "* In cases where the number of features for each data point exceeds the number of training data samples, the SVM will underperform.\n",
        "* The Decision model does not perform very well when the data set has more noise i.e. target classes are overlapping.."
      ]
    },
    {
      "cell_type": "code",
      "execution_count": null,
      "metadata": {
        "colab": {
          "base_uri": "https://localhost:8080/"
        },
        "id": "09O_Bl9j_evn",
        "outputId": "9435bf45-bd1b-4363-d606-dcea514fc236"
      },
      "outputs": [
        {
          "output_type": "execute_result",
          "data": {
            "text/plain": [
              "0.13614191565519995"
            ]
          },
          "metadata": {},
          "execution_count": 52
        }
      ],
      "source": [
        "from sklearn.svm import SVR\n",
        "svm_poly_reg = SVR(kernel=\"poly\", degree=2, C=100, epsilon=0.1)\n",
        "svm_poly_reg.fit(x_train, y_train)\n",
        "IPython.display.clear_output()\n",
        "svr_predict = reg.predict(x_test)\n",
        "from sklearn.metrics import mean_squared_error\n",
        "mean_squared_error(y_test, svr_predict)"
      ]
    },
    {
      "cell_type": "code",
      "execution_count": null,
      "metadata": {
        "colab": {
          "base_uri": "https://localhost:8080/"
        },
        "id": "VYjXPcAp_evn",
        "outputId": "1ca4dde0-55c9-416b-ca82-f5414ba380c8"
      },
      "outputs": [
        {
          "output_type": "execute_result",
          "data": {
            "text/plain": [
              "<matplotlib.axes._subplots.AxesSubplot at 0x7fa6fab77550>"
            ]
          },
          "metadata": {},
          "execution_count": 53
        },
        {
          "output_type": "display_data",
          "data": {
            "image/png": "[encoded data removed]",
            "text/plain": [
              "<Figure size 432x288 with 1 Axes>"
            ]
          },
          "metadata": {
            "needs_background": "light"
          }
        }
      ],
      "source": [
        "sns.distplot(y_test-svr_predict)"
      ]
    },
    {
      "cell_type": "markdown",
      "metadata": {
        "id": "6fWzArNy_evn"
      },
      "source": [
        "# K-nearest neighbors\n"
      ]
    },
    {
      "cell_type": "markdown",
      "metadata": {
        "id": "ENyRiHCZ_evn"
      },
      "source": [
        "1. Intro\n",
        "* Out of all the machine learning algorithms I have come across, KNN algorithm has easily been the simplest to pick up. Despite its simplicity, it has proven to be incredibly effective at certain tasks (as you will see in this article).\n",
        "\n",
        "* And even better? It can be used for both classification and regression problems! KNN algorithm is by far more popularly used for classification problems, however. I have seldom seen KNN being implemented on any regression task. My aim here is to illustrate and emphasize how KNN can be equally effective when the target variable is continuous in nature.\n",
        "\n",
        "2. How does the KNN algorithm work?\n",
        "As we saw above, KNN algorithm can be used for both classification and regression problems. The KNN algorithm uses ‘feature similarity’ to predict the values of any new data points. This means that the new point is assigned a value based on how closely it resembles the points in the training set. From our example, we know that ID11 has height and age similar to ID1 and ID5, so the weight would also approximately be the same.\n",
        "\n",
        "Below is a stepwise explanation of the algorithm:\n",
        "1. First, the distance between the new point and each training point is calculated.\n",
        "![image.png](attachment:image.png)\n",
        "\n",
        "2. The closest k data points are selected (based on the distance). In this example, points 1, 5, 6 will be selected if the value of k is 3. We will further explore the method to select the right value of k later in this article.\n",
        "![image-2.png](attachment:image-2.png)\n",
        "\n",
        "3. Methods of the calculating distance between points.\n",
        "The first step is to calculate the distance between the new point and each training point. There are various methods for calculating this distance, of which the most commonly known methods are – Euclidian, Manhattan (for continuous) and Hamming distance (for categorical).\n",
        "\n",
        "1. **Euclidean Distance**: Euclidean distance is calculated as the square root of the sum of the squared differences between a new point (x) and an existing point (y).\n",
        "2. **Manhattan Distance**: This is the distance between real vectors using the sum of their absolute difference.\n",
        "![image-3.png](attachment:image-3.png)\n",
        "3. **Hamming Distance**: It is used for categorical variables. If the value (x) and the value (y) are the same, the distance D will be equal to 0 . Otherwise D=1.\n",
        "![image-4.png](attachment:image-4.png)\n",
        "\n",
        "Advantages:\n",
        "\n",
        "* The computational complexity of the training process is zero.\n",
        "* Predicting the outcome of new data is simple.\n",
        "* No need to make any assumptions about the distribution of classes\n",
        "\n",
        "Disadvantages:\n",
        "\n",
        "* KNN is very sensitive to noise when K is small.\n",
        "* As mentioned, KNN is an algorithm where all calculations are in the testing stage. In which, calculating the distance to each data point in the training set will take a lot of time, especially with databases with large dimensions and many data points. With larger K, the complexity will also increase. In addition, storing all data in memory also affects the performance of KNN."
      ]
    },
    {
      "cell_type": "code",
      "execution_count": null,
      "metadata": {
        "colab": {
          "base_uri": "https://localhost:8080/"
        },
        "id": "Kxq8LhaW_evo",
        "outputId": "db5e1464-4407-45e0-a5c0-76f6f3ec1137"
      },
      "outputs": [
        {
          "output_type": "execute_result",
          "data": {
            "text/plain": [
              "0.10290655097613884"
            ]
          },
          "metadata": {},
          "execution_count": 54
        }
      ],
      "source": [
        "from sklearn.neighbors import KNeighborsRegressor\n",
        "Neigh = KNeighborsRegressor(n_neighbors=5)\n",
        "Neigh.fit(x_train,y_train)\n",
        "IPython.display.clear_output()\n",
        "y_predict = Neigh.predict(x_test)\n",
        "from sklearn.metrics import mean_squared_error\n",
        "mean_squared_error(y_test,y_predict)"
      ]
    },
    {
      "cell_type": "code",
      "execution_count": null,
      "metadata": {
        "colab": {
          "base_uri": "https://localhost:8080/"
        },
        "id": "Y6l0wa1I_evo",
        "outputId": "8136c87e-3f60-4183-8f83-8df51aed1c96"
      },
      "outputs": [
        {
          "output_type": "execute_result",
          "data": {
            "text/plain": [
              "<matplotlib.axes._subplots.AxesSubplot at 0x7fa6fa76f210>"
            ]
          },
          "metadata": {},
          "execution_count": 55
        },
        {
          "output_type": "display_data",
          "data": {
            "image/png": "[encoded data removed]",
            "text/plain": [
              "<Figure size 432x288 with 1 Axes>"
            ]
          },
          "metadata": {
            "needs_background": "light"
          }
        }
      ],
      "source": [
        "sns.distplot(y_test-y_predict)"
      ]
    },
    {
      "cell_type": "code",
      "execution_count": null,
      "metadata": {
        "colab": {
          "base_uri": "https://localhost:8080/"
        },
        "id": "-SFYa-P2_evo",
        "outputId": "d76e917e-924a-49bf-8e5d-6a5dafc1287d"
      },
      "outputs": [
        {
          "output_type": "execute_result",
          "data": {
            "text/plain": [
              "{'n_neighbors': 3}"
            ]
          },
          "metadata": {},
          "execution_count": 56
        }
      ],
      "source": [
        "from sklearn.model_selection import GridSearchCV\n",
        "params = {'n_neighbors': np.arange(20)}\n",
        "\n",
        "Neigh = KNeighborsRegressor()\n",
        "\n",
        "model = GridSearchCV(Neigh, params, cv=5)\n",
        "model.fit(x_train, y_train)\n",
        "IPython.display.clear_output()\n",
        "model.best_params_"
      ]
    },
    {
      "cell_type": "code",
      "execution_count": null,
      "metadata": {
        "colab": {
          "base_uri": "https://localhost:8080/"
        },
        "id": "qSk5ENly_evo",
        "outputId": "ee4bfd59-c772-45da-b70e-69bba8d1e15f"
      },
      "outputs": [
        {
          "output_type": "execute_result",
          "data": {
            "text/plain": [
              "0.09775560375994216"
            ]
          },
          "metadata": {},
          "execution_count": 57
        }
      ],
      "source": [
        "Neigh = KNeighborsRegressor(n_neighbors=3)\n",
        "Neigh.fit(x_train,y_train)\n",
        "IPython.display.clear_output()\n",
        "Neigh_predict = Neigh.predict(x_test)\n",
        "from sklearn.metrics import mean_squared_error\n",
        "mean_squared_error(y_test, Neigh_predict)"
      ]
    },
    {
      "cell_type": "code",
      "execution_count": null,
      "metadata": {
        "colab": {
          "base_uri": "https://localhost:8080/"
        },
        "id": "-8L67Fo4_evo",
        "outputId": "52ab325d-d1cb-49a4-aae8-6bfaaeb48a35"
      },
      "outputs": [
        {
          "output_type": "execute_result",
          "data": {
            "text/plain": [
              "<matplotlib.axes._subplots.AxesSubplot at 0x7fa6fa835d50>"
            ]
          },
          "metadata": {},
          "execution_count": 58
        },
        {
          "output_type": "display_data",
          "data": {
            "image/png": "[encoded data removed]",
            "text/plain": [
              "<Figure size 432x288 with 1 Axes>"
            ]
          },
          "metadata": {
            "needs_background": "light"
          }
        }
      ],
      "source": [
        "sns.distplot(y_test-Neigh_predict)"
      ]
    },
    {
      "cell_type": "markdown",
      "metadata": {
        "id": "5OaKGope_evo"
      },
      "source": [
        "# Bagging regression"
      ]
    },
    {
      "cell_type": "markdown",
      "metadata": {
        "id": "rJjz0Ri-_evp"
      },
      "source": [
        "###### What is Bagging (Bootstrap Aggregation)?\n",
        "Ensemble machine learning can be mainly categorized into bagging and boosting. The bagging technique is useful for both regression and statistical classification. Bagging is used with decision trees, where it significantly raises the stability of models in improving accuracy and reducing variance, which eliminates the challenge of overfitting.\n",
        "\n",
        "![image.png](attachment:image.png)\n",
        "Bagging (Bootstrap Aggregation) Flow. [Source](https://subscription.packtpub.com/book/big_data_and_business_intelligence/9781789136609/5/ch05lvl1sec29/bootstrap-aggregation)\n",
        "\n",
        "Bagging in ensemble machine learning takes several weak models, aggregating the predictions to select the best prediction. The weak models specialize in distinct sections of the feature space, which enables bagging leverage predictions to come from every model to reach the utmost purpose.\n",
        "\n",
        "###### What is Bootstrapping?\n",
        "Bagging is composed of two parts: aggregation and bootstrapping. Bootstrapping is a sampling method, where a sample is chosen out of a set, using the replacement method. The learning algorithm is then run on the samples selected.\n",
        "\n",
        "The bootstrapping technique uses sampling with replacements to make the selection procedure completely random. When a sample is selected without replacement, the subsequent selections of variables are always dependent on the previous selections, making the criteria non-random.\n",
        "\n",
        "###### What is Aggregation?\n",
        "\n",
        "Model predictions undergo aggregation to combine them for the final prediction to consider all the possible outcomes. The aggregation can be done based on the total number of outcomes or the probability of predictions derived from the bootstrapping of every model in the procedure.\n",
        "\n",
        "###### Advantages and Disadvantages of Bagging \n",
        "Random forest is one of the most popular bagging algorithms. Bagging offers the advantage of allowing many weak learners to combine efforts to outdo a single strong learner. It also helps in the reduction of variance, hence eliminating the overfitting of models in the procedure.\n",
        "\n",
        "One disadvantage of bagging is that it introduces a loss of interpretability of a model. The resultant model can experience lots of bias when the proper procedure is ignored. Despite bagging being highly accurate, it can be computationally expensive, which may discourage its use in certain instances.\n",
        "\n",
        "###### Bagging vs. Boosting\n",
        "The best technique to use between bagging and boosting depends on the data available, simulation, and any existing circumstances at the time. An estimate’s variance is significantly reduced by bagging and boosting techniques during the combination procedure, thereby increasing the accuracy. Therefore, the results obtained demonstrate higher stability than the individual results.\n",
        "\n",
        "When an event presents the challenge of low performance, the bagging technique will not result in a better bias. However, the boosting technique generates a unified model with lower errors since it concentrates on optimizing the advantages and reducing shortcomings in a single model.\n",
        "\n",
        "When the challenge in a single model is overfitting, the bagging method performs better than the boosting technique. Boosting faces the challenge of handling over-fitting since it comes with over-fitting in itself."
      ]
    },
    {
      "cell_type": "code",
      "execution_count": null,
      "metadata": {
        "id": "5ouPn7y9_evp"
      },
      "outputs": [],
      "source": [
        "# from sklearn.ensemble import BaggingRegressor\n",
        "# BagReg = BaggingRegressor(base_estimator=RForest, n_estimators=500, random_state=0)\n",
        "# BagReg.fit(x_train, y_train)\n",
        "# y_predict = BagReg.predict(x_test)\n",
        "# from sklearn.metrics import r2_score\n",
        "# r2_score(y_test,y_predict)"
      ]
    },
    {
      "cell_type": "code",
      "execution_count": null,
      "metadata": {
        "id": "cGGe5ojH_evp"
      },
      "outputs": [],
      "source": [
        "# sns.distplot(y_test-y_predict)"
      ]
    },
    {
      "cell_type": "markdown",
      "metadata": {
        "id": "HtJKYmDU_evp"
      },
      "source": [
        "# Decision Tree Regressor\n"
      ]
    },
    {
      "cell_type": "markdown",
      "metadata": {
        "id": "1d_jbFdI_evp"
      },
      "source": [
        "[Decision tree](https://www.saedsayad.com/decision_tree_reg.htm) builds regression or classification models in the form of a tree structure. It breaks down a dataset into smaller and smaller subsets while at the same time an associated decision tree is incrementally developed. The final result is a tree with **decision nodes** and **leaf nodes**. A decision node (e.g., Outlook) has two or more branches (e.g., Sunny, Overcast and Rainy), each representing values for the attribute tested. Leaf node (e.g., Hours Played) represents a decision on the numerical target. The topmost decision node in a tree which corresponds to the best predictor called **root node**. Decision trees can handle both categorical and numerical data. \n",
        "\n",
        "###### Decision Tree Algorithm\n",
        "The core algorithm for building decision trees called **ID3** by J. R. Quinlan which employs a top-down, greedy search through the space of possible branches with no backtracking. The ID3 algorithm can be used to construct a decision tree for regression by replacing Information Gain with Standard Deviation Reduction.\n",
        "\n",
        "***Standard Deviation***\n",
        "\n",
        "A decision tree is built top-down from a root node and involves partitioning the data into subsets that contain instances with similar values (homogenous). We use standard deviation to calculate the homogeneity of a numerical sample. If the numerical sample is completely homogeneous its standard deviation is zero.\n",
        "\n",
        "***Standard Deviation Reduction***\n",
        "\n",
        "The standard deviation reduction is based on the decrease in standard deviation after a dataset is split on an attribute. Constructing a decision tree is all about finding attribute that returns the highest standard deviation reduction (i.e., the most homogeneous branches).\n",
        "\n",
        "**Advantages**:\n",
        "* The model generates rules that are easy to understand for the reader, creating a set of rules with each leaf branch being a rule of the tree.\n",
        "* Input data can be missing data, no need to normalize or create dummy variables.\n",
        "* Can work with both numeric and categorical data.\n",
        "* The model can be validated using statistical tests.\n",
        "* Likely to work with big data.\n",
        "\n",
        "**Disadvantages**:\n",
        "* The decision tree model is highly dependent on your data. Even with a small change in the data set, the decision tree model structure can change completely.\n",
        "* Decision trees often have overfitting problems"
      ]
    },
    {
      "cell_type": "code",
      "execution_count": null,
      "metadata": {
        "colab": {
          "base_uri": "https://localhost:8080/"
        },
        "id": "0Ovjs-DE_evp",
        "outputId": "b096a31c-eec6-40a5-d5ad-c1b91ddeabbc"
      },
      "outputs": [
        {
          "output_type": "execute_result",
          "data": {
            "text/plain": [
              "0.02887861742563981"
            ]
          },
          "metadata": {},
          "execution_count": 61
        }
      ],
      "source": [
        "from sklearn.tree import DecisionTreeRegressor\n",
        "x_train,x_test,y_train,y_test=train_test_split(x,y,test_size=.1,random_state=0)\n",
        "DTree = DecisionTreeRegressor(min_samples_leaf=.0001)\n",
        "DTree.fit(x_train,y_train)\n",
        "IPython.display.clear_output()\n",
        "Dtree_predict = DTree.predict(x_test)\n",
        "from sklearn.metrics import mean_squared_error\n",
        "mean_squared_error(y_test, Dtree_predict)"
      ]
    },
    {
      "cell_type": "code",
      "execution_count": null,
      "metadata": {
        "id": "zfSWAlV1_evp"
      },
      "outputs": [],
      "source": [
        "DTree.score(x_test, y_test)"
      ]
    },
    {
      "cell_type": "code",
      "execution_count": null,
      "metadata": {
        "colab": {
          "base_uri": "https://localhost:8080/",
          "height": 1000
        },
        "id": "KkPMKo_S_evq",
        "outputId": "8146a2b8-740e-4359-f6d7-e71ed7c7af5b"
      },
      "outputs": [
        {
          "output_type": "execute_result",
          "data": {
            "text/plain": [
              "[Text(0.5653837273101818, 0.984375, 'X[2] <= -0.145\\nsquared_error = 0.182\\nsamples = 20741\\nvalue = 3.904'),\n",
              " Text(0.22887673713269632, 0.953125, 'X[1] <= -0.541\\nsquared_error = 0.18\\nsamples = 14065\\nvalue = 3.779'),\n",
              " Text(0.04067155509788538, 0.921875, 'X[2] <= -0.459\\nsquared_error = 0.101\\nsamples = 1942\\nvalue = 4.013'),\n",
              " Text(0.005248729731749234, 0.890625, 'X[4] <= -1.487\\nsquared_error = 0.119\\nsamples = 241\\nvalue = 3.754'),\n",
              " Text(0.0034484046925203618, 0.859375, 'X[3] <= 1.768\\nsquared_error = 0.152\\nsamples = 18\\nvalue = 3.172'),\n",
              " Text(0.003209295374729134, 0.828125, 'X[4] <= -1.496\\nsquared_error = 0.071\\nsamples = 14\\nvalue = 3.007'),\n",
              " Text(0.0029701860569379063, 0.796875, 'squared_error = 0.0\\nsamples = 4\\nvalue = 2.6'),\n",
              " Text(0.0034484046925203618, 0.796875, 'X[2] <= -0.488\\nsquared_error = 0.006\\nsamples = 10\\nvalue = 3.17'),\n",
              " Text(0.003209295374729134, 0.765625, 'squared_error = 0.0\\nsamples = 5\\nvalue = 3.1'),\n",
              " Text(0.0036875140103115895, 0.765625, 'squared_error = 0.002\\nsamples = 5\\nvalue = 3.24'),\n",
              " Text(0.0036875140103115895, 0.828125, 'squared_error = 0.007\\nsamples = 4\\nvalue = 3.75'),\n",
              " Text(0.007049054770978107, 0.859375, 'X[4] <= 0.522\\nsquared_error = 0.086\\nsamples = 223\\nvalue = 3.801'),\n",
              " Text(0.005490174101472017, 0.828125, 'X[2] <= -0.468\\nsquared_error = 0.079\\nsamples = 167\\nvalue = 3.731'),\n",
              " Text(0.004404841963685273, 0.796875, 'X[5] <= 1.588\\nsquared_error = 0.047\\nsamples = 139\\nvalue = 3.778'),\n",
              " Text(0.004165732645894045, 0.765625, 'X[5] <= 0.416\\nsquared_error = 0.035\\nsamples = 135\\nvalue = 3.794'),\n",
              " Text(0.002951505641485467, 0.734375, 'X[2] <= -0.511\\nsquared_error = 0.019\\nsamples = 106\\nvalue = 3.742'),\n",
              " Text(0.002712396323694239, 0.703125, 'squared_error = 0.0\\nsamples = 9\\nvalue = 3.5'),\n",
              " Text(0.003190614959276694, 0.703125, 'X[4] <= -0.108\\nsquared_error = 0.015\\nsamples = 97\\nvalue = 3.764'),\n",
              " Text(0.0021968168572069043, 0.671875, 'X[4] <= -1.339\\nsquared_error = 0.01\\nsamples = 83\\nvalue = 3.787'),\n",
              " Text(0.0019577075394156766, 0.640625, 'squared_error = -0.0\\nsamples = 20\\nvalue = 3.7'),\n",
              " Text(0.002435926174998132, 0.640625, 'X[4] <= -0.424\\nsquared_error = 0.01\\nsamples = 63\\nvalue = 3.814'),\n",
              " Text(0.0011656579242322349, 0.609375, 'X[7] <= -1.229\\nsquared_error = 0.006\\nsamples = 47\\nvalue = 3.843'),\n",
              " Text(0.00047821863558245535, 0.578125, 'X[5] <= -0.297\\nsquared_error = 0.002\\nsamples = 9\\nvalue = 3.733'),\n",
              " Text(0.00023910931779122768, 0.546875, 'squared_error = 0.0\\nsamples = 3\\nvalue = 3.8'),\n",
              " Text(0.0007173279533736831, 0.546875, 'squared_error = -0.0\\nsamples = 6\\nvalue = 3.7'),\n",
              " Text(0.0018530972128820145, 0.578125, 'X[2] <= -0.472\\nsquared_error = 0.003\\nsamples = 38\\nvalue = 3.868'),\n",
              " Text(0.0011955465889561384, 0.546875, 'X[5] <= -0.429\\nsquared_error = 0.002\\nsamples = 28\\nvalue = 3.889'),\n",
              " Text(0.0005977732944780692, 0.515625, 'X[7] <= -0.017\\nsquared_error = 0.001\\nsamples = 10\\nvalue = 3.91'),\n",
              " Text(0.00035866397668684154, 0.484375, 'squared_error = 0.0\\nsamples = 6\\nvalue = 3.9'),\n",
              " Text(0.0008368826122692968, 0.484375, 'squared_error = 0.002\\nsamples = 4\\nvalue = 3.925'),\n",
              " Text(0.0017933198834342075, 0.515625, 'X[7] <= -0.128\\nsquared_error = 0.003\\nsamples = 18\\nvalue = 3.878'),\n",
              " Text(0.0013151012478517523, 0.484375, 'X[5] <= 0.083\\nsquared_error = 0.001\\nsamples = 12\\nvalue = 3.892'),\n",
              " Text(0.0010759919300605246, 0.453125, 'squared_error = -0.0\\nsamples = 8\\nvalue = 3.9'),\n",
              " Text(0.0015542105656429798, 0.453125, 'squared_error = 0.002\\nsamples = 4\\nvalue = 3.875'),\n",
              " Text(0.002271538519016663, 0.484375, 'X[8] <= 0.126\\nsquared_error = 0.006\\nsamples = 6\\nvalue = 3.85'),\n",
              " Text(0.0020324292012254353, 0.453125, 'squared_error = 0.002\\nsamples = 3\\nvalue = 3.867'),\n",
              " Text(0.0025106478368078907, 0.453125, 'squared_error = 0.009\\nsamples = 3\\nvalue = 3.833'),\n",
              " Text(0.0025106478368078907, 0.546875, 'X[7] <= -0.021\\nsquared_error = 0.001\\nsamples = 10\\nvalue = 3.81'),\n",
              " Text(0.002271538519016663, 0.515625, 'squared_error = 0.001\\nsamples = 6\\nvalue = 3.817'),\n",
              " Text(0.0027497571545991185, 0.515625, 'squared_error = -0.0\\nsamples = 4\\nvalue = 3.8'),\n",
              " Text(0.003706194425764029, 0.609375, 'X[5] <= 0.169\\nsquared_error = 0.015\\nsamples = 16\\nvalue = 3.731'),\n",
              " Text(0.0032279757901815735, 0.578125, 'X[8] <= -0.663\\nsquared_error = 0.002\\nsamples = 6\\nvalue = 3.867'),\n",
              " Text(0.0029888664723903458, 0.546875, 'squared_error = 0.002\\nsamples = 3\\nvalue = 3.867'),\n",
              " Text(0.0034670851079728012, 0.546875, 'squared_error = 0.002\\nsamples = 3\\nvalue = 3.867'),\n",
              " Text(0.004184413061346484, 0.578125, 'X[6] <= 1.526\\nsquared_error = 0.005\\nsamples = 10\\nvalue = 3.65'),\n",
              " Text(0.003945303743555256, 0.546875, 'squared_error = 0.002\\nsamples = 4\\nvalue = 3.575'),\n",
              " Text(0.004423522379137712, 0.546875, 'squared_error = 0.0\\nsamples = 6\\nvalue = 3.7'),\n",
              " Text(0.004184413061346484, 0.671875, 'X[4] <= 0.211\\nsquared_error = 0.021\\nsamples = 14\\nvalue = 3.629'),\n",
              " Text(0.003945303743555256, 0.640625, 'squared_error = 0.0\\nsamples = 7\\nvalue = 3.5'),\n",
              " Text(0.004423522379137712, 0.640625, 'X[6] <= 1.142\\nsquared_error = 0.008\\nsamples = 7\\nvalue = 3.757'),\n",
              " Text(0.004184413061346484, 0.609375, 'squared_error = 0.01\\nsamples = 4\\nvalue = 3.8'),\n",
              " Text(0.0046626316969289395, 0.609375, 'squared_error = 0.0\\nsamples = 3\\nvalue = 3.7'),\n",
              " Text(0.005379959650302623, 0.734375, 'X[2] <= -0.48\\nsquared_error = 0.046\\nsamples = 29\\nvalue = 3.986'),\n",
              " Text(0.004901741014720167, 0.703125, 'X[5] <= 0.587\\nsquared_error = 0.009\\nsamples = 9\\nvalue = 4.233'),\n",
              " Text(0.0046626316969289395, 0.671875, 'squared_error = -0.0\\nsamples = 5\\nvalue = 4.3'),\n",
              " Text(0.005140850332511395, 0.671875, 'squared_error = 0.007\\nsamples = 4\\nvalue = 4.15'),\n",
              " Text(0.005858178285885078, 0.703125, 'X[3] <= 1.768\\nsquared_error = 0.023\\nsamples = 20\\nvalue = 3.875'),\n",
              " Text(0.00561906896809385, 0.671875, 'X[5] <= 1.307\\nsquared_error = 0.003\\nsamples = 15\\nvalue = 3.793'),\n",
              " Text(0.005379959650302623, 0.640625, 'X[8] <= 1.309\\nsquared_error = 0.001\\nsamples = 12\\nvalue = 3.817'),\n",
              " Text(0.005140850332511395, 0.609375, 'squared_error = 0.002\\nsamples = 6\\nvalue = 3.833'),\n",
              " Text(0.00561906896809385, 0.609375, 'squared_error = 0.0\\nsamples = 6\\nvalue = 3.8'),\n",
              " Text(0.005858178285885078, 0.640625, 'squared_error = -0.0\\nsamples = 3\\nvalue = 3.7'),\n",
              " Text(0.006097287603676306, 0.671875, 'squared_error = 0.002\\nsamples = 5\\nvalue = 4.12'),\n",
              " Text(0.0046439512814765, 0.765625, 'squared_error = 0.152\\nsamples = 4\\nvalue = 3.225'),\n",
              " Text(0.006575506239258761, 0.796875, 'X[5] <= -0.242\\nsquared_error = 0.173\\nsamples = 28\\nvalue = 3.5'),\n",
              " Text(0.006097287603676306, 0.765625, 'X[0] <= 0.455\\nsquared_error = 0.003\\nsamples = 10\\nvalue = 2.95'),\n",
              " Text(0.005858178285885078, 0.734375, 'squared_error = 0.0\\nsamples = 5\\nvalue = 2.9'),\n",
              " Text(0.006336396921467534, 0.734375, 'squared_error = 0.0\\nsamples = 5\\nvalue = 3.0'),\n",
              " Text(0.007053724874841217, 0.765625, 'X[6] <= 1.238\\nsquared_error = 0.006\\nsamples = 18\\nvalue = 3.806'),\n",
              " Text(0.006814615557049989, 0.734375, 'squared_error = -0.0\\nsamples = 3\\nvalue = 3.7'),\n",
              " Text(0.0072928341926324445, 0.734375, 'X[8] <= 0.126\\nsquared_error = 0.005\\nsamples = 15\\nvalue = 3.827'),\n",
              " Text(0.007053724874841217, 0.703125, 'squared_error = -0.0\\nsamples = 8\\nvalue = 3.8'),\n",
              " Text(0.007531943510423672, 0.703125, 'squared_error = 0.008\\nsamples = 7\\nvalue = 3.857'),\n",
              " Text(0.008607935440484197, 0.828125, 'X[5] <= 2.096\\nsquared_error = 0.05\\nsamples = 56\\nvalue = 4.009'),\n",
              " Text(0.008010162146006127, 0.796875, 'X[7] <= -0.284\\nsquared_error = 0.023\\nsamples = 33\\nvalue = 4.158'),\n",
              " Text(0.007771052828214899, 0.765625, 'squared_error = 0.002\\nsamples = 5\\nvalue = 3.96'),\n",
              " Text(0.008249271463797355, 0.765625, 'X[4] <= 0.641\\nsquared_error = 0.019\\nsamples = 28\\nvalue = 4.193'),\n",
              " Text(0.008010162146006127, 0.734375, 'squared_error = 0.0\\nsamples = 3\\nvalue = 4.4'),\n",
              " Text(0.008488380781588582, 0.734375, 'X[6] <= -0.008\\nsquared_error = 0.015\\nsamples = 25\\nvalue = 4.168'),\n",
              " Text(0.008010162146006127, 0.703125, 'X[2] <= -0.469\\nsquared_error = 0.008\\nsamples = 11\\nvalue = 4.255'),\n",
              " Text(0.007771052828214899, 0.671875, 'X[6] <= -0.488\\nsquared_error = 0.0\\nsamples = 8\\nvalue = 4.3'),\n",
              " Text(0.007531943510423672, 0.640625, 'squared_error = 0.0\\nsamples = 3\\nvalue = 4.3'),\n",
              " Text(0.008010162146006127, 0.640625, 'squared_error = 0.0\\nsamples = 5\\nvalue = 4.3'),\n",
              " Text(0.008249271463797355, 0.671875, 'squared_error = 0.009\\nsamples = 3\\nvalue = 4.133'),\n",
              " Text(0.008966599417171038, 0.703125, 'X[2] <= -0.47\\nsquared_error = 0.01\\nsamples = 14\\nvalue = 4.1'),\n",
              " Text(0.008727490099379811, 0.671875, 'squared_error = 0.014\\nsamples = 5\\nvalue = 4.04'),\n",
              " Text(0.009205708734962266, 0.671875, 'X[2] <= -0.468\\nsquared_error = 0.004\\nsamples = 9\\nvalue = 4.133'),\n",
              " Text(0.008966599417171038, 0.640625, 'squared_error = 0.0\\nsamples = 4\\nvalue = 4.1'),\n",
              " Text(0.009444818052753493, 0.640625, 'squared_error = 0.006\\nsamples = 5\\nvalue = 4.16'),\n",
              " Text(0.009205708734962266, 0.796875, 'X[4] <= 1.118\\nsquared_error = 0.012\\nsamples = 23\\nvalue = 3.796'),\n",
              " Text(0.008966599417171038, 0.765625, 'squared_error = -0.0\\nsamples = 11\\nvalue = 3.7'),\n",
              " Text(0.009444818052753493, 0.765625, 'X[8] <= 0.126\\nsquared_error = 0.006\\nsamples = 12\\nvalue = 3.883'),\n",
              " Text(0.009205708734962266, 0.734375, 'squared_error = 0.002\\nsamples = 4\\nvalue = 3.85'),\n",
              " Text(0.00968392737054472, 0.734375, 'X[5] <= 2.62\\nsquared_error = 0.008\\nsamples = 8\\nvalue = 3.9'),\n",
              " Text(0.009444818052753493, 0.703125, 'squared_error = 0.002\\nsamples = 5\\nvalue = 3.88'),\n",
              " Text(0.009923036688335949, 0.703125, 'squared_error = 0.016\\nsamples = 3\\nvalue = 3.933'),\n",
              " Text(0.07609438046402152, 0.890625, 'X[3] <= 1.888\\nsquared_error = 0.088\\nsamples = 1701\\nvalue = 4.05'),\n",
              " Text(0.06373325767765076, 0.859375, 'X[2] <= -0.178\\nsquared_error = 0.093\\nsamples = 1422\\nvalue = 4.02'),\n",
              " Text(0.04718556190689681, 0.828125, 'X[5] <= 0.306\\nsquared_error = 0.062\\nsamples = 1345\\nvalue = 4.04'),\n",
              " Text(0.030583109168347906, 0.796875, 'X[2] <= -0.272\\nsquared_error = 0.062\\nsamples = 642\\nvalue = 3.973'),\n",
              " Text(0.01971064036464171, 0.765625, 'X[6] <= -0.056\\nsquared_error = 0.063\\nsamples = 470\\nvalue = 3.931'),\n",
              " Text(0.011686467907046253, 0.734375, 'X[5] <= -1.054\\nsquared_error = 0.08\\nsamples = 98\\nvalue = 4.069'),\n",
              " Text(0.010401255323918404, 0.703125, 'X[7] <= 1.66\\nsquared_error = 0.115\\nsamples = 12\\nvalue = 3.617'),\n",
              " Text(0.010162146006127176, 0.671875, 'X[4] <= 0.957\\nsquared_error = 0.013\\nsamples = 9\\nvalue = 3.778'),\n",
              " Text(0.009923036688335949, 0.640625, 'squared_error = 0.002\\nsamples = 5\\nvalue = 3.68'),\n",
              " Text(0.010401255323918404, 0.640625, 'squared_error = 0.0\\nsamples = 4\\nvalue = 3.9'),\n",
              " Text(0.010640364641709631, 0.671875, 'squared_error = 0.109\\nsamples = 3\\nvalue = 3.133'),\n",
              " Text(0.012971680490174102, 0.703125, 'X[2] <= -0.403\\nsquared_error = 0.042\\nsamples = 86\\nvalue = 4.133'),\n",
              " Text(0.011357692595083315, 0.671875, 'X[5] <= -0.853\\nsquared_error = 0.024\\nsamples = 34\\nvalue = 4.291'),\n",
              " Text(0.01087947395950086, 0.640625, 'X[7] <= -0.777\\nsquared_error = 0.014\\nsamples = 10\\nvalue = 4.14'),\n",
              " Text(0.010640364641709631, 0.609375, 'squared_error = -0.0\\nsamples = 7\\nvalue = 4.2'),\n",
              " Text(0.011118583277292086, 0.609375, 'squared_error = 0.02\\nsamples = 3\\nvalue = 4.0'),\n",
              " Text(0.01183591123066577, 0.640625, 'X[2] <= -0.455\\nsquared_error = 0.015\\nsamples = 24\\nvalue = 4.354'),\n",
              " Text(0.011596801912874542, 0.609375, 'squared_error = 0.0\\nsamples = 4\\nvalue = 4.1'),\n",
              " Text(0.012075020548456997, 0.609375, 'X[4] <= -0.371\\nsquared_error = 0.002\\nsamples = 20\\nvalue = 4.405'),\n",
              " Text(0.01183591123066577, 0.578125, 'squared_error = 0.0\\nsamples = 3\\nvalue = 4.5'),\n",
              " Text(0.012314129866248226, 0.578125, 'X[2] <= -0.449\\nsquared_error = 0.001\\nsamples = 17\\nvalue = 4.388'),\n",
              " Text(0.01183591123066577, 0.546875, 'X[7] <= 0.333\\nsquared_error = 0.0\\nsamples = 11\\nvalue = 4.4'),\n",
              " Text(0.011596801912874542, 0.515625, 'X[2] <= -0.45\\nsquared_error = 0.0\\nsamples = 8\\nvalue = 4.4'),\n",
              " Text(0.011357692595083315, 0.484375, 'squared_error = 0.0\\nsamples = 5\\nvalue = 4.4'),\n",
              " Text(0.01183591123066577, 0.484375, 'squared_error = 0.0\\nsamples = 3\\nvalue = 4.4'),\n",
              " Text(0.012075020548456997, 0.515625, 'squared_error = 0.0\\nsamples = 3\\nvalue = 4.4'),\n",
              " Text(0.012792348501830681, 0.546875, 'X[8] <= -0.268\\nsquared_error = 0.002\\nsamples = 6\\nvalue = 4.367'),\n",
              " Text(0.012553239184039453, 0.515625, 'squared_error = 0.0\\nsamples = 3\\nvalue = 4.4'),\n",
              " Text(0.013031457819621908, 0.515625, 'squared_error = 0.002\\nsamples = 3\\nvalue = 4.333'),\n",
              " Text(0.014585668385264889, 0.671875, 'X[6] <= -0.248\\nsquared_error = 0.027\\nsamples = 52\\nvalue = 4.029'),\n",
              " Text(0.01374878577299559, 0.640625, 'X[4] <= -1.032\\nsquared_error = 0.019\\nsamples = 36\\nvalue = 4.092'),\n",
              " Text(0.013270567137413137, 0.609375, 'X[3] <= -0.505\\nsquared_error = 0.002\\nsamples = 25\\nvalue = 4.156'),\n",
              " Text(0.013031457819621908, 0.578125, 'squared_error = -0.0\\nsamples = 11\\nvalue = 4.1'),\n",
              " Text(0.013509676455204364, 0.578125, 'X[7] <= -0.78\\nsquared_error = 0.0\\nsamples = 14\\nvalue = 4.2'),\n",
              " Text(0.013270567137413137, 0.546875, 'squared_error = 0.0\\nsamples = 6\\nvalue = 4.2'),\n",
              " Text(0.01374878577299559, 0.546875, 'squared_error = -0.0\\nsamples = 8\\nvalue = 4.2'),\n",
              " Text(0.014227004408578046, 0.609375, 'X[2] <= -0.365\\nsquared_error = 0.026\\nsamples = 11\\nvalue = 3.945'),\n",
              " Text(0.01398789509078682, 0.578125, 'squared_error = 0.0\\nsamples = 5\\nvalue = 3.8'),\n",
              " Text(0.014466113726369275, 0.578125, 'squared_error = 0.016\\nsamples = 6\\nvalue = 4.067'),\n",
              " Text(0.015422550997534186, 0.640625, 'X[4] <= -1.27\\nsquared_error = 0.015\\nsamples = 16\\nvalue = 3.887'),\n",
              " Text(0.015183441679742957, 0.609375, 'X[2] <= -0.319\\nsquared_error = 0.002\\nsamples = 13\\nvalue = 3.938'),\n",
              " Text(0.01494433236195173, 0.578125, 'squared_error = 0.0\\nsamples = 5\\nvalue = 4.0'),\n",
              " Text(0.015422550997534186, 0.578125, 'X[7] <= -1.346\\nsquared_error = 0.0\\nsamples = 8\\nvalue = 3.9'),\n",
              " Text(0.015183441679742957, 0.546875, 'squared_error = 0.0\\nsamples = 3\\nvalue = 3.9'),\n",
              " Text(0.015661660315325412, 0.546875, 'squared_error = 0.0\\nsamples = 5\\nvalue = 3.9'),\n",
              " Text(0.015661660315325412, 0.609375, 'squared_error = 0.009\\nsamples = 3\\nvalue = 3.667'),\n",
              " Text(0.027734812822237165, 0.734375, 'X[4] <= 0.596\\nsquared_error = 0.052\\nsamples = 372\\nvalue = 3.894'),\n",
              " Text(0.022233430471493686, 0.703125, 'X[6] <= 0.375\\nsquared_error = 0.049\\nsamples = 313\\nvalue = 3.863'),\n",
              " Text(0.01868041545243966, 0.671875, 'X[4] <= -0.558\\nsquared_error = 0.054\\nsamples = 91\\nvalue = 3.737'),\n",
              " Text(0.016797429574833746, 0.640625, 'X[4] <= -0.632\\nsquared_error = 0.021\\nsamples = 39\\nvalue = 3.879'),\n",
              " Text(0.016558320257042517, 0.609375, 'X[2] <= -0.418\\nsquared_error = 0.017\\nsamples = 35\\nvalue = 3.854'),\n",
              " Text(0.01631921093925129, 0.578125, 'squared_error = 0.0\\nsamples = 4\\nvalue = 4.1'),\n",
              " Text(0.016797429574833746, 0.578125, 'X[4] <= -1.151\\nsquared_error = 0.011\\nsamples = 31\\nvalue = 3.823'),\n",
              " Text(0.01613987895090787, 0.546875, 'X[7] <= -1.031\\nsquared_error = 0.008\\nsamples = 7\\nvalue = 3.743'),\n",
              " Text(0.01590076963311664, 0.515625, 'squared_error = 0.009\\nsamples = 3\\nvalue = 3.733'),\n",
              " Text(0.016378988268699095, 0.515625, 'squared_error = 0.007\\nsamples = 4\\nvalue = 3.75'),\n",
              " Text(0.017454980198759622, 0.546875, 'X[5] <= 0.207\\nsquared_error = 0.009\\nsamples = 24\\nvalue = 3.846'),\n",
              " Text(0.016857206904281552, 0.515625, 'X[5] <= -0.72\\nsquared_error = 0.014\\nsamples = 13\\nvalue = 3.885'),\n",
              " Text(0.016378988268699095, 0.484375, 'X[7] <= -1.055\\nsquared_error = 0.009\\nsamples = 6\\nvalue = 3.833'),\n",
              " Text(0.01613987895090787, 0.453125, 'squared_error = 0.009\\nsamples = 3\\nvalue = 3.767'),\n",
              " Text(0.016618097586490323, 0.453125, 'squared_error = 0.0\\nsamples = 3\\nvalue = 3.9'),\n",
              " Text(0.017335425539864006, 0.484375, 'X[2] <= -0.343\\nsquared_error = 0.013\\nsamples = 7\\nvalue = 3.929'),\n",
              " Text(0.01709631622207278, 0.453125, 'squared_error = 0.029\\nsamples = 3\\nvalue = 3.967'),\n",
              " Text(0.017574534857655234, 0.453125, 'squared_error = -0.0\\nsamples = 4\\nvalue = 3.9'),\n",
              " Text(0.018052753493237688, 0.515625, 'X[8] <= 0.126\\nsquared_error = 0.0\\nsamples = 11\\nvalue = 3.8'),\n",
              " Text(0.017813644175446463, 0.484375, 'squared_error = -0.0\\nsamples = 6\\nvalue = 3.8'),\n",
              " Text(0.018291862811028917, 0.484375, 'squared_error = 0.0\\nsamples = 5\\nvalue = 3.8'),\n",
              " Text(0.01703653889262497, 0.609375, 'squared_error = 0.0\\nsamples = 4\\nvalue = 4.1'),\n",
              " Text(0.02056340133004558, 0.640625, 'X[4] <= 0.48\\nsquared_error = 0.051\\nsamples = 52\\nvalue = 3.631'),\n",
              " Text(0.020085182694463126, 0.609375, 'X[4] <= 0.242\\nsquared_error = 0.048\\nsamples = 42\\nvalue = 3.579'),\n",
              " Text(0.019846073376671897, 0.578125, 'X[4] <= -0.191\\nsquared_error = 0.017\\nsamples = 37\\nvalue = 3.627'),\n",
              " Text(0.019248300082193828, 0.546875, 'X[2] <= -0.335\\nsquared_error = 0.005\\nsamples = 19\\nvalue = 3.542'),\n",
              " Text(0.0190091907644026, 0.515625, 'X[7] <= 0.128\\nsquared_error = 0.002\\nsamples = 9\\nvalue = 3.478'),\n",
              " Text(0.018770081446611374, 0.484375, 'squared_error = -0.0\\nsamples = 5\\nvalue = 3.5'),\n",
              " Text(0.019248300082193828, 0.484375, 'squared_error = 0.003\\nsamples = 4\\nvalue = 3.45'),\n",
              " Text(0.019487409399985056, 0.515625, 'squared_error = -0.0\\nsamples = 10\\nvalue = 3.6'),\n",
              " Text(0.020443846671149967, 0.546875, 'X[2] <= -0.441\\nsquared_error = 0.015\\nsamples = 18\\nvalue = 3.717'),\n",
              " Text(0.01996562803556751, 0.515625, 'X[2] <= -0.443\\nsquared_error = 0.001\\nsamples = 11\\nvalue = 3.682'),\n",
              " Text(0.019726518717776285, 0.484375, 'squared_error = 0.002\\nsamples = 4\\nvalue = 3.65'),\n",
              " Text(0.02020473735335874, 0.484375, 'squared_error = -0.0\\nsamples = 7\\nvalue = 3.7'),\n",
              " Text(0.02092206530673242, 0.515625, 'X[7] <= 0.003\\nsquared_error = 0.031\\nsamples = 7\\nvalue = 3.771'),\n",
              " Text(0.020682955988941196, 0.484375, 'squared_error = 0.047\\nsamples = 4\\nvalue = 3.825'),\n",
              " Text(0.02116117462452365, 0.484375, 'squared_error = 0.0\\nsamples = 3\\nvalue = 3.7'),\n",
              " Text(0.02032429201225435, 0.578125, 'squared_error = 0.13\\nsamples = 5\\nvalue = 3.22'),\n",
              " Text(0.021041619965628037, 0.609375, 'X[4] <= 0.54\\nsquared_error = 0.007\\nsamples = 10\\nvalue = 3.85'),\n",
              " Text(0.020802510647836808, 0.578125, 'squared_error = -0.0\\nsamples = 7\\nvalue = 3.9'),\n",
              " Text(0.021280729283419262, 0.578125, 'squared_error = 0.002\\nsamples = 3\\nvalue = 3.733'),\n",
              " Text(0.025786445490547708, 0.671875, 'X[5] <= -1.023\\nsquared_error = 0.038\\nsamples = 222\\nvalue = 3.914'),\n",
              " Text(0.0224762758723754, 0.640625, 'X[5] <= -1.052\\nsquared_error = 0.053\\nsamples = 48\\nvalue = 4.079'),\n",
              " Text(0.022237166554584173, 0.609375, 'X[4] <= 0.197\\nsquared_error = 0.015\\nsamples = 34\\nvalue = 3.947'),\n",
              " Text(0.02175894791900172, 0.578125, 'X[6] <= 0.759\\nsquared_error = 0.005\\nsamples = 22\\nvalue = 4.027'),\n",
              " Text(0.02151983860121049, 0.546875, 'squared_error = -0.0\\nsamples = 9\\nvalue = 4.1'),\n",
              " Text(0.021998057236792948, 0.546875, 'X[2] <= -0.451\\nsquared_error = 0.002\\nsamples = 13\\nvalue = 3.977'),\n",
              " Text(0.02175894791900172, 0.515625, 'squared_error = 0.0\\nsamples = 3\\nvalue = 3.9'),\n",
              " Text(0.022237166554584173, 0.515625, 'X[2] <= -0.419\\nsquared_error = 0.0\\nsamples = 10\\nvalue = 4.0'),\n",
              " Text(0.021998057236792948, 0.484375, 'squared_error = 0.0\\nsamples = 5\\nvalue = 4.0'),\n",
              " Text(0.0224762758723754, 0.484375, 'squared_error = 0.0\\nsamples = 5\\nvalue = 4.0'),\n",
              " Text(0.02271538519016663, 0.578125, 'X[8] <= 1.309\\nsquared_error = 0.0\\nsamples = 12\\nvalue = 3.8'),\n",
              " Text(0.0224762758723754, 0.546875, 'squared_error = 0.0\\nsamples = 5\\nvalue = 3.8'),\n",
              " Text(0.02295449450795786, 0.546875, 'X[7] <= 0.584\\nsquared_error = 0.0\\nsamples = 7\\nvalue = 3.8'),\n",
              " Text(0.02271538519016663, 0.515625, 'squared_error = 0.0\\nsamples = 4\\nvalue = 3.8'),\n",
              " Text(0.023193603825749084, 0.515625, 'squared_error = -0.0\\nsamples = 3\\nvalue = 3.8'),\n",
              " Text(0.02271538519016663, 0.609375, 'squared_error = -0.0\\nsamples = 14\\nvalue = 4.4'),\n",
              " Text(0.02909661510872002, 0.640625, 'X[2] <= -0.368\\nsquared_error = 0.025\\nsamples = 174\\nvalue = 3.869'),\n",
              " Text(0.027109018904580437, 0.609375, 'X[7] <= -1.021\\nsquared_error = 0.017\\nsamples = 109\\nvalue = 3.918'),\n",
              " Text(0.025285810356422328, 0.578125, 'X[6] <= 1.094\\nsquared_error = 0.007\\nsamples = 72\\nvalue = 3.885'),\n",
              " Text(0.024150041096913995, 0.546875, 'X[3] <= -0.027\\nsquared_error = 0.002\\nsamples = 43\\nvalue = 3.926'),\n",
              " Text(0.02367182246133154, 0.515625, 'X[4] <= -0.785\\nsquared_error = 0.001\\nsamples = 35\\nvalue = 3.909'),\n",
              " Text(0.023432713143540312, 0.484375, 'X[8] <= 0.126\\nsquared_error = 0.003\\nsamples = 6\\nvalue = 3.95'),\n",
              " Text(0.023193603825749084, 0.453125, 'squared_error = 0.002\\nsamples = 3\\nvalue = 3.967'),\n",
              " Text(0.02367182246133154, 0.453125, 'squared_error = 0.002\\nsamples = 3\\nvalue = 3.933'),\n",
              " Text(0.023910931779122766, 0.484375, 'squared_error = -0.0\\nsamples = 29\\nvalue = 3.9'),\n",
              " Text(0.024628259732496452, 0.515625, 'X[8] <= 0.126\\nsquared_error = 0.0\\nsamples = 8\\nvalue = 4.0'),\n",
              " Text(0.024389150414705223, 0.484375, 'squared_error = 0.0\\nsamples = 4\\nvalue = 4.0'),\n",
              " Text(0.024867369050287677, 0.484375, 'squared_error = 0.0\\nsamples = 4\\nvalue = 4.0'),\n",
              " Text(0.026421579615930658, 0.546875, 'X[4] <= -0.914\\nsquared_error = 0.009\\nsamples = 29\\nvalue = 3.824'),\n",
              " Text(0.025584697003661363, 0.515625, 'X[7] <= -1.283\\nsquared_error = 0.002\\nsamples = 10\\nvalue = 3.75'),\n",
              " Text(0.025345587685870134, 0.484375, 'squared_error = 0.0\\nsamples = 3\\nvalue = 3.8'),\n",
              " Text(0.025823806321452588, 0.484375, 'X[3] <= 0.252\\nsquared_error = 0.002\\nsamples = 7\\nvalue = 3.729'),\n",
              " Text(0.025584697003661363, 0.453125, 'squared_error = 0.002\\nsamples = 4\\nvalue = 3.75'),\n",
              " Text(0.026062915639243817, 0.453125, 'squared_error = 0.0\\nsamples = 3\\nvalue = 3.7'),\n",
              " Text(0.027258462228199956, 0.515625, 'X[4] <= -0.652\\nsquared_error = 0.009\\nsamples = 19\\nvalue = 3.863'),\n",
              " Text(0.0267802435926175, 0.484375, 'X[6] <= 3.06\\nsquared_error = 0.008\\nsamples = 8\\nvalue = 3.95'),\n",
              " Text(0.026541134274826274, 0.453125, 'squared_error = 0.009\\nsamples = 3\\nvalue = 4.033'),\n",
              " Text(0.027019352910408728, 0.453125, 'squared_error = 0.0\\nsamples = 5\\nvalue = 3.9'),\n",
              " Text(0.02773668086378241, 0.484375, 'X[8] <= 0.126\\nsquared_error = 0.0\\nsamples = 11\\nvalue = 3.8'),\n",
              " Text(0.02749757154599118, 0.453125, 'squared_error = 0.0\\nsamples = 3\\nvalue = 3.8'),\n",
              " Text(0.02797579018157364, 0.453125, 'X[8] <= 1.309\\nsquared_error = 0.0\\nsamples = 8\\nvalue = 3.8'),\n",
              " Text(0.02773668086378241, 0.421875, 'squared_error = 0.0\\nsamples = 4\\nvalue = 3.8'),\n",
              " Text(0.028214899499364867, 0.421875, 'squared_error = -0.0\\nsamples = 4\\nvalue = 3.8'),\n",
              " Text(0.02893222745273855, 0.578125, 'X[5] <= 0.182\\nsquared_error = 0.031\\nsamples = 37\\nvalue = 3.984'),\n",
              " Text(0.028214899499364867, 0.546875, 'X[2] <= -0.436\\nsquared_error = 0.026\\nsamples = 27\\nvalue = 4.044'),\n",
              " Text(0.02797579018157364, 0.515625, 'squared_error = 0.07\\nsamples = 5\\nvalue = 4.28'),\n",
              " Text(0.028454008817156092, 0.515625, 'X[5] <= -0.778\\nsquared_error = 0.001\\nsamples = 22\\nvalue = 3.991'),\n",
              " Text(0.028214899499364867, 0.484375, 'squared_error = 0.002\\nsamples = 5\\nvalue = 3.96'),\n",
              " Text(0.02869311813494732, 0.484375, 'squared_error = 0.0\\nsamples = 17\\nvalue = 4.0'),\n",
              " Text(0.02964955540611223, 0.546875, 'X[7] <= 1.171\\nsquared_error = 0.006\\nsamples = 10\\nvalue = 3.82'),\n",
              " Text(0.029410446088321003, 0.515625, 'X[8] <= -0.268\\nsquared_error = 0.002\\nsamples = 6\\nvalue = 3.767'),\n",
              " Text(0.029171336770529778, 0.484375, 'squared_error = 0.002\\nsamples = 3\\nvalue = 3.767'),\n",
              " Text(0.02964955540611223, 0.484375, 'squared_error = 0.002\\nsamples = 3\\nvalue = 3.767'),\n",
              " Text(0.02988866472390346, 0.515625, 'squared_error = 0.0\\nsamples = 4\\nvalue = 3.9'),\n",
              " Text(0.031084211312859596, 0.609375, 'X[6] <= 2.005\\nsquared_error = 0.026\\nsamples = 65\\nvalue = 3.786'),\n",
              " Text(0.03084510199506837, 0.578125, 'X[3] <= 0.851\\nsquared_error = 0.019\\nsamples = 61\\nvalue = 3.762'),\n",
              " Text(0.030605992677277143, 0.546875, 'X[7] <= -1.264\\nsquared_error = 0.018\\nsamples = 56\\nvalue = 3.777'),\n",
              " Text(0.030366883359485914, 0.515625, 'squared_error = 0.13\\nsamples = 5\\nvalue = 3.62'),\n",
              " Text(0.03084510199506837, 0.515625, 'X[4] <= -0.195\\nsquared_error = 0.004\\nsamples = 51\\nvalue = 3.792'),\n",
              " Text(0.0302473287005903, 0.484375, 'X[2] <= -0.309\\nsquared_error = 0.001\\nsamples = 42\\nvalue = 3.807'),\n",
              " Text(0.029769110065007844, 0.453125, 'X[3] <= -0.027\\nsquared_error = 0.0\\nsamples = 36\\nvalue = 3.8'),\n",
              " Text(0.02953000074721662, 0.421875, 'X[0] <= 0.455\\nsquared_error = 0.0\\nsamples = 30\\nvalue = 3.8'),\n",
              " Text(0.02929089142942539, 0.390625, 'X[8] <= 0.126\\nsquared_error = 0.0\\nsamples = 25\\nvalue = 3.8'),\n",
              " Text(0.028812672793842933, 0.359375, 'X[7] <= -0.837\\nsquared_error = 0.0\\nsamples = 19\\nvalue = 3.8'),\n",
              " Text(0.028573563476051708, 0.328125, 'squared_error = -0.0\\nsamples = 6\\nvalue = 3.8'),\n",
              " Text(0.029051782111634162, 0.328125, 'X[2] <= -0.361\\nsquared_error = 0.0\\nsamples = 13\\nvalue = 3.8'),\n",
              " Text(0.028812672793842933, 0.296875, 'squared_error = -0.0\\nsamples = 7\\nvalue = 3.8'),\n",
              " Text(0.02929089142942539, 0.296875, 'X[8] <= -1.452\\nsquared_error = 0.0\\nsamples = 6\\nvalue = 3.8'),\n",
              " Text(0.029051782111634162, 0.265625, 'squared_error = 0.0\\nsamples = 3\\nvalue = 3.8'),\n",
              " Text(0.02953000074721662, 0.265625, 'squared_error = -0.0\\nsamples = 3\\nvalue = 3.8'),\n",
              " Text(0.029769110065007844, 0.359375, 'X[7] <= 0.956\\nsquared_error = 0.0\\nsamples = 6\\nvalue = 3.8'),\n",
              " Text(0.02953000074721662, 0.328125, 'squared_error = 0.0\\nsamples = 3\\nvalue = 3.8'),\n",
              " Text(0.030008219382799073, 0.328125, 'squared_error = -0.0\\nsamples = 3\\nvalue = 3.8'),\n",
              " Text(0.029769110065007844, 0.390625, 'squared_error = 0.0\\nsamples = 5\\nvalue = 3.8'),\n",
              " Text(0.030008219382799073, 0.421875, 'squared_error = -0.0\\nsamples = 6\\nvalue = 3.8'),\n",
              " Text(0.030725547336172755, 0.453125, 'X[4] <= -0.77\\nsquared_error = 0.002\\nsamples = 6\\nvalue = 3.85'),\n",
              " Text(0.03048643801838153, 0.421875, 'squared_error = 0.0\\nsamples = 3\\nvalue = 3.9'),\n",
              " Text(0.030964656653963984, 0.421875, 'squared_error = 0.0\\nsamples = 3\\nvalue = 3.8'),\n",
              " Text(0.03144287528954644, 0.484375, 'X[3] <= -0.306\\nsquared_error = 0.015\\nsamples = 9\\nvalue = 3.722'),\n",
              " Text(0.031203765971755212, 0.453125, 'squared_error = 0.0\\nsamples = 4\\nvalue = 3.8'),\n",
              " Text(0.03168198460733767, 0.453125, 'squared_error = 0.018\\nsamples = 5\\nvalue = 3.66'),\n",
              " Text(0.031084211312859596, 0.546875, 'squared_error = 0.0\\nsamples = 5\\nvalue = 3.6'),\n",
              " Text(0.031323320630650825, 0.578125, 'squared_error = 0.003\\nsamples = 4\\nvalue = 4.15'),\n",
              " Text(0.03323619517298065, 0.703125, 'X[5] <= 0.027\\nsquared_error = 0.033\\nsamples = 59\\nvalue = 4.061'),\n",
              " Text(0.03227975790181574, 0.671875, 'X[5] <= -0.823\\nsquared_error = 0.035\\nsamples = 44\\nvalue = 4.102'),\n",
              " Text(0.03180153926623328, 0.640625, 'X[4] <= 1.339\\nsquared_error = 0.019\\nsamples = 8\\nvalue = 3.887'),\n",
              " Text(0.03156242994844205, 0.609375, 'squared_error = 0.02\\nsamples = 3\\nvalue = 4.0'),\n",
              " Text(0.03204064858402451, 0.609375, 'squared_error = 0.006\\nsamples = 5\\nvalue = 3.82'),\n",
              " Text(0.03275797653739819, 0.640625, 'X[2] <= -0.455\\nsquared_error = 0.026\\nsamples = 36\\nvalue = 4.15'),\n",
              " Text(0.032518867219606964, 0.609375, 'squared_error = 0.036\\nsamples = 3\\nvalue = 3.833'),\n",
              " Text(0.03299708585518942, 0.609375, 'X[6] <= 0.04\\nsquared_error = 0.016\\nsamples = 33\\nvalue = 4.179'),\n",
              " Text(0.03275797653739819, 0.578125, 'squared_error = 0.0\\nsamples = 3\\nvalue = 3.9'),\n",
              " Text(0.03323619517298065, 0.578125, 'X[5] <= -0.749\\nsquared_error = 0.009\\nsamples = 30\\nvalue = 4.207'),\n",
              " Text(0.03263842187850258, 0.546875, 'X[7] <= 0.975\\nsquared_error = 0.008\\nsamples = 10\\nvalue = 4.26'),\n",
              " Text(0.03239931256071135, 0.515625, 'squared_error = -0.0\\nsamples = 7\\nvalue = 4.2'),\n",
              " Text(0.0328775311962938, 0.515625, 'squared_error = 0.0\\nsamples = 3\\nvalue = 4.4'),\n",
              " Text(0.03383396846745872, 0.546875, 'X[7] <= 1.355\\nsquared_error = 0.007\\nsamples = 20\\nvalue = 4.18'),\n",
              " Text(0.03335574983187626, 0.515625, 'X[4] <= 1.693\\nsquared_error = 0.008\\nsamples = 12\\nvalue = 4.15'),\n",
              " Text(0.033116640514085034, 0.484375, 'X[4] <= 0.918\\nsquared_error = 0.002\\nsamples = 8\\nvalue = 4.2'),\n",
              " Text(0.0328775311962938, 0.453125, 'squared_error = 0.002\\nsamples = 3\\nvalue = 4.167'),\n",
              " Text(0.03335574983187626, 0.453125, 'squared_error = 0.002\\nsamples = 5\\nvalue = 4.22'),\n",
              " Text(0.03359485914966749, 0.484375, 'squared_error = 0.002\\nsamples = 4\\nvalue = 4.05'),\n",
              " Text(0.034312187103041174, 0.515625, 'X[8] <= 0.52\\nsquared_error = 0.002\\nsamples = 8\\nvalue = 4.225'),\n",
              " Text(0.03407307778524994, 0.484375, 'squared_error = 0.0\\nsamples = 4\\nvalue = 4.2'),\n",
              " Text(0.0345512964208324, 0.484375, 'squared_error = 0.002\\nsamples = 4\\nvalue = 4.25'),\n",
              " Text(0.03419263244414556, 0.671875, 'X[3] <= -0.027\\nsquared_error = 0.006\\nsamples = 15\\nvalue = 3.94'),\n",
              " Text(0.033714413808563104, 0.640625, 'X[2] <= -0.39\\nsquared_error = 0.002\\nsamples = 6\\nvalue = 3.85'),\n",
              " Text(0.03347530449077187, 0.609375, 'squared_error = 0.0\\nsamples = 3\\nvalue = 3.8'),\n",
              " Text(0.03395352312635433, 0.609375, 'squared_error = -0.0\\nsamples = 3\\nvalue = 3.9'),\n",
              " Text(0.03467085107972801, 0.640625, 'X[8] <= 0.126\\nsquared_error = 0.0\\nsamples = 9\\nvalue = 4.0'),\n",
              " Text(0.034431741761936786, 0.609375, 'squared_error = 0.0\\nsamples = 4\\nvalue = 4.0'),\n",
              " Text(0.034909960397519244, 0.609375, 'squared_error = 0.0\\nsamples = 5\\nvalue = 4.0'),\n",
              " Text(0.0414555779720541, 0.765625, 'X[2] <= -0.179\\nsquared_error = 0.04\\nsamples = 172\\nvalue = 4.089'),\n",
              " Text(0.04121646865426287, 0.734375, 'X[4] <= 0.963\\nsquared_error = 0.029\\nsamples = 169\\nvalue = 4.1'),\n",
              " Text(0.038915041470522306, 0.703125, 'X[2] <= -0.22\\nsquared_error = 0.023\\nsamples = 135\\nvalue = 4.07'),\n",
              " Text(0.037301053575431516, 0.671875, 'X[3] <= -0.465\\nsquared_error = 0.019\\nsamples = 96\\nvalue = 4.113'),\n",
              " Text(0.035985952327579764, 0.640625, 'X[0] <= 0.455\\nsquared_error = 0.016\\nsamples = 51\\nvalue = 4.182'),\n",
              " Text(0.035388179033101694, 0.609375, 'X[7] <= -0.665\\nsquared_error = 0.007\\nsamples = 39\\nvalue = 4.133'),\n",
              " Text(0.034909960397519244, 0.578125, 'X[5] <= -0.895\\nsquared_error = 0.007\\nsamples = 23\\nvalue = 4.087'),\n",
              " Text(0.03467085107972801, 0.546875, 'squared_error = 0.0\\nsamples = 6\\nvalue = 4.2'),\n",
              " Text(0.03514906971531047, 0.546875, 'X[4] <= -1.188\\nsquared_error = 0.004\\nsamples = 17\\nvalue = 4.047'),\n",
              " Text(0.034909960397519244, 0.515625, 'squared_error = -0.0\\nsamples = 10\\nvalue = 4.0'),\n",
              " Text(0.035388179033101694, 0.515625, 'X[2] <= -0.225\\nsquared_error = 0.001\\nsamples = 7\\nvalue = 4.114'),\n",
              " Text(0.03514906971531047, 0.484375, 'squared_error = 0.002\\nsamples = 3\\nvalue = 4.133'),\n",
              " Text(0.035627288350892926, 0.484375, 'squared_error = -0.0\\nsamples = 4\\nvalue = 4.1'),\n",
              " Text(0.03586639766868415, 0.578125, 'X[7] <= 0.391\\nsquared_error = 0.0\\nsamples = 16\\nvalue = 4.2'),\n",
              " Text(0.035627288350892926, 0.546875, 'squared_error = 0.0\\nsamples = 4\\nvalue = 4.2'),\n",
              " Text(0.036105506986475376, 0.546875, 'squared_error = -0.0\\nsamples = 12\\nvalue = 4.2'),\n",
              " Text(0.03658372562205783, 0.609375, 'X[7] <= -1.003\\nsquared_error = 0.009\\nsamples = 12\\nvalue = 4.342'),\n",
              " Text(0.03634461630426661, 0.578125, 'squared_error = 0.016\\nsamples = 3\\nvalue = 4.467'),\n",
              " Text(0.036822834939849065, 0.578125, 'X[7] <= -0.02\\nsquared_error = 0.0\\nsamples = 9\\nvalue = 4.3'),\n",
              " Text(0.03658372562205783, 0.546875, 'squared_error = 0.0\\nsamples = 3\\nvalue = 4.3'),\n",
              " Text(0.03706194425764029, 0.546875, 'squared_error = 0.0\\nsamples = 6\\nvalue = 4.3'),\n",
              " Text(0.03861615482328327, 0.640625, 'X[3] <= 0.133\\nsquared_error = 0.01\\nsamples = 45\\nvalue = 4.033'),\n",
              " Text(0.0380183815288052, 0.609375, 'X[5] <= -0.369\\nsquared_error = 0.002\\nsamples = 16\\nvalue = 3.925'),\n",
              " Text(0.03777927221101397, 0.578125, 'X[4] <= -0.202\\nsquared_error = 0.0\\nsamples = 12\\nvalue = 3.9'),\n",
              " Text(0.03754016289322275, 0.546875, 'X[2] <= -0.259\\nsquared_error = 0.0\\nsamples = 8\\nvalue = 3.9'),\n",
              " Text(0.037301053575431516, 0.515625, 'squared_error = 0.0\\nsamples = 3\\nvalue = 3.9'),\n",
              " Text(0.03777927221101397, 0.515625, 'squared_error = 0.0\\nsamples = 5\\nvalue = 3.9'),\n",
              " Text(0.0380183815288052, 0.546875, 'squared_error = 0.0\\nsamples = 4\\nvalue = 3.9'),\n",
              " Text(0.03825749084659643, 0.578125, 'squared_error = 0.0\\nsamples = 4\\nvalue = 4.0'),\n",
              " Text(0.03921392811776134, 0.609375, 'X[2] <= -0.246\\nsquared_error = 0.005\\nsamples = 29\\nvalue = 4.093'),\n",
              " Text(0.03897481879997011, 0.578125, 'X[2] <= -0.251\\nsquared_error = 0.002\\nsamples = 23\\nvalue = 4.065'),\n",
              " Text(0.038496600164387655, 0.546875, 'X[4] <= -0.794\\nsquared_error = 0.002\\nsamples = 12\\nvalue = 4.033'),\n",
              " Text(0.03825749084659643, 0.515625, 'squared_error = 0.0\\nsamples = 4\\nvalue = 4.1'),\n",
              " Text(0.03873570948217888, 0.515625, 'squared_error = 0.0\\nsamples = 8\\nvalue = 4.0'),\n",
              " Text(0.03945303743555257, 0.546875, 'X[4] <= -0.794\\nsquared_error = 0.0\\nsamples = 11\\nvalue = 4.1'),\n",
              " Text(0.03921392811776134, 0.515625, 'squared_error = 0.0\\nsamples = 3\\nvalue = 4.1'),\n",
              " Text(0.039692146753343795, 0.515625, 'squared_error = -0.0\\nsamples = 8\\nvalue = 4.1'),\n",
              " Text(0.03945303743555257, 0.578125, 'squared_error = -0.0\\nsamples = 6\\nvalue = 4.2'),\n",
              " Text(0.04052902936561309, 0.671875, 'X[6] <= -0.248\\nsquared_error = 0.02\\nsamples = 39\\nvalue = 3.967'),\n",
              " Text(0.040289920047821864, 0.640625, 'squared_error = -0.0\\nsamples = 8\\nvalue = 3.8'),\n",
              " Text(0.04076813868340432, 0.640625, 'X[4] <= -0.981\\nsquared_error = 0.016\\nsamples = 31\\nvalue = 4.01'),\n",
              " Text(0.04017036538892625, 0.609375, 'X[7] <= -0.958\\nsquared_error = 0.012\\nsamples = 13\\nvalue = 4.1'),\n",
              " Text(0.03993125607113502, 0.578125, 'squared_error = 0.014\\nsamples = 5\\nvalue = 4.16'),\n",
              " Text(0.04040947470671748, 0.578125, 'X[2] <= -0.212\\nsquared_error = 0.007\\nsamples = 8\\nvalue = 4.062'),\n",
              " Text(0.04017036538892625, 0.546875, 'squared_error = 0.002\\nsamples = 5\\nvalue = 4.12'),\n",
              " Text(0.0406485840245087, 0.546875, 'squared_error = 0.002\\nsamples = 3\\nvalue = 3.967'),\n",
              " Text(0.04136591197788239, 0.609375, 'X[2] <= -0.203\\nsquared_error = 0.008\\nsamples = 18\\nvalue = 3.944'),\n",
              " Text(0.04112680266009116, 0.578125, 'squared_error = 0.003\\nsamples = 4\\nvalue = 4.05'),\n",
              " Text(0.041605021295673617, 0.578125, 'X[5] <= -0.487\\nsquared_error = 0.006\\nsamples = 14\\nvalue = 3.914'),\n",
              " Text(0.04112680266009116, 0.546875, 'X[5] <= -0.761\\nsquared_error = 0.002\\nsamples = 8\\nvalue = 3.863'),\n",
              " Text(0.040887693342299934, 0.515625, 'squared_error = 0.0\\nsamples = 3\\nvalue = 3.8'),\n",
              " Text(0.04136591197788239, 0.515625, 'squared_error = -0.0\\nsamples = 5\\nvalue = 3.9'),\n",
              " Text(0.042083239931256074, 0.546875, 'X[5] <= -0.138\\nsquared_error = 0.001\\nsamples = 6\\nvalue = 3.983'),\n",
              " Text(0.04184413061346484, 0.515625, 'squared_error = 0.002\\nsamples = 3\\nvalue = 3.967'),\n",
              " Text(0.0423223492490473, 0.515625, 'squared_error = 0.0\\nsamples = 3\\nvalue = 4.0'),\n",
              " Text(0.04351789583800344, 0.703125, 'X[5] <= -0.29\\nsquared_error = 0.033\\nsamples = 34\\nvalue = 4.218'),\n",
              " Text(0.042561458566838524, 0.671875, 'X[4] <= 1.513\\nsquared_error = 0.011\\nsamples = 17\\nvalue = 4.353'),\n",
              " Text(0.042083239931256074, 0.640625, 'X[5] <= -0.798\\nsquared_error = 0.006\\nsamples = 6\\nvalue = 4.467'),\n",
              " Text(0.04184413061346484, 0.609375, 'squared_error = 0.002\\nsamples = 3\\nvalue = 4.467'),\n",
              " Text(0.0423223492490473, 0.609375, 'squared_error = 0.009\\nsamples = 3\\nvalue = 4.467'),\n",
              " Text(0.04303967720242098, 0.640625, 'X[2] <= -0.21\\nsquared_error = 0.003\\nsamples = 11\\nvalue = 4.291'),\n",
              " Text(0.042800567884629756, 0.609375, 'X[8] <= -0.663\\nsquared_error = 0.002\\nsamples = 6\\nvalue = 4.267'),\n",
              " Text(0.042561458566838524, 0.578125, 'squared_error = 0.002\\nsamples = 3\\nvalue = 4.267'),\n",
              " Text(0.04303967720242098, 0.578125, 'squared_error = 0.002\\nsamples = 3\\nvalue = 4.267'),\n",
              " Text(0.043278786520212206, 0.609375, 'squared_error = 0.002\\nsamples = 5\\nvalue = 4.32'),\n",
              " Text(0.044474333109168346, 0.671875, 'X[3] <= 0.133\\nsquared_error = 0.019\\nsamples = 17\\nvalue = 4.082'),\n",
              " Text(0.043996114473585896, 0.640625, 'X[7] <= 1.462\\nsquared_error = 0.008\\nsamples = 6\\nvalue = 3.917'),\n",
              " Text(0.043757005155794663, 0.609375, 'squared_error = 0.002\\nsamples = 3\\nvalue = 3.833'),\n",
              " Text(0.04423522379137712, 0.609375, 'squared_error = 0.0\\nsamples = 3\\nvalue = 4.0'),\n",
              " Text(0.0449525517447508, 0.640625, 'X[7] <= 1.35\\nsquared_error = 0.002\\nsamples = 11\\nvalue = 4.173'),\n",
              " Text(0.04471344242695958, 0.609375, 'squared_error = 0.0\\nsamples = 8\\nvalue = 4.2'),\n",
              " Text(0.04519166106254203, 0.609375, 'squared_error = -0.0\\nsamples = 3\\nvalue = 4.1'),\n",
              " Text(0.04169468728984533, 0.734375, 'squared_error = 0.269\\nsamples = 3\\nvalue = 3.467'),\n",
              " Text(0.06378801464544571, 0.796875, 'X[5] <= 1.436\\nsquared_error = 0.054\\nsamples = 703\\nvalue = 4.1'),\n",
              " Text(0.053582903683777924, 0.765625, 'X[5] <= 0.355\\nsquared_error = 0.045\\nsamples = 491\\nvalue = 4.143'),\n",
              " Text(0.048658746170514834, 0.734375, 'X[5] <= 0.324\\nsquared_error = 0.007\\nsamples = 13\\nvalue = 4.454'),\n",
              " Text(0.0484196368527236, 0.703125, 'squared_error = 0.0\\nsamples = 3\\nvalue = 4.3'),\n",
              " Text(0.04889785548830606, 0.703125, 'X[2] <= -0.313\\nsquared_error = 0.0\\nsamples = 10\\nvalue = 4.5'),\n",
              " Text(0.048658746170514834, 0.671875, 'squared_error = 0.0\\nsamples = 3\\nvalue = 4.5'),\n",
              " Text(0.049136964806097284, 0.671875, 'squared_error = 0.0\\nsamples = 7\\nvalue = 4.5'),\n",
              " Text(0.05850706119704102, 0.734375, 'X[2] <= -0.269\\nsquared_error = 0.044\\nsamples = 478\\nvalue = 4.135'),\n",
              " Text(0.053261600537995966, 0.703125, 'X[0] <= 0.455\\nsquared_error = 0.045\\nsamples = 373\\nvalue = 4.108'),\n",
              " Text(0.04961518344167974, 0.671875, 'X[3] <= 0.093\\nsquared_error = 0.048\\nsamples = 202\\nvalue = 4.048'),\n",
              " Text(0.04770230889934992, 0.640625, 'X[3] <= -0.386\\nsquared_error = 0.035\\nsamples = 161\\nvalue = 4.091'),\n",
              " Text(0.045669879698124485, 0.609375, 'X[5] <= 0.596\\nsquared_error = 0.028\\nsamples = 136\\nvalue = 4.064'),\n",
              " Text(0.044474333109168346, 0.578125, 'X[5] <= 0.469\\nsquared_error = 0.024\\nsamples = 34\\nvalue = 4.2'),\n",
              " Text(0.04423522379137712, 0.546875, 'X[2] <= -0.342\\nsquared_error = 0.003\\nsamples = 22\\nvalue = 4.091'),\n",
              " Text(0.043996114473585896, 0.515625, 'squared_error = 0.0\\nsamples = 4\\nvalue = 4.0'),\n",
              " Text(0.044474333109168346, 0.515625, 'X[2] <= -0.279\\nsquared_error = 0.001\\nsamples = 18\\nvalue = 4.111'),\n",
              " Text(0.04423522379137712, 0.484375, 'squared_error = 0.002\\nsamples = 3\\nvalue = 4.167'),\n",
              " Text(0.04471344242695958, 0.484375, 'squared_error = 0.0\\nsamples = 15\\nvalue = 4.1'),\n",
              " Text(0.04471344242695958, 0.546875, 'squared_error = -0.0\\nsamples = 12\\nvalue = 4.4'),\n",
              " Text(0.046865426287080625, 0.578125, 'X[5] <= 0.901\\nsquared_error = 0.022\\nsamples = 102\\nvalue = 4.019'),\n",
              " Text(0.04590898901591572, 0.546875, 'X[8] <= 0.126\\nsquared_error = 0.047\\nsamples = 14\\nvalue = 3.757'),\n",
              " Text(0.04543077038033326, 0.515625, 'X[5] <= 0.879\\nsquared_error = 0.055\\nsamples = 8\\nvalue = 3.85'),\n",
              " Text(0.04519166106254203, 0.484375, 'squared_error = 0.047\\nsamples = 3\\nvalue = 4.1'),\n",
              " Text(0.045669879698124485, 0.484375, 'squared_error = 0.0\\nsamples = 5\\nvalue = 3.7'),\n",
              " Text(0.04638720765149817, 0.515625, 'X[7] <= 0.297\\nsquared_error = 0.009\\nsamples = 6\\nvalue = 3.633'),\n",
              " Text(0.04614809833370694, 0.484375, 'squared_error = 0.009\\nsamples = 3\\nvalue = 3.567'),\n",
              " Text(0.0466263169692894, 0.484375, 'squared_error = -0.0\\nsamples = 3\\nvalue = 3.7'),\n",
              " Text(0.04782186355824553, 0.546875, 'X[2] <= -0.293\\nsquared_error = 0.005\\nsamples = 88\\nvalue = 4.06'),\n",
              " Text(0.04734364492266308, 0.515625, 'X[6] <= 0.04\\nsquared_error = 0.002\\nsamples = 77\\nvalue = 4.04'),\n",
              " Text(0.04710453560487185, 0.484375, 'X[8] <= 0.126\\nsquared_error = 0.0\\nsamples = 31\\nvalue = 4.1'),\n",
              " Text(0.046865426287080625, 0.453125, 'squared_error = 0.0\\nsamples = 18\\nvalue = 4.1'),\n",
              " Text(0.04734364492266308, 0.453125, 'X[4] <= 0.784\\nsquared_error = 0.0\\nsamples = 13\\nvalue = 4.1'),\n",
              " Text(0.04710453560487185, 0.421875, 'squared_error = -0.0\\nsamples = 10\\nvalue = 4.1'),\n",
              " Text(0.04758275424045431, 0.421875, 'squared_error = -0.0\\nsamples = 3\\nvalue = 4.1'),\n",
              " Text(0.04758275424045431, 0.484375, 'squared_error = -0.0\\nsamples = 46\\nvalue = 4.0'),\n",
              " Text(0.04830008219382799, 0.515625, 'X[8] <= 0.126\\nsquared_error = 0.0\\nsamples = 11\\nvalue = 4.2'),\n",
              " Text(0.048060972876036764, 0.484375, 'squared_error = 0.0\\nsamples = 6\\nvalue = 4.2'),\n",
              " Text(0.04853919151161922, 0.484375, 'squared_error = -0.0\\nsamples = 5\\nvalue = 4.2'),\n",
              " Text(0.049734738100575354, 0.609375, 'X[6] <= -0.008\\nsquared_error = 0.049\\nsamples = 25\\nvalue = 4.24'),\n",
              " Text(0.049256519464992904, 0.578125, 'X[7] <= 0.559\\nsquared_error = 0.005\\nsamples = 11\\nvalue = 4.0'),\n",
              " Text(0.04901741014720167, 0.546875, 'X[5] <= 1.045\\nsquared_error = 0.002\\nsamples = 8\\nvalue = 3.962'),\n",
              " Text(0.04877830082941045, 0.515625, 'squared_error = 0.0\\nsamples = 5\\nvalue = 4.0'),\n",
              " Text(0.049256519464992904, 0.515625, 'squared_error = 0.0\\nsamples = 3\\nvalue = 3.9'),\n",
              " Text(0.04949562878278413, 0.546875, 'squared_error = -0.0\\nsamples = 3\\nvalue = 4.1'),\n",
              " Text(0.05021295673615781, 0.578125, 'X[4] <= 0.614\\nsquared_error = 0.002\\nsamples = 14\\nvalue = 4.429'),\n",
              " Text(0.049973847418366586, 0.546875, 'squared_error = 0.0\\nsamples = 5\\nvalue = 4.4'),\n",
              " Text(0.050452066053949036, 0.546875, 'X[7] <= 0.558\\nsquared_error = 0.002\\nsamples = 9\\nvalue = 4.444'),\n",
              " Text(0.05021295673615781, 0.515625, 'squared_error = 0.0\\nsamples = 4\\nvalue = 4.5'),\n",
              " Text(0.05069117537174027, 0.515625, 'squared_error = 0.0\\nsamples = 5\\nvalue = 4.4'),\n",
              " Text(0.05152805798400956, 0.640625, 'X[3] <= 0.532\\nsquared_error = 0.062\\nsamples = 41\\nvalue = 3.878'),\n",
              " Text(0.050930284689531494, 0.609375, 'X[2] <= -0.303\\nsquared_error = 0.017\\nsamples = 7\\nvalue = 3.357'),\n",
              " Text(0.05069117537174027, 0.578125, 'squared_error = 0.0\\nsamples = 3\\nvalue = 3.5'),\n",
              " Text(0.051169394007322726, 0.578125, 'squared_error = 0.003\\nsamples = 4\\nvalue = 3.25'),\n",
              " Text(0.05212583127848763, 0.609375, 'X[4] <= -0.406\\nsquared_error = 0.004\\nsamples = 34\\nvalue = 3.985'),\n",
              " Text(0.051647612642905176, 0.578125, 'X[8] <= 1.309\\nsquared_error = 0.0\\nsamples = 10\\nvalue = 3.9'),\n",
              " Text(0.05140850332511395, 0.546875, 'X[7] <= 0.245\\nsquared_error = 0.0\\nsamples = 7\\nvalue = 3.9'),\n",
              " Text(0.051169394007322726, 0.515625, 'squared_error = 0.0\\nsamples = 4\\nvalue = 3.9'),\n",
              " Text(0.051647612642905176, 0.515625, 'squared_error = 0.0\\nsamples = 3\\nvalue = 3.9'),\n",
              " Text(0.05188672196069641, 0.546875, 'squared_error = 0.0\\nsamples = 3\\nvalue = 3.9'),\n",
              " Text(0.05260404991407009, 0.578125, 'X[6] <= 0.95\\nsquared_error = 0.002\\nsamples = 24\\nvalue = 4.021'),\n",
              " Text(0.05236494059627886, 0.546875, 'squared_error = 0.0\\nsamples = 5\\nvalue = 4.1'),\n",
              " Text(0.052843159231861316, 0.546875, 'squared_error = 0.0\\nsamples = 19\\nvalue = 4.0'),\n",
              " Text(0.056908017634312184, 0.671875, 'X[5] <= 0.397\\nsquared_error = 0.031\\nsamples = 171\\nvalue = 4.178'),\n",
              " Text(0.05666890831652096, 0.640625, 'squared_error = 0.0\\nsamples = 3\\nvalue = 3.6'),\n",
              " Text(0.057147126952103416, 0.640625, 'X[6] <= 2.101\\nsquared_error = 0.026\\nsamples = 168\\nvalue = 4.188'),\n",
              " Text(0.05535380706866921, 0.609375, 'X[2] <= -0.375\\nsquared_error = 0.024\\nsamples = 130\\nvalue = 4.23'),\n",
              " Text(0.05379959650302623, 0.578125, 'X[4] <= -0.457\\nsquared_error = 0.017\\nsamples = 70\\nvalue = 4.284'),\n",
              " Text(0.05332137786744377, 0.546875, 'X[2] <= -0.448\\nsquared_error = 0.001\\nsamples = 17\\nvalue = 4.106'),\n",
              " Text(0.05308226854965255, 0.515625, 'squared_error = -0.0\\nsamples = 14\\nvalue = 4.1'),\n",
              " Text(0.053560487185235, 0.515625, 'squared_error = 0.002\\nsamples = 3\\nvalue = 4.133'),\n",
              " Text(0.05427781513860868, 0.546875, 'X[6] <= 0.279\\nsquared_error = 0.009\\nsamples = 53\\nvalue = 4.342'),\n",
              " Text(0.054038705820817455, 0.515625, 'squared_error = 0.0\\nsamples = 9\\nvalue = 4.2'),\n",
              " Text(0.05451692445639991, 0.515625, 'X[7] <= 1.687\\nsquared_error = 0.006\\nsamples = 44\\nvalue = 4.37'),\n",
              " Text(0.05427781513860868, 0.484375, 'X[3] <= -0.027\\nsquared_error = 0.003\\nsamples = 41\\nvalue = 4.359'),\n",
              " Text(0.05379959650302623, 0.453125, 'X[2] <= -0.446\\nsquared_error = 0.001\\nsamples = 10\\nvalue = 4.29'),\n",
              " Text(0.053560487185235, 0.421875, 'squared_error = 0.0\\nsamples = 6\\nvalue = 4.3'),\n",
              " Text(0.054038705820817455, 0.421875, 'squared_error = 0.002\\nsamples = 4\\nvalue = 4.275'),\n",
              " Text(0.05475603377419114, 0.453125, 'X[5] <= 0.795\\nsquared_error = 0.002\\nsamples = 31\\nvalue = 4.381'),\n",
              " Text(0.05451692445639991, 0.421875, 'squared_error = -0.0\\nsamples = 20\\nvalue = 4.4'),\n",
              " Text(0.05499514309198236, 0.421875, 'X[7] <= 0.542\\nsquared_error = 0.004\\nsamples = 11\\nvalue = 4.345'),\n",
              " Text(0.05475603377419114, 0.390625, 'X[7] <= -0.111\\nsquared_error = 0.004\\nsamples = 7\\nvalue = 4.314'),\n",
              " Text(0.05451692445639991, 0.359375, 'squared_error = 0.009\\nsamples = 3\\nvalue = 4.333'),\n",
              " Text(0.05499514309198236, 0.359375, 'squared_error = -0.0\\nsamples = 4\\nvalue = 4.3'),\n",
              " Text(0.055234252409773595, 0.390625, 'squared_error = 0.0\\nsamples = 4\\nvalue = 4.4'),\n",
              " Text(0.05475603377419114, 0.484375, 'squared_error = 0.009\\nsamples = 3\\nvalue = 4.533'),\n",
              " Text(0.056908017634312184, 0.578125, 'X[5] <= 1.076\\nsquared_error = 0.025\\nsamples = 60\\nvalue = 4.167'),\n",
              " Text(0.056429798998729734, 0.546875, 'X[5] <= 0.85\\nsquared_error = 0.013\\nsamples = 53\\nvalue = 4.202'),\n",
              " Text(0.0561906896809385, 0.515625, 'X[5] <= 0.578\\nsquared_error = 0.01\\nsamples = 48\\nvalue = 4.181'),\n",
              " Text(0.05595158036314728, 0.484375, 'squared_error = 0.0\\nsamples = 4\\nvalue = 4.4'),\n",
              " Text(0.056429798998729734, 0.484375, 'X[7] <= 1.761\\nsquared_error = 0.006\\nsamples = 44\\nvalue = 4.161'),\n",
              " Text(0.0561906896809385, 0.453125, 'X[2] <= -0.305\\nsquared_error = 0.004\\nsamples = 40\\nvalue = 4.177'),\n",
              " Text(0.05595158036314728, 0.421875, 'X[2] <= -0.37\\nsquared_error = 0.003\\nsamples = 37\\nvalue = 4.186'),\n",
              " Text(0.05571247104535605, 0.390625, 'squared_error = 0.009\\nsamples = 3\\nvalue = 4.267'),\n",
              " Text(0.0561906896809385, 0.390625, 'X[2] <= -0.354\\nsquared_error = 0.002\\nsamples = 34\\nvalue = 4.179'),\n",
              " Text(0.05595158036314728, 0.359375, 'squared_error = -0.0\\nsamples = 7\\nvalue = 4.1'),\n",
              " Text(0.056429798998729734, 0.359375, 'squared_error = -0.0\\nsamples = 27\\nvalue = 4.2'),\n",
              " Text(0.056429798998729734, 0.421875, 'squared_error = 0.009\\nsamples = 3\\nvalue = 4.067'),\n",
              " Text(0.05666890831652096, 0.453125, 'squared_error = -0.0\\nsamples = 4\\nvalue = 4.0'),\n",
              " Text(0.05666890831652096, 0.515625, 'squared_error = -0.0\\nsamples = 5\\nvalue = 4.4'),\n",
              " Text(0.05738623626989464, 0.546875, 'X[2] <= -0.36\\nsquared_error = 0.031\\nsamples = 7\\nvalue = 3.9'),\n",
              " Text(0.057147126952103416, 0.515625, 'squared_error = 0.0\\nsamples = 3\\nvalue = 3.8'),\n",
              " Text(0.05762534558768587, 0.515625, 'squared_error = 0.042\\nsamples = 4\\nvalue = 3.975'),\n",
              " Text(0.058940446835537626, 0.609375, 'X[5] <= 0.615\\nsquared_error = 0.006\\nsamples = 38\\nvalue = 4.045'),\n",
              " Text(0.058103564223268324, 0.578125, 'X[4] <= -0.741\\nsquared_error = 0.004\\nsamples = 14\\nvalue = 4.107'),\n",
              " Text(0.0578644549054771, 0.546875, 'squared_error = 0.0\\nsamples = 3\\nvalue = 4.2'),\n",
              " Text(0.058342673541059556, 0.546875, 'X[4] <= -0.079\\nsquared_error = 0.001\\nsamples = 11\\nvalue = 4.082'),\n",
              " Text(0.058103564223268324, 0.515625, 'squared_error = -0.0\\nsamples = 6\\nvalue = 4.1'),\n",
              " Text(0.05858178285885078, 0.515625, 'squared_error = 0.002\\nsamples = 5\\nvalue = 4.06'),\n",
              " Text(0.05977732944780692, 0.578125, 'X[7] <= -0.972\\nsquared_error = 0.003\\nsamples = 24\\nvalue = 4.008'),\n",
              " Text(0.05929911081222446, 0.546875, 'X[2] <= -0.453\\nsquared_error = 0.003\\nsamples = 8\\nvalue = 4.05'),\n",
              " Text(0.05906000149443324, 0.515625, 'squared_error = 0.0\\nsamples = 4\\nvalue = 4.0'),\n",
              " Text(0.05953822013001569, 0.515625, 'squared_error = 0.0\\nsamples = 4\\nvalue = 4.1'),\n",
              " Text(0.06025554808338938, 0.546875, 'X[3] <= 1.449\\nsquared_error = 0.002\\nsamples = 16\\nvalue = 3.988'),\n",
              " Text(0.060016438765598146, 0.515625, 'squared_error = 0.009\\nsamples = 3\\nvalue = 3.933'),\n",
              " Text(0.0604946574011806, 0.515625, 'squared_error = 0.0\\nsamples = 13\\nvalue = 4.0'),\n",
              " Text(0.06375252185608608, 0.703125, 'X[5] <= 1.211\\nsquared_error = 0.028\\nsamples = 105\\nvalue = 4.232'),\n",
              " Text(0.06270641859074946, 0.671875, 'X[4] <= -0.151\\nsquared_error = 0.019\\nsamples = 67\\nvalue = 4.139'),\n",
              " Text(0.06169020399013674, 0.640625, 'X[6] <= 0.711\\nsquared_error = 0.01\\nsamples = 31\\nvalue = 4.055'),\n",
              " Text(0.061211985354554285, 0.609375, 'X[2] <= -0.209\\nsquared_error = 0.001\\nsamples = 16\\nvalue = 3.988'),\n",
              " Text(0.06097287603676306, 0.578125, 'X[7] <= -0.86\\nsquared_error = 0.002\\nsamples = 6\\nvalue = 3.967'),\n",
              " Text(0.06073376671897183, 0.546875, 'squared_error = 0.002\\nsamples = 3\\nvalue = 3.933'),\n",
              " Text(0.061211985354554285, 0.546875, 'squared_error = 0.0\\nsamples = 3\\nvalue = 4.0'),\n",
              " Text(0.06145109467234551, 0.578125, 'squared_error = 0.0\\nsamples = 10\\nvalue = 4.0'),\n",
              " Text(0.06216842262571919, 0.609375, 'X[0] <= 0.455\\nsquared_error = 0.009\\nsamples = 15\\nvalue = 4.127'),\n",
              " Text(0.06192931330792797, 0.578125, 'squared_error = 0.0\\nsamples = 3\\nvalue = 4.3'),\n",
              " Text(0.062407531943510425, 0.578125, 'X[7] <= -0.497\\nsquared_error = 0.001\\nsamples = 12\\nvalue = 4.083'),\n",
              " Text(0.06216842262571919, 0.546875, 'squared_error = 0.002\\nsamples = 5\\nvalue = 4.06'),\n",
              " Text(0.06264664126130165, 0.546875, 'squared_error = -0.0\\nsamples = 7\\nvalue = 4.1'),\n",
              " Text(0.06372263319136218, 0.640625, 'X[5] <= 0.482\\nsquared_error = 0.017\\nsamples = 36\\nvalue = 4.211'),\n",
              " Text(0.0631248598968841, 0.609375, 'X[2] <= -0.232\\nsquared_error = 0.002\\nsamples = 10\\nvalue = 4.07'),\n",
              " Text(0.06288575057909288, 0.578125, 'squared_error = 0.0\\nsamples = 3\\nvalue = 4.0'),\n",
              " Text(0.06336396921467534, 0.578125, 'squared_error = -0.0\\nsamples = 7\\nvalue = 4.1'),\n",
              " Text(0.06432040648584024, 0.609375, 'X[5] <= 0.647\\nsquared_error = 0.011\\nsamples = 26\\nvalue = 4.265'),\n",
              " Text(0.06384218785025779, 0.578125, 'X[4] <= 1.678\\nsquared_error = 0.003\\nsamples = 15\\nvalue = 4.327'),\n",
              " Text(0.06360307853246656, 0.546875, 'X[7] <= 0.443\\nsquared_error = 0.0\\nsamples = 12\\nvalue = 4.3'),\n",
              " Text(0.06336396921467534, 0.515625, 'squared_error = 0.0\\nsamples = 4\\nvalue = 4.3'),\n",
              " Text(0.06384218785025779, 0.515625, 'X[7] <= 0.617\\nsquared_error = 0.0\\nsamples = 8\\nvalue = 4.3'),\n",
              " Text(0.06360307853246656, 0.484375, 'squared_error = 0.0\\nsamples = 3\\nvalue = 4.3'),\n",
              " Text(0.06408129716804901, 0.484375, 'squared_error = 0.0\\nsamples = 5\\nvalue = 4.3'),\n",
              " Text(0.06408129716804901, 0.546875, 'squared_error = 0.002\\nsamples = 3\\nvalue = 4.433'),\n",
              " Text(0.0647986251214227, 0.578125, 'X[5] <= 1.049\\nsquared_error = 0.011\\nsamples = 11\\nvalue = 4.182'),\n",
              " Text(0.06455951580363148, 0.546875, 'squared_error = 0.036\\nsamples = 3\\nvalue = 4.133'),\n",
              " Text(0.06503773443921393, 0.546875, 'squared_error = -0.0\\nsamples = 8\\nvalue = 4.2'),\n",
              " Text(0.0647986251214227, 0.671875, 'X[2] <= -0.253\\nsquared_error = 0.001\\nsamples = 38\\nvalue = 4.397'),\n",
              " Text(0.06455951580363148, 0.640625, 'squared_error = 0.009\\nsamples = 3\\nvalue = 4.333'),\n",
              " Text(0.06503773443921393, 0.640625, 'X[2] <= -0.249\\nsquared_error = 0.0\\nsamples = 35\\nvalue = 4.403'),\n",
              " Text(0.0647986251214227, 0.609375, 'squared_error = 0.002\\nsamples = 4\\nvalue = 4.425'),\n",
              " Text(0.06527684375700515, 0.609375, 'squared_error = -0.0\\nsamples = 31\\nvalue = 4.4'),\n",
              " Text(0.0739931256071135, 0.765625, 'X[6] <= 1.19\\nsquared_error = 0.061\\nsamples = 212\\nvalue = 4.001'),\n",
              " Text(0.07123216020324293, 0.734375, 'X[4] <= 1.292\\nsquared_error = 0.064\\nsamples = 166\\nvalue = 3.949'),\n",
              " Text(0.06899798251513113, 0.703125, 'X[2] <= -0.244\\nsquared_error = 0.044\\nsamples = 106\\nvalue = 3.855'),\n",
              " Text(0.06745871628185011, 0.671875, 'X[5] <= 2.09\\nsquared_error = 0.033\\nsamples = 83\\nvalue = 3.82'),\n",
              " Text(0.06617350369872226, 0.640625, 'X[6] <= -0.056\\nsquared_error = 0.036\\nsamples = 54\\nvalue = 3.769'),\n",
              " Text(0.06593439438093103, 0.609375, 'squared_error = 0.026\\nsamples = 5\\nvalue = 3.32'),\n",
              " Text(0.06641261301651348, 0.609375, 'X[2] <= -0.425\\nsquared_error = 0.014\\nsamples = 49\\nvalue = 3.814'),\n",
              " Text(0.0657550623925876, 0.578125, 'X[7] <= -0.028\\nsquared_error = 0.016\\nsamples = 9\\nvalue = 3.644'),\n",
              " Text(0.06551595307479638, 0.546875, 'squared_error = 0.03\\nsamples = 4\\nvalue = 3.7'),\n",
              " Text(0.06599417171037884, 0.546875, 'squared_error = -0.0\\nsamples = 5\\nvalue = 3.6'),\n",
              " Text(0.06707016364043937, 0.578125, 'X[7] <= -0.301\\nsquared_error = 0.006\\nsamples = 40\\nvalue = 3.853'),\n",
              " Text(0.0664723903459613, 0.546875, 'X[5] <= 1.465\\nsquared_error = 0.003\\nsamples = 20\\nvalue = 3.8'),\n",
              " Text(0.06623328102817007, 0.515625, 'squared_error = 0.0\\nsamples = 3\\nvalue = 3.9'),\n",
              " Text(0.06671149966375252, 0.515625, 'X[6] <= 0.998\\nsquared_error = 0.001\\nsamples = 17\\nvalue = 3.782'),\n",
              " Text(0.06623328102817007, 0.484375, 'X[8] <= 0.126\\nsquared_error = 0.002\\nsamples = 6\\nvalue = 3.767'),\n",
              " Text(0.06599417171037884, 0.453125, 'squared_error = 0.002\\nsamples = 3\\nvalue = 3.767'),\n",
              " Text(0.0664723903459613, 0.453125, 'squared_error = 0.002\\nsamples = 3\\nvalue = 3.767'),\n",
              " Text(0.06718971829933498, 0.484375, 'X[8] <= 0.126\\nsquared_error = 0.001\\nsamples = 11\\nvalue = 3.791'),\n",
              " Text(0.06695060898154374, 0.453125, 'squared_error = 0.0\\nsamples = 5\\nvalue = 3.8'),\n",
              " Text(0.06742882761712621, 0.453125, 'squared_error = 0.001\\nsamples = 6\\nvalue = 3.783'),\n",
              " Text(0.06766793693491743, 0.546875, 'X[0] <= 0.455\\nsquared_error = 0.003\\nsamples = 20\\nvalue = 3.905'),\n",
              " Text(0.06742882761712621, 0.515625, 'squared_error = 0.0\\nsamples = 4\\nvalue = 4.0'),\n",
              " Text(0.06790704625270866, 0.515625, 'X[7] <= 0.12\\nsquared_error = 0.002\\nsamples = 16\\nvalue = 3.881'),\n",
              " Text(0.06766793693491743, 0.484375, 'squared_error = 0.0\\nsamples = 3\\nvalue = 3.8'),\n",
              " Text(0.06814615557049988, 0.484375, 'X[4] <= 0.28\\nsquared_error = 0.0\\nsamples = 13\\nvalue = 3.9'),\n",
              " Text(0.06790704625270866, 0.453125, 'squared_error = 0.0\\nsamples = 5\\nvalue = 3.9'),\n",
              " Text(0.06838526488829112, 0.453125, 'X[7] <= 0.639\\nsquared_error = 0.0\\nsamples = 8\\nvalue = 3.9'),\n",
              " Text(0.06814615557049988, 0.421875, 'squared_error = 0.0\\nsamples = 3\\nvalue = 3.9'),\n",
              " Text(0.06862437420608235, 0.421875, 'squared_error = 0.0\\nsamples = 5\\nvalue = 3.9'),\n",
              " Text(0.06874392886497796, 0.640625, 'X[6] <= -0.248\\nsquared_error = 0.014\\nsamples = 29\\nvalue = 3.917'),\n",
              " Text(0.06814615557049988, 0.609375, 'X[3] <= -0.545\\nsquared_error = 0.002\\nsamples = 7\\nvalue = 4.071'),\n",
              " Text(0.06790704625270866, 0.578125, 'squared_error = 0.0\\nsamples = 4\\nvalue = 4.1'),\n",
              " Text(0.06838526488829112, 0.578125, 'squared_error = 0.002\\nsamples = 3\\nvalue = 4.033'),\n",
              " Text(0.06934170215945602, 0.609375, 'X[7] <= 0.695\\nsquared_error = 0.008\\nsamples = 22\\nvalue = 3.868'),\n",
              " Text(0.06886348352387357, 0.578125, 'X[6] <= 0.04\\nsquared_error = 0.001\\nsamples = 14\\nvalue = 3.893'),\n",
              " Text(0.06862437420608235, 0.546875, 'squared_error = 0.002\\nsamples = 4\\nvalue = 3.875'),\n",
              " Text(0.0691025928416648, 0.546875, 'X[7] <= 0.432\\nsquared_error = 0.0\\nsamples = 10\\nvalue = 3.9'),\n",
              " Text(0.06886348352387357, 0.515625, 'X[2] <= -0.346\\nsquared_error = 0.0\\nsamples = 7\\nvalue = 3.9'),\n",
              " Text(0.06862437420608235, 0.484375, 'squared_error = 0.0\\nsamples = 3\\nvalue = 3.9'),\n",
              " Text(0.0691025928416648, 0.484375, 'squared_error = 0.0\\nsamples = 4\\nvalue = 3.9'),\n",
              " Text(0.06934170215945602, 0.515625, 'squared_error = 0.0\\nsamples = 3\\nvalue = 3.9'),\n",
              " Text(0.06981992079503849, 0.578125, 'X[2] <= -0.425\\nsquared_error = 0.017\\nsamples = 8\\nvalue = 3.825'),\n",
              " Text(0.06958081147724725, 0.546875, 'squared_error = 0.0\\nsamples = 4\\nvalue = 3.9'),\n",
              " Text(0.07005903011282971, 0.546875, 'squared_error = 0.022\\nsamples = 4\\nvalue = 3.75'),\n",
              " Text(0.07053724874841216, 0.671875, 'X[6] <= 0.279\\nsquared_error = 0.065\\nsamples = 23\\nvalue = 3.978'),\n",
              " Text(0.07005903011282971, 0.640625, 'X[4] <= 0.835\\nsquared_error = 0.046\\nsamples = 9\\nvalue = 4.222'),\n",
              " Text(0.06981992079503849, 0.609375, 'squared_error = 0.002\\nsamples = 5\\nvalue = 4.04'),\n",
              " Text(0.07029813943062094, 0.609375, 'squared_error = 0.008\\nsamples = 4\\nvalue = 4.45'),\n",
              " Text(0.07101546738399463, 0.640625, 'X[0] <= 0.455\\nsquared_error = 0.015\\nsamples = 14\\nvalue = 3.821'),\n",
              " Text(0.07077635806620339, 0.609375, 'X[7] <= 0.118\\nsquared_error = 0.003\\nsamples = 10\\nvalue = 3.75'),\n",
              " Text(0.07053724874841216, 0.578125, 'squared_error = 0.0\\nsamples = 5\\nvalue = 3.7'),\n",
              " Text(0.07101546738399463, 0.578125, 'squared_error = 0.0\\nsamples = 5\\nvalue = 3.8'),\n",
              " Text(0.07125457670178585, 0.609375, 'squared_error = 0.0\\nsamples = 4\\nvalue = 4.0'),\n",
              " Text(0.0734663378913547, 0.703125, 'X[2] <= -0.399\\nsquared_error = 0.054\\nsamples = 60\\nvalue = 4.117'),\n",
              " Text(0.07197190465515953, 0.671875, 'X[3] <= -0.346\\nsquared_error = 0.044\\nsamples = 30\\nvalue = 3.98'),\n",
              " Text(0.0717327953373683, 0.640625, 'squared_error = 0.034\\nsamples = 5\\nvalue = 4.26'),\n",
              " Text(0.07221101397295075, 0.640625, 'X[5] <= 2.432\\nsquared_error = 0.027\\nsamples = 25\\nvalue = 3.924'),\n",
              " Text(0.0717327953373683, 0.609375, 'X[6] <= 0.567\\nsquared_error = 0.02\\nsamples = 12\\nvalue = 4.017'),\n",
              " Text(0.07149368601957708, 0.578125, 'squared_error = 0.002\\nsamples = 4\\nvalue = 3.825'),\n",
              " Text(0.07197190465515953, 0.578125, 'X[7] <= 1.244\\nsquared_error = 0.001\\nsamples = 8\\nvalue = 4.113'),\n",
              " Text(0.0717327953373683, 0.546875, 'squared_error = 0.002\\nsamples = 3\\nvalue = 4.133'),\n",
              " Text(0.07221101397295075, 0.546875, 'squared_error = -0.0\\nsamples = 5\\nvalue = 4.1'),\n",
              " Text(0.07268923260853322, 0.609375, 'X[4] <= 1.71\\nsquared_error = 0.018\\nsamples = 13\\nvalue = 3.838'),\n",
              " Text(0.07245012329074199, 0.578125, 'squared_error = 0.0\\nsamples = 6\\nvalue = 3.7'),\n",
              " Text(0.07292834192632444, 0.578125, 'X[5] <= 2.644\\nsquared_error = 0.002\\nsamples = 7\\nvalue = 3.957'),\n",
              " Text(0.07268923260853322, 0.546875, 'squared_error = -0.0\\nsamples = 4\\nvalue = 4.0'),\n",
              " Text(0.07316745124411567, 0.546875, 'squared_error = 0.0\\nsamples = 3\\nvalue = 3.9'),\n",
              " Text(0.07496077112754988, 0.671875, 'X[0] <= 0.455\\nsquared_error = 0.027\\nsamples = 30\\nvalue = 4.253'),\n",
              " Text(0.07412388851528058, 0.640625, 'X[5] <= 2.484\\nsquared_error = 0.013\\nsamples = 13\\nvalue = 4.138'),\n",
              " Text(0.07364566987969813, 0.609375, 'X[5] <= 2.416\\nsquared_error = 0.005\\nsamples = 7\\nvalue = 4.229'),\n",
              " Text(0.07340656056190689, 0.578125, 'squared_error = 0.009\\nsamples = 3\\nvalue = 4.267'),\n",
              " Text(0.07388477919748936, 0.578125, 'squared_error = 0.0\\nsamples = 4\\nvalue = 4.2'),\n",
              " Text(0.07460210715086303, 0.609375, 'X[7] <= 1.461\\nsquared_error = 0.002\\nsamples = 6\\nvalue = 4.033'),\n",
              " Text(0.0743629978330718, 0.578125, 'squared_error = 0.002\\nsamples = 3\\nvalue = 4.067'),\n",
              " Text(0.07484121646865426, 0.578125, 'squared_error = -0.0\\nsamples = 3\\nvalue = 4.0'),\n",
              " Text(0.07579765373981917, 0.640625, 'X[2] <= -0.34\\nsquared_error = 0.02\\nsamples = 17\\nvalue = 4.341'),\n",
              " Text(0.07555854442202795, 0.609375, 'X[7] <= 0.364\\nsquared_error = 0.0\\nsamples = 14\\nvalue = 4.3'),\n",
              " Text(0.07531943510423672, 0.578125, 'squared_error = 0.0\\nsamples = 4\\nvalue = 4.3'),\n",
              " Text(0.07579765373981917, 0.578125, 'X[7] <= 0.521\\nsquared_error = 0.0\\nsamples = 10\\nvalue = 4.3'),\n",
              " Text(0.07555854442202795, 0.546875, 'squared_error = 0.0\\nsamples = 3\\nvalue = 4.3'),\n",
              " Text(0.0760367630576104, 0.546875, 'X[3] <= -0.027\\nsquared_error = 0.0\\nsamples = 7\\nvalue = 4.3'),\n",
              " Text(0.07579765373981917, 0.515625, 'squared_error = 0.0\\nsamples = 3\\nvalue = 4.3'),\n",
              " Text(0.07627587237540163, 0.515625, 'squared_error = -0.0\\nsamples = 4\\nvalue = 4.3'),\n",
              " Text(0.0760367630576104, 0.609375, 'squared_error = 0.069\\nsamples = 3\\nvalue = 4.533'),\n",
              " Text(0.07675409101098409, 0.734375, 'X[5] <= 1.765\\nsquared_error = 0.008\\nsamples = 46\\nvalue = 4.187'),\n",
              " Text(0.07651498169319286, 0.703125, 'squared_error = 0.0\\nsamples = 6\\nvalue = 4.3'),\n",
              " Text(0.07699320032877531, 0.703125, 'X[2] <= -0.351\\nsquared_error = 0.007\\nsamples = 40\\nvalue = 4.17'),\n",
              " Text(0.07651498169319286, 0.671875, 'X[3] <= -0.226\\nsquared_error = 0.002\\nsamples = 6\\nvalue = 4.067'),\n",
              " Text(0.07627587237540163, 0.640625, 'squared_error = 0.002\\nsamples = 3\\nvalue = 4.033'),\n",
              " Text(0.07675409101098409, 0.640625, 'squared_error = 0.0\\nsamples = 3\\nvalue = 4.1'),\n",
              " Text(0.07747141896435776, 0.671875, 'X[4] <= 2.228\\nsquared_error = 0.006\\nsamples = 34\\nvalue = 4.188'),\n",
              " Text(0.07723230964656654, 0.640625, 'X[7] <= 1.848\\nsquared_error = 0.0\\nsamples = 31\\nvalue = 4.203'),\n",
              " Text(0.07699320032877531, 0.609375, 'squared_error = -0.0\\nsamples = 28\\nvalue = 4.2'),\n",
              " Text(0.07747141896435776, 0.609375, 'squared_error = 0.002\\nsamples = 3\\nvalue = 4.233'),\n",
              " Text(0.077710528282149, 0.640625, 'squared_error = 0.036\\nsamples = 3\\nvalue = 4.033'),\n",
              " Text(0.08028095344840469, 0.828125, 'X[6] <= 0.567\\nsquared_error = 0.517\\nsamples = 77\\nvalue = 3.673'),\n",
              " Text(0.07914518418889636, 0.796875, 'X[6] <= 0.375\\nsquared_error = 0.386\\nsamples = 32\\nvalue = 2.984'),\n",
              " Text(0.07890607487110514, 0.765625, 'X[6] <= 0.184\\nsquared_error = 0.097\\nsamples = 21\\nvalue = 3.395'),\n",
              " Text(0.07842785623552267, 0.734375, 'X[5] <= 0.757\\nsquared_error = 0.034\\nsamples = 14\\nvalue = 3.564'),\n",
              " Text(0.07818874691773145, 0.703125, 'X[2] <= -0.165\\nsquared_error = 0.004\\nsamples = 11\\nvalue = 3.473'),\n",
              " Text(0.07794963759994022, 0.671875, 'squared_error = 0.0\\nsamples = 4\\nvalue = 3.4'),\n",
              " Text(0.07842785623552267, 0.671875, 'X[2] <= -0.155\\nsquared_error = 0.001\\nsamples = 7\\nvalue = 3.514'),\n",
              " Text(0.07818874691773145, 0.640625, 'squared_error = 0.0\\nsamples = 3\\nvalue = 3.5'),\n",
              " Text(0.0786669655533139, 0.640625, 'squared_error = 0.002\\nsamples = 4\\nvalue = 3.525'),\n",
              " Text(0.0786669655533139, 0.703125, 'squared_error = 0.0\\nsamples = 3\\nvalue = 3.9'),\n",
              " Text(0.07938429350668759, 0.734375, 'X[2] <= -0.16\\nsquared_error = 0.051\\nsamples = 7\\nvalue = 3.057'),\n",
              " Text(0.07914518418889636, 0.703125, 'squared_error = 0.0\\nsamples = 4\\nvalue = 3.2'),\n",
              " Text(0.07962340282447881, 0.703125, 'squared_error = 0.056\\nsamples = 3\\nvalue = 2.867'),\n",
              " Text(0.07938429350668759, 0.765625, 'squared_error = -0.0\\nsamples = 11\\nvalue = 2.2'),\n",
              " Text(0.08141672270791303, 0.796875, 'X[4] <= 1.904\\nsquared_error = 0.033\\nsamples = 45\\nvalue = 4.162'),\n",
              " Text(0.08081894941343495, 0.765625, 'X[7] <= -0.064\\nsquared_error = 0.029\\nsamples = 36\\nvalue = 4.208'),\n",
              " Text(0.0803407307778525, 0.734375, 'X[5] <= 0.679\\nsquared_error = 0.002\\nsamples = 14\\nvalue = 4.057'),\n",
              " Text(0.08010162146006128, 0.703125, 'squared_error = -0.0\\nsamples = 8\\nvalue = 4.1'),\n",
              " Text(0.08057984009564373, 0.703125, 'squared_error = 0.0\\nsamples = 6\\nvalue = 4.0'),\n",
              " Text(0.0812971680490174, 0.734375, 'X[6] <= 0.759\\nsquared_error = 0.022\\nsamples = 22\\nvalue = 4.305'),\n",
              " Text(0.08105805873122618, 0.703125, 'squared_error = 0.0\\nsamples = 4\\nvalue = 4.1'),\n",
              " Text(0.08153627736680864, 0.703125, 'X[6] <= 1.142\\nsquared_error = 0.016\\nsamples = 18\\nvalue = 4.35'),\n",
              " Text(0.08105805873122618, 0.671875, 'X[2] <= -0.16\\nsquared_error = 0.019\\nsamples = 8\\nvalue = 4.425'),\n",
              " Text(0.08081894941343495, 0.640625, 'squared_error = 0.0\\nsamples = 5\\nvalue = 4.5'),\n",
              " Text(0.0812971680490174, 0.640625, 'squared_error = 0.027\\nsamples = 3\\nvalue = 4.3'),\n",
              " Text(0.0820144960023911, 0.671875, 'X[3] <= 0.173\\nsquared_error = 0.005\\nsamples = 10\\nvalue = 4.29'),\n",
              " Text(0.08177538668459987, 0.640625, 'squared_error = 0.0\\nsamples = 3\\nvalue = 4.2'),\n",
              " Text(0.08225360532018232, 0.640625, 'X[7] <= 0.223\\nsquared_error = 0.002\\nsamples = 7\\nvalue = 4.329'),\n",
              " Text(0.0820144960023911, 0.609375, 'squared_error = -0.0\\nsamples = 4\\nvalue = 4.3'),\n",
              " Text(0.08249271463797354, 0.609375, 'squared_error = 0.002\\nsamples = 3\\nvalue = 4.367'),\n",
              " Text(0.0820144960023911, 0.765625, 'X[5] <= -0.387\\nsquared_error = 0.008\\nsamples = 9\\nvalue = 3.978'),\n",
              " Text(0.08177538668459987, 0.734375, 'squared_error = 0.0\\nsamples = 4\\nvalue = 3.9'),\n",
              " Text(0.08225360532018232, 0.734375, 'squared_error = 0.006\\nsamples = 5\\nvalue = 4.04'),\n",
              " Text(0.0884555032503923, 0.859375, 'X[3] <= 2.167\\nsquared_error = 0.031\\nsamples = 279\\nvalue = 4.204'),\n",
              " Text(0.08415153553015019, 0.828125, 'X[2] <= -0.414\\nsquared_error = 0.029\\nsamples = 89\\nvalue = 4.289'),\n",
              " Text(0.08391242621235896, 0.796875, 'squared_error = 0.0\\nsamples = 4\\nvalue = 3.8'),\n",
              " Text(0.08439064484794141, 0.796875, 'X[5] <= 0.102\\nsquared_error = 0.018\\nsamples = 85\\nvalue = 4.312'),\n",
              " Text(0.08350892923858627, 0.765625, 'X[4] <= -0.219\\nsquared_error = 0.007\\nsamples = 8\\nvalue = 4.6'),\n",
              " Text(0.08326981992079503, 0.734375, 'squared_error = 0.0\\nsamples = 3\\nvalue = 4.7'),\n",
              " Text(0.0837480385563775, 0.734375, 'squared_error = 0.002\\nsamples = 5\\nvalue = 4.54'),\n",
              " Text(0.08527236045729657, 0.765625, 'X[5] <= 0.561\\nsquared_error = 0.01\\nsamples = 77\\nvalue = 4.282'),\n",
              " Text(0.08422625719195995, 0.734375, 'X[4] <= -0.573\\nsquared_error = 0.011\\nsamples = 47\\nvalue = 4.249'),\n",
              " Text(0.08356870656803407, 0.703125, 'X[4] <= -0.629\\nsquared_error = 0.005\\nsamples = 40\\nvalue = 4.283'),\n",
              " Text(0.08297093327355601, 0.671875, 'X[7] <= 0.378\\nsquared_error = 0.002\\nsamples = 23\\nvalue = 4.239'),\n",
              " Text(0.08273182395576478, 0.640625, 'squared_error = 0.0\\nsamples = 9\\nvalue = 4.3'),\n",
              " Text(0.08321004259134723, 0.640625, 'squared_error = -0.0\\nsamples = 14\\nvalue = 4.2'),\n",
              " Text(0.08416647986251215, 0.671875, 'X[2] <= -0.336\\nsquared_error = 0.004\\nsamples = 17\\nvalue = 4.341'),\n",
              " Text(0.08368826122692968, 0.640625, 'X[8] <= 0.126\\nsquared_error = 0.001\\nsamples = 9\\nvalue = 4.289'),\n",
              " Text(0.08344915190913846, 0.609375, 'squared_error = 0.002\\nsamples = 3\\nvalue = 4.267'),\n",
              " Text(0.08392737054472091, 0.609375, 'X[8] <= 1.704\\nsquared_error = 0.0\\nsamples = 6\\nvalue = 4.3'),\n",
              " Text(0.08368826122692968, 0.578125, 'squared_error = 0.0\\nsamples = 3\\nvalue = 4.3'),\n",
              " Text(0.08416647986251215, 0.578125, 'squared_error = -0.0\\nsamples = 3\\nvalue = 4.3'),\n",
              " Text(0.0846446984980946, 0.640625, 'X[7] <= 1.344\\nsquared_error = 0.0\\nsamples = 8\\nvalue = 4.4'),\n",
              " Text(0.08440558918030337, 0.609375, 'squared_error = 0.0\\nsamples = 4\\nvalue = 4.4'),\n",
              " Text(0.08488380781588582, 0.609375, 'squared_error = 0.0\\nsamples = 4\\nvalue = 4.4'),\n",
              " Text(0.08488380781588582, 0.703125, 'X[4] <= 0.652\\nsquared_error = 0.002\\nsamples = 7\\nvalue = 4.057'),\n",
              " Text(0.0846446984980946, 0.671875, 'squared_error = 0.0\\nsamples = 4\\nvalue = 4.1'),\n",
              " Text(0.08512291713367705, 0.671875, 'squared_error = 0.0\\nsamples = 3\\nvalue = 4.0'),\n",
              " Text(0.08631846372263319, 0.734375, 'X[5] <= 0.624\\nsquared_error = 0.004\\nsamples = 30\\nvalue = 4.333'),\n",
              " Text(0.08584024508705074, 0.703125, 'X[4] <= 0.913\\nsquared_error = 0.0\\nsamples = 9\\nvalue = 4.4'),\n",
              " Text(0.08560113576925951, 0.671875, 'squared_error = 0.0\\nsamples = 4\\nvalue = 4.4'),\n",
              " Text(0.08607935440484196, 0.671875, 'squared_error = 0.0\\nsamples = 5\\nvalue = 4.4'),\n",
              " Text(0.08679668235821565, 0.703125, 'X[6] <= 2.197\\nsquared_error = 0.002\\nsamples = 21\\nvalue = 4.305'),\n",
              " Text(0.08655757304042441, 0.671875, 'X[7] <= 1.688\\nsquared_error = 0.001\\nsamples = 18\\nvalue = 4.289'),\n",
              " Text(0.08631846372263319, 0.640625, 'X[2] <= -0.28\\nsquared_error = 0.0\\nsamples = 15\\nvalue = 4.3'),\n",
              " Text(0.08607935440484196, 0.609375, 'squared_error = 0.0\\nsamples = 6\\nvalue = 4.3'),\n",
              " Text(0.08655757304042441, 0.609375, 'X[7] <= 0.388\\nsquared_error = 0.0\\nsamples = 9\\nvalue = 4.3'),\n",
              " Text(0.08631846372263319, 0.578125, 'squared_error = 0.0\\nsamples = 3\\nvalue = 4.3'),\n",
              " Text(0.08679668235821565, 0.578125, 'squared_error = 0.0\\nsamples = 6\\nvalue = 4.3'),\n",
              " Text(0.08679668235821565, 0.640625, 'squared_error = 0.002\\nsamples = 3\\nvalue = 4.233'),\n",
              " Text(0.08703579167600688, 0.671875, 'squared_error = -0.0\\nsamples = 3\\nvalue = 4.4'),\n",
              " Text(0.09275947097063439, 0.828125, 'X[6] <= 3.251\\nsquared_error = 0.027\\nsamples = 190\\nvalue = 4.164'),\n",
              " Text(0.09011432414256892, 0.796875, 'X[3] <= 4.4\\nsquared_error = 0.037\\nsamples = 95\\nvalue = 4.104'),\n",
              " Text(0.08841067025330643, 0.765625, 'X[2] <= -0.392\\nsquared_error = 0.025\\nsamples = 77\\nvalue = 4.052'),\n",
              " Text(0.08751401031158933, 0.734375, 'X[4] <= -0.119\\nsquared_error = 0.005\\nsamples = 8\\nvalue = 3.85'),\n",
              " Text(0.0872749009937981, 0.703125, 'squared_error = 0.002\\nsamples = 3\\nvalue = 3.767'),\n",
              " Text(0.08775311962938055, 0.703125, 'squared_error = 0.0\\nsamples = 5\\nvalue = 3.9'),\n",
              " Text(0.08930733019502354, 0.734375, 'X[2] <= -0.311\\nsquared_error = 0.022\\nsamples = 69\\nvalue = 4.075'),\n",
              " Text(0.08823133826496302, 0.703125, 'X[4] <= 0.144\\nsquared_error = 0.02\\nsamples = 17\\nvalue = 4.218'),\n",
              " Text(0.08775311962938055, 0.671875, 'X[7] <= -0.758\\nsquared_error = 0.018\\nsamples = 7\\nvalue = 4.314'),\n",
              " Text(0.08751401031158933, 0.640625, 'squared_error = 0.02\\nsamples = 3\\nvalue = 4.2'),\n",
              " Text(0.08799222894717179, 0.640625, 'squared_error = 0.0\\nsamples = 4\\nvalue = 4.4'),\n",
              " Text(0.08870955690054547, 0.671875, 'X[3] <= 2.645\\nsquared_error = 0.011\\nsamples = 10\\nvalue = 4.15'),\n",
              " Text(0.08847044758275424, 0.640625, 'squared_error = 0.0\\nsamples = 6\\nvalue = 4.2'),\n",
              " Text(0.08894866621833669, 0.640625, 'squared_error = 0.017\\nsamples = 4\\nvalue = 4.075'),\n",
              " Text(0.09038332212508406, 0.703125, 'X[2] <= -0.241\\nsquared_error = 0.014\\nsamples = 52\\nvalue = 4.029'),\n",
              " Text(0.08966599417171038, 0.671875, 'X[4] <= 0.615\\nsquared_error = 0.009\\nsamples = 17\\nvalue = 3.9'),\n",
              " Text(0.08942688485391916, 0.640625, 'X[2] <= -0.275\\nsquared_error = 0.005\\nsamples = 14\\nvalue = 3.871'),\n",
              " Text(0.08918777553612792, 0.609375, 'squared_error = 0.01\\nsamples = 4\\nvalue = 3.8'),\n",
              " Text(0.08966599417171038, 0.609375, 'X[8] <= -0.663\\nsquared_error = 0.0\\nsamples = 10\\nvalue = 3.9'),\n",
              " Text(0.08942688485391916, 0.578125, 'squared_error = 0.0\\nsamples = 4\\nvalue = 3.9'),\n",
              " Text(0.0899051034895016, 0.578125, 'squared_error = 0.0\\nsamples = 6\\nvalue = 3.9'),\n",
              " Text(0.0899051034895016, 0.640625, 'squared_error = 0.009\\nsamples = 3\\nvalue = 4.033'),\n",
              " Text(0.09110065007845775, 0.671875, 'X[2] <= -0.173\\nsquared_error = 0.004\\nsamples = 35\\nvalue = 4.091'),\n",
              " Text(0.09086154076066652, 0.640625, 'X[7] <= 1.012\\nsquared_error = 0.001\\nsamples = 30\\nvalue = 4.107'),\n",
              " Text(0.0906224314428753, 0.609375, 'X[4] <= -0.111\\nsquared_error = 0.0\\nsamples = 27\\nvalue = 4.1'),\n",
              " Text(0.09038332212508406, 0.578125, 'squared_error = -0.0\\nsamples = 8\\nvalue = 4.1'),\n",
              " Text(0.09086154076066652, 0.578125, 'X[7] <= 0.794\\nsquared_error = 0.0\\nsamples = 19\\nvalue = 4.1'),\n",
              " Text(0.0906224314428753, 0.546875, 'squared_error = -0.0\\nsamples = 16\\nvalue = 4.1'),\n",
              " Text(0.09110065007845775, 0.546875, 'squared_error = 0.0\\nsamples = 3\\nvalue = 4.1'),\n",
              " Text(0.09110065007845775, 0.609375, 'squared_error = 0.002\\nsamples = 3\\nvalue = 4.167'),\n",
              " Text(0.09133975939624897, 0.640625, 'squared_error = 0.012\\nsamples = 5\\nvalue = 4.0'),\n",
              " Text(0.09181797803183143, 0.765625, 'X[3] <= 4.639\\nsquared_error = 0.026\\nsamples = 18\\nvalue = 4.328'),\n",
              " Text(0.0915788687140402, 0.734375, 'X[7] <= -0.011\\nsquared_error = 0.0\\nsamples = 15\\nvalue = 4.4'),\n",
              " Text(0.09133975939624897, 0.703125, 'squared_error = 0.0\\nsamples = 3\\nvalue = 4.4'),\n",
              " Text(0.09181797803183143, 0.703125, 'X[7] <= 0.488\\nsquared_error = 0.0\\nsamples = 12\\nvalue = 4.4'),\n",
              " Text(0.0915788687140402, 0.671875, 'squared_error = 0.0\\nsamples = 4\\nvalue = 4.4'),\n",
              " Text(0.09205708734962266, 0.671875, 'X[7] <= 0.737\\nsquared_error = 0.0\\nsamples = 8\\nvalue = 4.4'),\n",
              " Text(0.09181797803183143, 0.640625, 'squared_error = 0.0\\nsamples = 4\\nvalue = 4.4'),\n",
              " Text(0.09229619666741389, 0.640625, 'squared_error = 0.0\\nsamples = 4\\nvalue = 4.4'),\n",
              " Text(0.09205708734962266, 0.734375, 'squared_error = 0.002\\nsamples = 3\\nvalue = 3.967'),\n",
              " Text(0.09540461779869984, 0.796875, 'X[5] <= 0.174\\nsquared_error = 0.01\\nsamples = 95\\nvalue = 4.223'),\n",
              " Text(0.09319285660913099, 0.765625, 'X[5] <= -1.01\\nsquared_error = 0.006\\nsamples = 47\\nvalue = 4.277'),\n",
              " Text(0.09253530598520511, 0.734375, 'X[7] <= 0.05\\nsquared_error = 0.005\\nsamples = 10\\nvalue = 4.15'),\n",
              " Text(0.09229619666741389, 0.703125, 'squared_error = 0.0\\nsamples = 4\\nvalue = 4.1'),\n",
              " Text(0.09277441530299634, 0.703125, 'squared_error = 0.005\\nsamples = 6\\nvalue = 4.183'),\n",
              " Text(0.09385040723305686, 0.734375, 'X[2] <= -0.284\\nsquared_error = 0.002\\nsamples = 37\\nvalue = 4.311'),\n",
              " Text(0.0932526339385788, 0.703125, 'X[7] <= 1.073\\nsquared_error = 0.0\\nsamples = 21\\nvalue = 4.295'),\n",
              " Text(0.09301352462078756, 0.671875, 'X[5] <= -0.356\\nsquared_error = 0.0\\nsamples = 18\\nvalue = 4.3'),\n",
              " Text(0.09277441530299634, 0.640625, 'squared_error = 0.0\\nsamples = 7\\nvalue = 4.3'),\n",
              " Text(0.0932526339385788, 0.640625, 'X[8] <= -0.663\\nsquared_error = 0.0\\nsamples = 11\\nvalue = 4.3'),\n",
              " Text(0.09301352462078756, 0.609375, 'squared_error = 0.0\\nsamples = 6\\nvalue = 4.3'),\n",
              " Text(0.09349174325637002, 0.609375, 'squared_error = 0.0\\nsamples = 5\\nvalue = 4.3'),\n",
              " Text(0.09349174325637002, 0.671875, 'squared_error = 0.002\\nsamples = 3\\nvalue = 4.267'),\n",
              " Text(0.09444818052753494, 0.703125, 'X[7] <= 0.279\\nsquared_error = 0.002\\nsamples = 16\\nvalue = 4.331'),\n",
              " Text(0.09396996189195247, 0.671875, 'X[7] <= -0.974\\nsquared_error = 0.002\\nsamples = 8\\nvalue = 4.362'),\n",
              " Text(0.09373085257416125, 0.640625, 'squared_error = 0.002\\nsamples = 3\\nvalue = 4.333'),\n",
              " Text(0.0942090712097437, 0.640625, 'squared_error = 0.002\\nsamples = 5\\nvalue = 4.38'),\n",
              " Text(0.09492639916311739, 0.671875, 'X[7] <= 1.111\\nsquared_error = 0.0\\nsamples = 8\\nvalue = 4.3'),\n",
              " Text(0.09468728984532616, 0.640625, 'squared_error = 0.0\\nsamples = 4\\nvalue = 4.3'),\n",
              " Text(0.09516550848090861, 0.640625, 'squared_error = 0.0\\nsamples = 4\\nvalue = 4.3'),\n",
              " Text(0.09761637898826869, 0.765625, 'X[7] <= 1.082\\nsquared_error = 0.007\\nsamples = 48\\nvalue = 4.171'),\n",
              " Text(0.09695882836434282, 0.734375, 'X[6] <= 4.689\\nsquared_error = 0.005\\nsamples = 39\\nvalue = 4.192'),\n",
              " Text(0.09636105506986475, 0.703125, 'X[5] <= 1.042\\nsquared_error = 0.002\\nsamples = 27\\nvalue = 4.167'),\n",
              " Text(0.0958828364342823, 0.671875, 'X[7] <= 0.222\\nsquared_error = 0.001\\nsamples = 19\\nvalue = 4.189'),\n",
              " Text(0.09564372711649106, 0.640625, 'squared_error = -0.0\\nsamples = 15\\nvalue = 4.2'),\n",
              " Text(0.09612194575207353, 0.640625, 'squared_error = 0.003\\nsamples = 4\\nvalue = 4.15'),\n",
              " Text(0.0968392737054472, 0.671875, 'X[4] <= 0.857\\nsquared_error = 0.001\\nsamples = 8\\nvalue = 4.112'),\n",
              " Text(0.09660016438765598, 0.640625, 'squared_error = 0.0\\nsamples = 5\\nvalue = 4.1'),\n",
              " Text(0.09707838302323844, 0.640625, 'squared_error = 0.002\\nsamples = 3\\nvalue = 4.133'),\n",
              " Text(0.0975566016588209, 0.703125, 'X[6] <= 6.319\\nsquared_error = 0.007\\nsamples = 12\\nvalue = 4.25'),\n",
              " Text(0.09731749234102967, 0.671875, 'squared_error = 0.0\\nsamples = 7\\nvalue = 4.3'),\n",
              " Text(0.09779571097661212, 0.671875, 'squared_error = 0.01\\nsamples = 5\\nvalue = 4.18'),\n",
              " Text(0.09827392961219457, 0.734375, 'X[7] <= 1.225\\nsquared_error = 0.006\\nsamples = 9\\nvalue = 4.078'),\n",
              " Text(0.09803482029440334, 0.703125, 'squared_error = 0.002\\nsamples = 4\\nvalue = 4.025'),\n",
              " Text(0.09851303892998581, 0.703125, 'squared_error = 0.006\\nsamples = 5\\nvalue = 4.12'),\n",
              " Text(0.4170819191675073, 0.921875, 'X[3] <= -0.425\\nsquared_error = 0.182\\nsamples = 12123\\nvalue = 3.741'),\n",
              " Text(0.22185680985424022, 0.890625, 'X[4] <= -0.715\\nsquared_error = 0.187\\nsamples = 7296\\nvalue = 3.67'),\n",
              " Text(0.15403284082709875, 0.859375, 'X[4] <= -1.198\\nsquared_error = 0.212\\nsamples = 2368\\nvalue = 3.59'),\n",
              " Text(0.13723126835934582, 0.828125, 'X[2] <= -0.254\\nsquared_error = 0.158\\nsamples = 1177\\nvalue = 3.694'),\n",
              " Text(0.12795577440829783, 0.796875, 'X[2] <= -0.255\\nsquared_error = 0.155\\nsamples = 1043\\nvalue = 3.655'),\n",
              " Text(0.1277166650905066, 0.765625, 'X[2] <= -0.381\\nsquared_error = 0.148\\nsamples = 1037\\nvalue = 3.662'),\n",
              " Text(0.12189918238156616, 0.734375, 'X[2] <= -0.383\\nsquared_error = 0.146\\nsamples = 743\\nvalue = 3.62'),\n",
              " Text(0.11713020366322947, 0.703125, 'X[5] <= 0.409\\nsquared_error = 0.145\\nsamples = 707\\nvalue = 3.634'),\n",
              " Text(0.11064089002839424, 0.671875, 'X[7] <= 1.186\\nsquared_error = 0.134\\nsamples = 630\\nvalue = 3.655'),\n",
              " Text(0.10178689849062243, 0.640625, 'X[7] <= -1.46\\nsquared_error = 0.12\\nsamples = 594\\nvalue = 3.671'),\n",
              " Text(0.09396996189195247, 0.609375, 'X[5] <= -0.897\\nsquared_error = 0.295\\nsamples = 22\\nvalue = 3.327'),\n",
              " Text(0.09373085257416125, 0.578125, 'X[4] <= -1.436\\nsquared_error = 0.052\\nsamples = 16\\nvalue = 3.637'),\n",
              " Text(0.09349174325637002, 0.546875, 'X[7] <= -1.47\\nsquared_error = 0.001\\nsamples = 11\\nvalue = 3.791'),\n",
              " Text(0.0932526339385788, 0.515625, 'squared_error = 0.002\\nsamples = 4\\nvalue = 3.775'),\n",
              " Text(0.09373085257416125, 0.515625, 'squared_error = 0.0\\nsamples = 7\\nvalue = 3.8'),\n",
              " Text(0.09396996189195247, 0.546875, 'squared_error = 0.0\\nsamples = 5\\nvalue = 3.3'),\n",
              " Text(0.0942090712097437, 0.578125, 'squared_error = 0.0\\nsamples = 6\\nvalue = 2.5'),\n",
              " Text(0.10960383508929239, 0.609375, 'X[6] <= -0.344\\nsquared_error = 0.109\\nsamples = 572\\nvalue = 3.684'),\n",
              " Text(0.10276143241425689, 0.578125, 'X[4] <= -1.465\\nsquared_error = 0.096\\nsamples = 404\\nvalue = 3.726'),\n",
              " Text(0.0959127250990062, 0.546875, 'X[4] <= -1.468\\nsquared_error = 0.13\\nsamples = 108\\nvalue = 3.614'),\n",
              " Text(0.0942090712097437, 0.515625, 'X[7] <= -1.314\\nsquared_error = 0.094\\nsamples = 98\\nvalue = 3.681'),\n",
              " Text(0.09283419263244415, 0.484375, 'X[3] <= -0.545\\nsquared_error = 0.184\\nsamples = 22\\nvalue = 3.391'),\n",
              " Text(0.09235597399686168, 0.453125, 'X[7] <= -1.381\\nsquared_error = 0.114\\nsamples = 7\\nvalue = 2.9'),\n",
              " Text(0.09211686467907046, 0.421875, 'squared_error = 0.0\\nsamples = 4\\nvalue = 2.7'),\n",
              " Text(0.09259508331465292, 0.421875, 'squared_error = 0.142\\nsamples = 3\\nvalue = 3.167'),\n",
              " Text(0.0933124112680266, 0.453125, 'X[7] <= -1.411\\nsquared_error = 0.051\\nsamples = 15\\nvalue = 3.62'),\n",
              " Text(0.09307330195023537, 0.421875, 'X[6] <= -0.823\\nsquared_error = 0.008\\nsamples = 12\\nvalue = 3.717'),\n",
              " Text(0.09283419263244415, 0.390625, 'X[5] <= -0.958\\nsquared_error = 0.004\\nsamples = 8\\nvalue = 3.675'),\n",
              " Text(0.09259508331465292, 0.359375, 'squared_error = 0.009\\nsamples = 3\\nvalue = 3.633'),\n",
              " Text(0.09307330195023537, 0.359375, 'squared_error = -0.0\\nsamples = 5\\nvalue = 3.7'),\n",
              " Text(0.0933124112680266, 0.390625, 'squared_error = 0.005\\nsamples = 4\\nvalue = 3.8'),\n",
              " Text(0.09355152058581782, 0.421875, 'squared_error = 0.036\\nsamples = 3\\nvalue = 3.233'),\n",
              " Text(0.09558394978704327, 0.484375, 'X[0] <= 0.455\\nsquared_error = 0.037\\nsamples = 76\\nvalue = 3.764'),\n",
              " Text(0.09450795785698274, 0.453125, 'X[2] <= -0.49\\nsquared_error = 0.01\\nsamples = 59\\nvalue = 3.819'),\n",
              " Text(0.09402973922140029, 0.421875, 'X[6] <= -0.775\\nsquared_error = 0.0\\nsamples = 19\\nvalue = 3.895'),\n",
              " Text(0.09379062990360906, 0.390625, 'X[8] <= 0.126\\nsquared_error = 0.001\\nsamples = 10\\nvalue = 3.89'),\n",
              " Text(0.09355152058581782, 0.359375, 'squared_error = 0.001\\nsamples = 6\\nvalue = 3.883'),\n",
              " Text(0.09402973922140029, 0.359375, 'squared_error = 0.0\\nsamples = 4\\nvalue = 3.9'),\n",
              " Text(0.09426884853919151, 0.390625, 'squared_error = -0.0\\nsamples = 9\\nvalue = 3.9'),\n",
              " Text(0.09498617649256519, 0.421875, 'X[2] <= -0.478\\nsquared_error = 0.01\\nsamples = 40\\nvalue = 3.782'),\n",
              " Text(0.09474706717477396, 0.390625, 'squared_error = 0.008\\nsamples = 4\\nvalue = 3.55'),\n",
              " Text(0.09522528581035643, 0.390625, 'X[4] <= -1.483\\nsquared_error = 0.004\\nsamples = 36\\nvalue = 3.808'),\n",
              " Text(0.09498617649256519, 0.359375, 'X[5] <= -0.979\\nsquared_error = 0.003\\nsamples = 32\\nvalue = 3.822'),\n",
              " Text(0.09450795785698274, 0.328125, 'X[2] <= -0.435\\nsquared_error = 0.006\\nsamples = 7\\nvalue = 3.9'),\n",
              " Text(0.09426884853919151, 0.296875, 'squared_error = 0.002\\nsamples = 3\\nvalue = 3.967'),\n",
              " Text(0.09474706717477396, 0.296875, 'squared_error = 0.002\\nsamples = 4\\nvalue = 3.85'),\n",
              " Text(0.09546439512814765, 0.328125, 'X[6] <= -0.631\\nsquared_error = 0.0\\nsamples = 25\\nvalue = 3.8'),\n",
              " Text(0.09522528581035643, 0.296875, 'X[5] <= -0.948\\nsquared_error = 0.0\\nsamples = 22\\nvalue = 3.8'),\n",
              " Text(0.09474706717477396, 0.265625, 'X[2] <= -0.452\\nsquared_error = 0.0\\nsamples = 12\\nvalue = 3.8'),\n",
              " Text(0.09450795785698274, 0.234375, 'squared_error = 0.0\\nsamples = 5\\nvalue = 3.8'),\n",
              " Text(0.09498617649256519, 0.234375, 'X[2] <= -0.451\\nsquared_error = 0.0\\nsamples = 7\\nvalue = 3.8'),\n",
              " Text(0.09474706717477396, 0.203125, 'squared_error = 0.0\\nsamples = 3\\nvalue = 3.8'),\n",
              " Text(0.09522528581035643, 0.203125, 'squared_error = -0.0\\nsamples = 4\\nvalue = 3.8'),\n",
              " Text(0.09570350444593888, 0.265625, 'X[2] <= -0.416\\nsquared_error = 0.0\\nsamples = 10\\nvalue = 3.8'),\n",
              " Text(0.09546439512814765, 0.234375, 'squared_error = -0.0\\nsamples = 7\\nvalue = 3.8'),\n",
              " Text(0.0959426137637301, 0.234375, 'squared_error = 0.0\\nsamples = 3\\nvalue = 3.8'),\n",
              " Text(0.09570350444593888, 0.296875, 'squared_error = 0.0\\nsamples = 3\\nvalue = 3.8'),\n",
              " Text(0.09546439512814765, 0.359375, 'squared_error = 0.0\\nsamples = 4\\nvalue = 3.7'),\n",
              " Text(0.09665994171710379, 0.453125, 'X[2] <= -0.464\\nsquared_error = 0.083\\nsamples = 17\\nvalue = 3.576'),\n",
              " Text(0.09642083239931257, 0.421875, 'X[4] <= -1.488\\nsquared_error = 0.029\\nsamples = 13\\nvalue = 3.662'),\n",
              " Text(0.09618172308152133, 0.390625, 'X[7] <= -0.547\\nsquared_error = 0.017\\nsamples = 8\\nvalue = 3.762'),\n",
              " Text(0.0959426137637301, 0.359375, 'squared_error = 0.0\\nsamples = 5\\nvalue = 3.7'),\n",
              " Text(0.09642083239931257, 0.359375, 'squared_error = 0.029\\nsamples = 3\\nvalue = 3.867'),\n",
              " Text(0.09665994171710379, 0.390625, 'squared_error = 0.004\\nsamples = 5\\nvalue = 3.5'),\n",
              " Text(0.09689905103489502, 0.421875, 'squared_error = 0.16\\nsamples = 4\\nvalue = 3.3'),\n",
              " Text(0.09761637898826869, 0.515625, 'X[2] <= -0.421\\nsquared_error = 0.014\\nsamples = 10\\nvalue = 2.96'),\n",
              " Text(0.09737726967047747, 0.484375, 'X[7] <= -0.377\\nsquared_error = 0.0\\nsamples = 7\\nvalue = 2.9'),\n",
              " Text(0.09713816035268624, 0.453125, 'squared_error = 0.0\\nsamples = 4\\nvalue = 2.9'),\n",
              " Text(0.09761637898826869, 0.453125, 'squared_error = -0.0\\nsamples = 3\\nvalue = 2.9'),\n",
              " Text(0.09785548830605993, 0.484375, 'squared_error = 0.02\\nsamples = 3\\nvalue = 3.1'),\n",
              " Text(0.10961013972950759, 0.546875, 'X[5] <= -0.42\\nsquared_error = 0.078\\nsamples = 296\\nvalue = 3.767'),\n",
              " Text(0.10797466935664649, 0.515625, 'X[4] <= -1.235\\nsquared_error = 0.068\\nsamples = 290\\nvalue = 3.779'),\n",
              " Text(0.105421056564298, 0.484375, 'X[4] <= -1.271\\nsquared_error = 0.053\\nsamples = 241\\nvalue = 3.814'),\n",
              " Text(0.10258536949861764, 0.453125, 'X[4] <= -1.279\\nsquared_error = 0.059\\nsamples = 197\\nvalue = 3.787'),\n",
              " Text(0.10234626018082642, 0.421875, 'X[6] <= -0.536\\nsquared_error = 0.051\\nsamples = 192\\nvalue = 3.802'),\n",
              " Text(0.0989464245684824, 0.390625, 'X[5] <= -0.981\\nsquared_error = 0.048\\nsamples = 160\\nvalue = 3.767'),\n",
              " Text(0.09689905103489502, 0.359375, 'X[6] <= -0.919\\nsquared_error = 0.211\\nsamples = 18\\nvalue = 3.544'),\n",
              " Text(0.09642083239931257, 0.328125, 'X[2] <= -0.468\\nsquared_error = 0.019\\nsamples = 6\\nvalue = 3.933'),\n",
              " Text(0.09618172308152133, 0.296875, 'squared_error = 0.0\\nsamples = 3\\nvalue = 3.8'),\n",
              " Text(0.09665994171710379, 0.296875, 'squared_error = 0.002\\nsamples = 3\\nvalue = 4.067'),\n",
              " Text(0.09737726967047747, 0.328125, 'X[2] <= -0.464\\nsquared_error = 0.194\\nsamples = 12\\nvalue = 3.35'),\n",
              " Text(0.09713816035268624, 0.296875, 'squared_error = 0.098\\nsamples = 5\\nvalue = 3.72'),\n",
              " Text(0.09761637898826869, 0.296875, 'X[7] <= -1.292\\nsquared_error = 0.096\\nsamples = 7\\nvalue = 3.086'),\n",
              " Text(0.09737726967047747, 0.265625, 'squared_error = 0.109\\nsamples = 3\\nvalue = 2.833'),\n",
              " Text(0.09785548830605993, 0.265625, 'squared_error = 0.002\\nsamples = 4\\nvalue = 3.275'),\n",
              " Text(0.10099379810206979, 0.359375, 'X[2] <= -0.462\\nsquared_error = 0.021\\nsamples = 142\\nvalue = 3.795'),\n",
              " Text(0.09958903086004632, 0.328125, 'X[2] <= -0.472\\nsquared_error = 0.02\\nsamples = 75\\nvalue = 3.745'),\n",
              " Text(0.09893148023612044, 0.296875, 'X[5] <= -0.587\\nsquared_error = 0.014\\nsamples = 63\\nvalue = 3.775'),\n",
              " Text(0.09833370694164238, 0.265625, 'X[4] <= -1.355\\nsquared_error = 0.013\\nsamples = 53\\nvalue = 3.798'),\n",
              " Text(0.09785548830605993, 0.234375, 'X[2] <= -0.504\\nsquared_error = 0.008\\nsamples = 40\\nvalue = 3.755'),\n",
              " Text(0.09761637898826869, 0.203125, 'squared_error = 0.01\\nsamples = 5\\nvalue = 3.62'),\n",
              " Text(0.09809459762385116, 0.203125, 'X[4] <= -1.381\\nsquared_error = 0.005\\nsamples = 35\\nvalue = 3.774'),\n",
              " Text(0.09761637898826869, 0.171875, 'X[5] <= -0.959\\nsquared_error = 0.003\\nsamples = 29\\nvalue = 3.79'),\n",
              " Text(0.09737726967047747, 0.140625, 'squared_error = 0.02\\nsamples = 3\\nvalue = 3.7'),\n",
              " Text(0.09785548830605993, 0.140625, 'X[7] <= -1.442\\nsquared_error = 0.0\\nsamples = 26\\nvalue = 3.8'),\n",
              " Text(0.09761637898826869, 0.109375, 'squared_error = -0.0\\nsamples = 7\\nvalue = 3.8'),\n",
              " Text(0.09809459762385116, 0.109375, 'X[7] <= -1.431\\nsquared_error = 0.0\\nsamples = 19\\nvalue = 3.8'),\n",
              " Text(0.09785548830605993, 0.078125, 'squared_error = -0.0\\nsamples = 6\\nvalue = 3.8'),\n",
              " Text(0.09833370694164238, 0.078125, 'X[2] <= -0.483\\nsquared_error = 0.0\\nsamples = 13\\nvalue = 3.8'),\n",
              " Text(0.09809459762385116, 0.046875, 'squared_error = 0.0\\nsamples = 3\\nvalue = 3.8'),\n",
              " Text(0.09857281625943361, 0.046875, 'X[7] <= -1.275\\nsquared_error = 0.0\\nsamples = 10\\nvalue = 3.8'),\n",
              " Text(0.09833370694164238, 0.015625, 'squared_error = 0.0\\nsamples = 3\\nvalue = 3.8'),\n",
              " Text(0.09881192557722483, 0.015625, 'squared_error = 0.0\\nsamples = 7\\nvalue = 3.8'),\n",
              " Text(0.09857281625943361, 0.171875, 'X[7] <= -1.414\\nsquared_error = 0.007\\nsamples = 6\\nvalue = 3.7'),\n",
              " Text(0.09833370694164238, 0.140625, 'squared_error = 0.002\\nsamples = 3\\nvalue = 3.733'),\n",
              " Text(0.09881192557722483, 0.140625, 'squared_error = 0.009\\nsamples = 3\\nvalue = 3.667'),\n",
              " Text(0.09881192557722483, 0.234375, 'X[4] <= -1.319\\nsquared_error = 0.005\\nsamples = 13\\nvalue = 3.931'),\n",
              " Text(0.09857281625943361, 0.203125, 'squared_error = 0.0\\nsamples = 6\\nvalue = 4.0'),\n",
              " Text(0.09905103489501607, 0.203125, 'squared_error = 0.002\\nsamples = 7\\nvalue = 3.871'),\n",
              " Text(0.09952925353059852, 0.265625, 'X[5] <= -0.565\\nsquared_error = 0.003\\nsamples = 10\\nvalue = 3.65'),\n",
              " Text(0.0992901442128073, 0.234375, 'squared_error = 0.0\\nsamples = 5\\nvalue = 3.6'),\n",
              " Text(0.09976836284838975, 0.234375, 'squared_error = -0.0\\nsamples = 5\\nvalue = 3.7'),\n",
              " Text(0.1002465814839722, 0.296875, 'X[5] <= -0.926\\nsquared_error = 0.021\\nsamples = 12\\nvalue = 3.592'),\n",
              " Text(0.10000747216618097, 0.265625, 'squared_error = 0.022\\nsamples = 5\\nvalue = 3.72'),\n",
              " Text(0.10048569080176344, 0.265625, 'squared_error = -0.0\\nsamples = 7\\nvalue = 3.5'),\n",
              " Text(0.10239856534409325, 0.328125, 'X[5] <= -0.953\\nsquared_error = 0.016\\nsamples = 67\\nvalue = 3.851'),\n",
              " Text(0.10120301875513711, 0.296875, 'X[7] <= -1.41\\nsquared_error = 0.005\\nsamples = 14\\nvalue = 3.936'),\n",
              " Text(0.10096390943734589, 0.265625, 'squared_error = 0.01\\nsamples = 4\\nvalue = 4.0'),\n",
              " Text(0.10144212807292834, 0.265625, 'X[4] <= -1.34\\nsquared_error = 0.001\\nsamples = 10\\nvalue = 3.91'),\n",
              " Text(0.10120301875513711, 0.234375, 'squared_error = 0.0\\nsamples = 5\\nvalue = 3.9'),\n",
              " Text(0.10168123739071958, 0.234375, 'squared_error = 0.002\\nsamples = 5\\nvalue = 3.92'),\n",
              " Text(0.10359411193304939, 0.296875, 'X[5] <= -0.866\\nsquared_error = 0.016\\nsamples = 53\\nvalue = 3.828'),\n",
              " Text(0.10263767466188448, 0.265625, 'X[2] <= -0.414\\nsquared_error = 0.011\\nsamples = 22\\nvalue = 3.75'),\n",
              " Text(0.10215945602630203, 0.234375, 'X[6] <= -0.919\\nsquared_error = 0.013\\nsamples = 9\\nvalue = 3.667'),\n",
              " Text(0.1019203467085108, 0.203125, 'X[7] <= -1.419\\nsquared_error = 0.002\\nsamples = 6\\nvalue = 3.733'),\n",
              " Text(0.10168123739071958, 0.171875, 'squared_error = 0.002\\nsamples = 3\\nvalue = 3.767'),\n",
              " Text(0.10215945602630203, 0.171875, 'squared_error = 0.0\\nsamples = 3\\nvalue = 3.7'),\n",
              " Text(0.10239856534409325, 0.203125, 'squared_error = 0.009\\nsamples = 3\\nvalue = 3.533'),\n",
              " Text(0.10311589329746694, 0.234375, 'X[7] <= -1.446\\nsquared_error = 0.001\\nsamples = 13\\nvalue = 3.808'),\n",
              " Text(0.1028767839796757, 0.203125, 'squared_error = 0.002\\nsamples = 4\\nvalue = 3.825'),\n",
              " Text(0.10335500261525817, 0.203125, 'X[6] <= -0.631\\nsquared_error = 0.0\\nsamples = 9\\nvalue = 3.8'),\n",
              " Text(0.10311589329746694, 0.171875, 'squared_error = 0.0\\nsamples = 3\\nvalue = 3.8'),\n",
              " Text(0.10359411193304939, 0.171875, 'squared_error = -0.0\\nsamples = 6\\nvalue = 3.8'),\n",
              " Text(0.1045505492042143, 0.265625, 'X[5] <= -0.774\\nsquared_error = 0.012\\nsamples = 31\\nvalue = 3.884'),\n",
              " Text(0.10407233056863184, 0.234375, 'X[6] <= -0.727\\nsquared_error = 0.002\\nsamples = 18\\nvalue = 3.961'),\n",
              " Text(0.10383322125084062, 0.203125, 'squared_error = 0.0\\nsamples = 11\\nvalue = 4.0'),\n",
              " Text(0.10431143988642308, 0.203125, 'X[2] <= -0.421\\nsquared_error = 0.0\\nsamples = 7\\nvalue = 3.9'),\n",
              " Text(0.10407233056863184, 0.171875, 'squared_error = 0.0\\nsamples = 3\\nvalue = 3.9'),\n",
              " Text(0.1045505492042143, 0.171875, 'squared_error = 0.0\\nsamples = 4\\nvalue = 3.9'),\n",
              " Text(0.10502876783979676, 0.234375, 'X[6] <= -1.015\\nsquared_error = 0.006\\nsamples = 13\\nvalue = 3.777'),\n",
              " Text(0.10478965852200553, 0.203125, 'squared_error = 0.0\\nsamples = 5\\nvalue = 3.7'),\n",
              " Text(0.10526787715758798, 0.203125, 'X[7] <= -1.356\\nsquared_error = 0.004\\nsamples = 8\\nvalue = 3.825'),\n",
              " Text(0.10502876783979676, 0.171875, 'squared_error = 0.002\\nsamples = 5\\nvalue = 3.78'),\n",
              " Text(0.10550698647537922, 0.171875, 'squared_error = 0.0\\nsamples = 3\\nvalue = 3.9'),\n",
              " Text(0.10574609579317044, 0.390625, 'X[4] <= -1.432\\nsquared_error = 0.027\\nsamples = 32\\nvalue = 3.978'),\n",
              " Text(0.10478965852200553, 0.359375, 'X[2] <= -0.448\\nsquared_error = 0.005\\nsamples = 17\\nvalue = 4.106'),\n",
              " Text(0.1045505492042143, 0.328125, 'squared_error = 0.0\\nsamples = 5\\nvalue = 4.2'),\n",
              " Text(0.10502876783979676, 0.328125, 'X[2] <= -0.417\\nsquared_error = 0.002\\nsamples = 12\\nvalue = 4.067'),\n",
              " Text(0.10478965852200553, 0.296875, 'squared_error = 0.0\\nsamples = 4\\nvalue = 4.1'),\n",
              " Text(0.10526787715758798, 0.296875, 'X[6] <= -0.44\\nsquared_error = 0.002\\nsamples = 8\\nvalue = 4.05'),\n",
              " Text(0.10502876783979676, 0.265625, 'squared_error = 0.0\\nsamples = 4\\nvalue = 4.1'),\n",
              " Text(0.10550698647537922, 0.265625, 'squared_error = -0.0\\nsamples = 4\\nvalue = 4.0'),\n",
              " Text(0.10670253306433534, 0.359375, 'X[0] <= 0.455\\nsquared_error = 0.013\\nsamples = 15\\nvalue = 3.833'),\n",
              " Text(0.10646342374654412, 0.328125, 'X[7] <= -0.751\\nsquared_error = 0.0\\nsamples = 10\\nvalue = 3.9'),\n",
              " Text(0.1062243144287529, 0.296875, 'X[6] <= -0.44\\nsquared_error = 0.0\\nsamples = 7\\nvalue = 3.9'),\n",
              " Text(0.10598520511096167, 0.265625, 'squared_error = 0.0\\nsamples = 4\\nvalue = 3.9'),\n",
              " Text(0.10646342374654412, 0.265625, 'squared_error = 0.0\\nsamples = 3\\nvalue = 3.9'),\n",
              " Text(0.10670253306433534, 0.296875, 'squared_error = 0.0\\nsamples = 3\\nvalue = 3.9'),\n",
              " Text(0.10694164238212658, 0.328125, 'squared_error = 0.012\\nsamples = 5\\nvalue = 3.7'),\n",
              " Text(0.10282447881640888, 0.421875, 'squared_error = -0.0\\nsamples = 5\\nvalue = 3.2'),\n",
              " Text(0.10825674362997834, 0.453125, 'X[2] <= -0.477\\nsquared_error = 0.01\\nsamples = 44\\nvalue = 3.936'),\n",
              " Text(0.1080176343121871, 0.421875, 'squared_error = -0.0\\nsamples = 6\\nvalue = 3.8'),\n",
              " Text(0.10849585294776956, 0.421875, 'X[2] <= -0.391\\nsquared_error = 0.009\\nsamples = 38\\nvalue = 3.958'),\n",
              " Text(0.10825674362997834, 0.390625, 'X[7] <= -1.372\\nsquared_error = 0.007\\nsamples = 35\\nvalue = 3.971'),\n",
              " Text(0.10765897033550026, 0.359375, 'X[2] <= -0.466\\nsquared_error = 0.002\\nsamples = 9\\nvalue = 4.033'),\n",
              " Text(0.10741986101770903, 0.328125, 'squared_error = 0.003\\nsamples = 4\\nvalue = 4.05'),\n",
              " Text(0.10789807965329148, 0.328125, 'squared_error = 0.002\\nsamples = 5\\nvalue = 4.02'),\n",
              " Text(0.1088545169244564, 0.359375, 'X[5] <= -0.883\\nsquared_error = 0.007\\nsamples = 26\\nvalue = 3.95'),\n",
              " Text(0.10837629828887395, 0.328125, 'X[6] <= -0.775\\nsquared_error = 0.0\\nsamples = 14\\nvalue = 4.0'),\n",
              " Text(0.10813718897108272, 0.296875, 'squared_error = 0.0\\nsamples = 8\\nvalue = 4.0'),\n",
              " Text(0.10861540760666517, 0.296875, 'squared_error = 0.0\\nsamples = 6\\nvalue = 4.0'),\n",
              " Text(0.10933273556003885, 0.328125, 'X[6] <= -0.967\\nsquared_error = 0.009\\nsamples = 12\\nvalue = 3.892'),\n",
              " Text(0.10909362624224762, 0.296875, 'squared_error = 0.002\\nsamples = 5\\nvalue = 3.96'),\n",
              " Text(0.10957184487783009, 0.296875, 'X[8] <= 0.126\\nsquared_error = 0.008\\nsamples = 7\\nvalue = 3.843'),\n",
              " Text(0.10933273556003885, 0.265625, 'squared_error = 0.007\\nsamples = 4\\nvalue = 3.85'),\n",
              " Text(0.10981095419562131, 0.265625, 'squared_error = 0.009\\nsamples = 3\\nvalue = 3.833'),\n",
              " Text(0.10873496226556079, 0.390625, 'squared_error = -0.0\\nsamples = 3\\nvalue = 3.8'),\n",
              " Text(0.11052828214899499, 0.484375, 'X[4] <= -1.218\\nsquared_error = 0.102\\nsamples = 49\\nvalue = 3.606'),\n",
              " Text(0.10993050885451693, 0.453125, 'X[2] <= -0.495\\nsquared_error = 0.118\\nsamples = 20\\nvalue = 3.345'),\n",
              " Text(0.10945229021893448, 0.421875, 'X[5] <= -0.888\\nsquared_error = 0.002\\nsamples = 8\\nvalue = 3.75'),\n",
              " Text(0.10921318090114324, 0.390625, 'squared_error = 0.0\\nsamples = 4\\nvalue = 3.8'),\n",
              " Text(0.1096913995367257, 0.390625, 'squared_error = -0.0\\nsamples = 4\\nvalue = 3.7'),\n",
              " Text(0.11040872749009938, 0.421875, 'X[4] <= -1.225\\nsquared_error = 0.014\\nsamples = 12\\nvalue = 3.075'),\n",
              " Text(0.11016961817230815, 0.390625, 'X[7] <= -1.054\\nsquared_error = 0.004\\nsamples = 7\\nvalue = 2.986'),\n",
              " Text(0.10993050885451693, 0.359375, 'squared_error = 0.002\\nsamples = 4\\nvalue = 2.95'),\n",
              " Text(0.11040872749009938, 0.359375, 'squared_error = 0.002\\nsamples = 3\\nvalue = 3.033'),\n",
              " Text(0.1106478368078906, 0.390625, 'squared_error = 0.0\\nsamples = 5\\nvalue = 3.2'),\n",
              " Text(0.11112605544347307, 0.453125, 'X[2] <= -0.454\\nsquared_error = 0.012\\nsamples = 29\\nvalue = 3.786'),\n",
              " Text(0.11088694612568184, 0.421875, 'squared_error = -0.0\\nsamples = 14\\nvalue = 3.7'),\n",
              " Text(0.11136516476126429, 0.421875, 'X[5] <= -0.996\\nsquared_error = 0.009\\nsamples = 15\\nvalue = 3.867'),\n",
              " Text(0.11112605544347307, 0.390625, 'X[2] <= -0.43\\nsquared_error = 0.002\\nsamples = 12\\nvalue = 3.825'),\n",
              " Text(0.11088694612568184, 0.359375, 'squared_error = 0.0\\nsamples = 3\\nvalue = 3.9'),\n",
              " Text(0.11136516476126429, 0.359375, 'X[2] <= -0.408\\nsquared_error = 0.0\\nsamples = 9\\nvalue = 3.8'),\n",
              " Text(0.11112605544347307, 0.328125, 'squared_error = 0.0\\nsamples = 5\\nvalue = 3.8'),\n",
              " Text(0.11160427407905552, 0.328125, 'squared_error = -0.0\\nsamples = 4\\nvalue = 3.8'),\n",
              " Text(0.11160427407905552, 0.390625, 'squared_error = 0.002\\nsamples = 3\\nvalue = 4.033'),\n",
              " Text(0.11124561010236868, 0.515625, 'X[0] <= 0.455\\nsquared_error = 0.25\\nsamples = 6\\nvalue = 3.2'),\n",
              " Text(0.11100650078457745, 0.484375, 'squared_error = -0.0\\nsamples = 3\\nvalue = 3.7'),\n",
              " Text(0.1114847194201599, 0.484375, 'squared_error = 0.0\\nsamples = 3\\nvalue = 2.7'),\n",
              " Text(0.11644623776432787, 0.578125, 'X[5] <= -1.011\\nsquared_error = 0.125\\nsamples = 168\\nvalue = 3.582'),\n",
              " Text(0.11620712844653665, 0.546875, 'squared_error = 0.0\\nsamples = 4\\nvalue = 2.7'),\n",
              " Text(0.11668534708211911, 0.546875, 'X[4] <= -1.433\\nsquared_error = 0.108\\nsamples = 164\\nvalue = 3.603'),\n",
              " Text(0.11435403123365463, 0.515625, 'X[6] <= 0.04\\nsquared_error = 0.028\\nsamples = 82\\nvalue = 3.705'),\n",
              " Text(0.11268026600911604, 0.484375, 'X[2] <= -0.499\\nsquared_error = 0.037\\nsamples = 48\\nvalue = 3.652'),\n",
              " Text(0.11244115669132482, 0.453125, 'squared_error = 0.002\\nsamples = 4\\nvalue = 3.925'),\n",
              " Text(0.11291937532690727, 0.453125, 'X[4] <= -1.496\\nsquared_error = 0.033\\nsamples = 44\\nvalue = 3.627'),\n",
              " Text(0.1123216020324292, 0.421875, 'X[7] <= -0.648\\nsquared_error = 0.002\\nsamples = 7\\nvalue = 3.271'),\n",
              " Text(0.11208249271463798, 0.390625, 'squared_error = 0.002\\nsamples = 3\\nvalue = 3.233'),\n",
              " Text(0.11256071135022043, 0.390625, 'squared_error = 0.0\\nsamples = 4\\nvalue = 3.3'),\n",
              " Text(0.11351714862138534, 0.421875, 'X[4] <= -1.443\\nsquared_error = 0.01\\nsamples = 37\\nvalue = 3.695'),\n",
              " Text(0.11303892998580288, 0.390625, 'X[7] <= 0.045\\nsquared_error = 0.008\\nsamples = 22\\nvalue = 3.641'),\n",
              " Text(0.11279982066801165, 0.359375, 'X[7] <= -0.522\\nsquared_error = 0.003\\nsamples = 17\\nvalue = 3.606'),\n",
              " Text(0.11256071135022043, 0.328125, 'X[7] <= -1.433\\nsquared_error = 0.002\\nsamples = 14\\nvalue = 3.621'),\n",
              " Text(0.1123216020324292, 0.296875, 'X[8] <= 0.126\\nsquared_error = 0.001\\nsamples = 11\\nvalue = 3.609'),\n",
              " Text(0.11208249271463798, 0.265625, 'squared_error = 0.0\\nsamples = 8\\nvalue = 3.6'),\n",
              " Text(0.11256071135022043, 0.265625, 'squared_error = 0.002\\nsamples = 3\\nvalue = 3.633'),\n",
              " Text(0.11279982066801165, 0.296875, 'squared_error = 0.002\\nsamples = 3\\nvalue = 3.667'),\n",
              " Text(0.11303892998580288, 0.328125, 'squared_error = 0.002\\nsamples = 3\\nvalue = 3.533'),\n",
              " Text(0.1132780393035941, 0.359375, 'squared_error = 0.006\\nsamples = 5\\nvalue = 3.76'),\n",
              " Text(0.1139953672569678, 0.390625, 'X[5] <= -0.853\\nsquared_error = 0.003\\nsamples = 15\\nvalue = 3.773'),\n",
              " Text(0.11375625793917657, 0.359375, 'X[6] <= -0.2\\nsquared_error = 0.0\\nsamples = 12\\nvalue = 3.8'),\n",
              " Text(0.11351714862138534, 0.328125, 'squared_error = 0.0\\nsamples = 4\\nvalue = 3.8'),\n",
              " Text(0.1139953672569678, 0.328125, 'X[4] <= -1.434\\nsquared_error = 0.0\\nsamples = 8\\nvalue = 3.8'),\n",
              " Text(0.11375625793917657, 0.296875, 'squared_error = 0.0\\nsamples = 3\\nvalue = 3.8'),\n",
              " Text(0.11423447657475902, 0.296875, 'squared_error = -0.0\\nsamples = 5\\nvalue = 3.8'),\n",
              " Text(0.11423447657475902, 0.359375, 'squared_error = 0.002\\nsamples = 3\\nvalue = 3.667'),\n",
              " Text(0.11602779645819324, 0.484375, 'X[0] <= 0.455\\nsquared_error = 0.006\\nsamples = 34\\nvalue = 3.779'),\n",
              " Text(0.11519091384592393, 0.453125, 'X[6] <= 0.279\\nsquared_error = 0.002\\nsamples = 22\\nvalue = 3.827'),\n",
              " Text(0.11471269521034148, 0.421875, 'X[7] <= -1.434\\nsquared_error = 0.001\\nsamples = 7\\nvalue = 3.886'),\n",
              " Text(0.11447358589255024, 0.390625, 'squared_error = 0.002\\nsamples = 4\\nvalue = 3.875'),\n",
              " Text(0.11495180452813271, 0.390625, 'squared_error = 0.0\\nsamples = 3\\nvalue = 3.9'),\n",
              " Text(0.11566913248150638, 0.421875, 'X[8] <= 0.126\\nsquared_error = 0.0\\nsamples = 15\\nvalue = 3.8'),\n",
              " Text(0.11543002316371516, 0.390625, 'X[2] <= -0.475\\nsquared_error = 0.0\\nsamples = 12\\nvalue = 3.8'),\n",
              " Text(0.11519091384592393, 0.359375, 'squared_error = 0.0\\nsamples = 3\\nvalue = 3.8'),\n",
              " Text(0.11566913248150638, 0.359375, 'squared_error = 0.0\\nsamples = 9\\nvalue = 3.8'),\n",
              " Text(0.11590824179929762, 0.390625, 'squared_error = 0.0\\nsamples = 3\\nvalue = 3.8'),\n",
              " Text(0.11686467907046252, 0.453125, 'X[7] <= -0.035\\nsquared_error = 0.001\\nsamples = 12\\nvalue = 3.692'),\n",
              " Text(0.1166255697526713, 0.421875, 'X[8] <= 0.126\\nsquared_error = 0.001\\nsamples = 7\\nvalue = 3.686'),\n",
              " Text(0.11638646043488007, 0.390625, 'squared_error = -0.0\\nsamples = 3\\nvalue = 3.7'),\n",
              " Text(0.11686467907046252, 0.390625, 'squared_error = 0.002\\nsamples = 4\\nvalue = 3.675'),\n",
              " Text(0.11710378838825375, 0.421875, 'squared_error = -0.0\\nsamples = 5\\nvalue = 3.7'),\n",
              " Text(0.11901666293058358, 0.515625, 'X[5] <= -0.79\\nsquared_error = 0.168\\nsamples = 82\\nvalue = 3.501'),\n",
              " Text(0.11829933497720989, 0.484375, 'X[4] <= -1.205\\nsquared_error = 0.169\\nsamples = 23\\nvalue = 3.143'),\n",
              " ...]"
            ]
          },
          "metadata": {},
          "execution_count": 63
        },
        {
          "output_type": "display_data",
          "data": {
            "image/png": "[encoded data removed]",
            "text/plain": [
              "<Figure size 432x288 with 1 Axes>"
            ]
          },
          "metadata": {
            "needs_background": "light"
          }
        }
      ],
      "source": [
        "from sklearn import tree\n",
        "tree.plot_tree(DTree)"
      ]
    },
    {
      "cell_type": "code",
      "execution_count": null,
      "metadata": {
        "colab": {
          "base_uri": "https://localhost:8080/",
          "height": 297
        },
        "id": "8qTOAc8j_evs",
        "outputId": "82664094-4271-4d44-8d33-29ab796770c0"
      },
      "outputs": [
        {
          "output_type": "execute_result",
          "data": {
            "text/plain": [
              "<matplotlib.axes._subplots.AxesSubplot at 0x7fa6ec3cdf90>"
            ]
          },
          "metadata": {},
          "execution_count": 64
        },
        {
          "output_type": "display_data",
          "data": {
            "image/png": "[encoded data removed]",
            "text/plain": [
              "<Figure size 432x288 with 1 Axes>"
            ]
          },
          "metadata": {
            "needs_background": "light"
          }
        }
      ],
      "source": [
        "sns.distplot(y_test-Dtree_predict)"
      ]
    },
    {
      "cell_type": "code",
      "execution_count": null,
      "metadata": {
        "id": "TJCyijc8_evs"
      },
      "outputs": [],
      "source": [
        "from sklearn.pipeline import Pipeline\n",
        "from sklearn.cluster import KMeans\n",
        "from sklearn.tree import DecisionTreeRegressor\n",
        "\n",
        "pipeline_DTree = Pipeline([\n",
        "    (\"kmeans\", KMeans(n_clusters=50)),\n",
        "    (\"DTree\", DecisionTreeRegressor()),\n",
        "])\n",
        "pipeline_DTree.fit(x_train, y_train)\n",
        "IPython.display.clear_output()"
      ]
    },
    {
      "cell_type": "code",
      "execution_count": null,
      "metadata": {
        "colab": {
          "base_uri": "https://localhost:8080/"
        },
        "id": "fGEm8zVa_evt",
        "outputId": "3e0b4b7c-ac4d-4365-f819-e60dbe0f298b"
      },
      "outputs": [
        {
          "output_type": "execute_result",
          "data": {
            "text/plain": [
              "0.3188627422949962"
            ]
          },
          "metadata": {},
          "execution_count": 66
        }
      ],
      "source": [
        "pipeline_DTree.score(x_test, y_test)"
      ]
    },
    {
      "cell_type": "code",
      "execution_count": null,
      "metadata": {
        "id": "0x_mxcjz_evt"
      },
      "outputs": [],
      "source": [
        "from sklearn.model_selection import GridSearchCV\n",
        "\n",
        "#params = {'n_clusters': np.arange(2, 100), 'max_depth': np.arange(2, 100)}\n",
        "param_grid = dict(kmeans__n_clusters=range(2, 100), DTree__max_depth=np.arange(100))\n",
        "\n",
        "model = GridSearchCV(pipeline_DTree, param_grid, cv=2,\n",
        "                     return_train_score=True)\n",
        "model.fit(x_train, y_train)\n",
        "IPython.display.clear_output()"
      ]
    },
    {
      "cell_type": "code",
      "execution_count": null,
      "metadata": {
        "id": "P5kwAboL_evt"
      },
      "outputs": [],
      "source": [
        "model.best_params_"
      ]
    },
    {
      "cell_type": "code",
      "execution_count": null,
      "metadata": {
        "id": "nb7VC1VY_evt"
      },
      "outputs": [],
      "source": [
        "model.score(x_test, y_test)"
      ]
    },
    {
      "cell_type": "code",
      "execution_count": null,
      "metadata": {
        "id": "hsZF0zIb_evt"
      },
      "outputs": [],
      "source": [
        "# cvres = model.cv_results_\n",
        "# for mean_score, params in zip(cvres[\"mean_test_score\"], cvres[\"params\"]):\n",
        "#     print(np.sqrt(-mean_score), params)"
      ]
    },
    {
      "cell_type": "code",
      "execution_count": null,
      "metadata": {
        "id": "tS5pLWdr_evt"
      },
      "outputs": [],
      "source": [
        "DTree = DecisionTreeRegressor(max_depth=91)\n",
        "DTree.fit(x_train,y_train)\n",
        "IPython.display.clear_output()\n",
        "Dtree_predict = DTree.predict(x_test)\n",
        "from sklearn.metrics import mean_squared_error\n",
        "mean_squared_error(y_test, Dtree_predict)"
      ]
    },
    {
      "cell_type": "code",
      "execution_count": null,
      "metadata": {
        "id": "TQblIh5O_evt"
      },
      "outputs": [],
      "source": [
        "sns.distplot(y_test-Dtree_predict)"
      ]
    },
    {
      "cell_type": "markdown",
      "metadata": {
        "id": "GEnQEcSM_evu"
      },
      "source": [
        "# Random Forest Regressor\n"
      ]
    },
    {
      "cell_type": "markdown",
      "metadata": {
        "id": "tQEUAx3S_evu"
      },
      "source": [
        "In [random forests](https://scikit-learn.org/stable/modules/ensemble.html#random-forests) (see RandomForestClassifier and RandomForestRegressor classes), each tree in the ensemble is built from a sample drawn with replacement (i.e., a bootstrap sample) from the training set.\n",
        "\n",
        "Furthermore, when splitting each node during the construction of a tree, the best split is found either from all input features or a random subset of size `max_features`. (See the [parameter tuning guidelines](https://scikit-learn.org/stable/modules/ensemble.html#parameters) for more details).\n",
        "\n",
        "The purpose of these two sources of randomness is to decrease the variance of the forest estimator. Indeed, individual decision trees typically exhibit high variance and tend to overfit. The injected randomness in forests yield decision trees with somewhat decoupled prediction errors. By taking an average of those predictions, some errors can cancel out. Random forests achieve a reduced variance by combining diverse trees, sometimes at the cost of a slight increase in bias. In practice the variance reduction is often significant hence yielding an overall better model.\n",
        "\n",
        "In contrast to the original publication [B2001](https://scikit-learn.org/stable/modules/ensemble.html#b2001), the scikit-learn implementation combines classifiers by averaging their probabilistic prediction, instead of letting each classifier vote for a single class."
      ]
    },
    {
      "cell_type": "code",
      "execution_count": null,
      "metadata": {
        "colab": {
          "base_uri": "https://localhost:8080/"
        },
        "id": "ARovBDb4_evu",
        "outputId": "eadedfdc-e570-44f6-a22d-dea762ac7eb6"
      },
      "outputs": [
        {
          "output_type": "execute_result",
          "data": {
            "text/plain": [
              "0.0236052165781118"
            ]
          },
          "metadata": {},
          "execution_count": 68
        }
      ],
      "source": [
        "from sklearn.ensemble import RandomForestRegressor\n",
        "RForest=RandomForestRegressor(n_estimators=500, random_state=430, min_samples_leaf=.0001)\n",
        "RForest.fit(x_train,y_train)\n",
        "IPython.display.clear_output()\n",
        "RForest_predict = RForest.predict(x_test)\n",
        "from sklearn.metrics import mean_squared_error\n",
        "mean_squared_error(y_test, RForest_predict)"
      ]
    },
    {
      "cell_type": "markdown",
      "metadata": {
        "id": "DjVbt_2F_evu"
      },
      "source": [
        "The main parameters to adjust when using these methods is n_estimators and max_features. The former is the number of trees in the forest. The larger the better, but also the longer it will take to compute. In addition, note that results will stop getting significantly better beyond a critical number of trees. The latter is the size of the random subsets of features to consider when splitting a node. The lower the greater the reduction of variance, but also the greater the increase in bias. Empirical good default values are `max_features=None` (always considering all features instead of a random subset) for regression problems, and `max_features=\"sqrt\"` (using a random subset of size `sqrt(n_features)`) for classification tasks (where `n_features` is the number of features in the data). Good results are often achieved when setting max_depth=None in combination with `min_samples_split=2` (i.e., when fully developing the trees). Bear in mind though that these values are usually not optimal, and might result in models that consume a lot of RAM. The best parameter values should always be cross-validated. In addition, note that in random forests, bootstrap samples are used by default (`bootstrap=True`) while the default strategy for extra-trees is to use the whole dataset (`bootstrap=False`). When using bootstrap sampling the generalization accuracy can be estimated on the left out or out-of-bag samples. This can be enabled by setting `oob_score=True`."
      ]
    },
    {
      "cell_type": "code",
      "execution_count": null,
      "metadata": {
        "scrolled": false,
        "colab": {
          "base_uri": "https://localhost:8080/",
          "height": 297
        },
        "id": "1H9kj1eW_evu",
        "outputId": "b03c5b3d-f948-4ba3-df6f-aeecda9800eb"
      },
      "outputs": [
        {
          "output_type": "execute_result",
          "data": {
            "text/plain": [
              "<matplotlib.axes._subplots.AxesSubplot at 0x7fa6e9479910>"
            ]
          },
          "metadata": {},
          "execution_count": 69
        },
        {
          "output_type": "display_data",
          "data": {
            "image/png": "[encoded data removed]",
            "text/plain": [
              "<Figure size 432x288 with 1 Axes>"
            ]
          },
          "metadata": {
            "needs_background": "light"
          }
        }
      ],
      "source": [
        "sns.distplot(y_test-RForest_predict)"
      ]
    },
    {
      "cell_type": "code",
      "execution_count": null,
      "metadata": {
        "colab": {
          "base_uri": "https://localhost:8080/"
        },
        "id": "W9_OZjeK_evu",
        "outputId": "cd24118f-d188-495c-8209-84911c185289"
      },
      "outputs": [
        {
          "output_type": "execute_result",
          "data": {
            "text/plain": [
              "{'bootstrap': False, 'max_features': 6, 'n_estimators': 500}"
            ]
          },
          "metadata": {},
          "execution_count": 70
        }
      ],
      "source": [
        "from sklearn.model_selection import GridSearchCV\n",
        "params = [\n",
        "    {'n_estimators': [50, 100, 500], 'max_features': [2, 4, 6]},\n",
        "    {'bootstrap': [False], 'n_estimators': [50, 100, 500], 'max_features': [2, 4, 6]},\n",
        "]\n",
        "\n",
        "RForest = RandomForestRegressor()\n",
        "\n",
        "grid_search = GridSearchCV(RForest, params, \n",
        "                     scoring='neg_mean_squared_error', cv=5,\n",
        "                     return_train_score=True)\n",
        "grid_search.fit(x_train, y_train)\n",
        "IPython.display.clear_output()\n",
        "grid_search.best_params_ "
      ]
    },
    {
      "cell_type": "code",
      "execution_count": null,
      "metadata": {
        "colab": {
          "base_uri": "https://localhost:8080/"
        },
        "id": "UeBF-QRI_evu",
        "outputId": "eea871bb-5066-47ba-82a2-acf4460e0ee0"
      },
      "outputs": [
        {
          "output_type": "execute_result",
          "data": {
            "text/plain": [
              "RandomForestRegressor(bootstrap=False, max_features=6, n_estimators=500)"
            ]
          },
          "metadata": {},
          "execution_count": 71
        }
      ],
      "source": [
        "grid_search.best_estimator_"
      ]
    },
    {
      "cell_type": "code",
      "execution_count": null,
      "metadata": {
        "colab": {
          "base_uri": "https://localhost:8080/"
        },
        "id": "1K4ZxidH_evv",
        "outputId": "f00ddab1-029d-453a-c374-c001af6009d2"
      },
      "outputs": [
        {
          "output_type": "stream",
          "name": "stdout",
          "text": [
            "0.18057573922818038 {'max_features': 2, 'n_estimators': 50}\n",
            "0.1777297093598173 {'max_features': 2, 'n_estimators': 100}\n",
            "0.17669748018482215 {'max_features': 2, 'n_estimators': 500}\n",
            "0.15437863805612403 {'max_features': 4, 'n_estimators': 50}\n",
            "0.15360859055700732 {'max_features': 4, 'n_estimators': 100}\n",
            "0.15171732033510077 {'max_features': 4, 'n_estimators': 500}\n",
            "0.15045816622408895 {'max_features': 6, 'n_estimators': 50}\n",
            "0.14847551562890626 {'max_features': 6, 'n_estimators': 100}\n",
            "0.1477290645342522 {'max_features': 6, 'n_estimators': 500}\n",
            "0.15433983925954187 {'bootstrap': False, 'max_features': 2, 'n_estimators': 50}\n",
            "0.15197982157470738 {'bootstrap': False, 'max_features': 2, 'n_estimators': 100}\n",
            "0.15169677814201296 {'bootstrap': False, 'max_features': 2, 'n_estimators': 500}\n",
            "0.12986896681120144 {'bootstrap': False, 'max_features': 4, 'n_estimators': 50}\n",
            "0.12872868923114597 {'bootstrap': False, 'max_features': 4, 'n_estimators': 100}\n",
            "0.12781414182003456 {'bootstrap': False, 'max_features': 4, 'n_estimators': 500}\n",
            "0.12909766635660005 {'bootstrap': False, 'max_features': 6, 'n_estimators': 50}\n",
            "0.12753233064830954 {'bootstrap': False, 'max_features': 6, 'n_estimators': 100}\n",
            "0.12695380258205058 {'bootstrap': False, 'max_features': 6, 'n_estimators': 500}\n"
          ]
        }
      ],
      "source": [
        "cvres = grid_search.cv_results_\n",
        "for mean_score, params in zip(cvres[\"mean_test_score\"], cvres[\"params\"]):\n",
        "    print(np.sqrt(-mean_score), params)"
      ]
    },
    {
      "cell_type": "code",
      "execution_count": null,
      "metadata": {
        "colab": {
          "base_uri": "https://localhost:8080/"
        },
        "id": "jKSQ2upG_evv",
        "outputId": "d98ac513-2e71-4920-c1bf-249c378d174c"
      },
      "outputs": [
        {
          "output_type": "execute_result",
          "data": {
            "text/plain": [
              "0.014799472694946815"
            ]
          },
          "metadata": {},
          "execution_count": 73
        }
      ],
      "source": [
        "from sklearn.ensemble import RandomForestRegressor\n",
        "RForest = RandomForestRegressor(bootstrap=True, n_estimators=500, random_state=6, )\n",
        "RForest.fit(x_train,y_train)\n",
        "IPython.display.clear_output()\n",
        "RForest_predict = RForest.predict(x_test)\n",
        "from sklearn.metrics import mean_squared_error\n",
        "mean_squared_error(y_test, RForest_predict)"
      ]
    },
    {
      "cell_type": "code",
      "execution_count": null,
      "metadata": {
        "id": "oSSXjhw4_evv"
      },
      "outputs": [],
      "source": [
        "# from sklearn.tree import plot_tree\n",
        "# fig = plt.figure(figsize=(15, 10))\n",
        "# plot_tree(RForest.estimators_[0], \n",
        "#           feature_names=X.columns,\n",
        "#           class_names=y,\n",
        "#           filled=True, impurity=True, \n",
        "#           rounded=True)"
      ]
    },
    {
      "cell_type": "markdown",
      "metadata": {
        "id": "HrzT891z_evv"
      },
      "source": [
        "**Hint**: Khi bạn không biết siêu tham số phải có giá trị nào, một cách tiếp cận đơn giản là thử các lũy thừa liên tiếp của 10 (hoặc một số nhỏ hơn nếu bạn muốn tìm kiếm chi tiết hơn."
      ]
    },
    {
      "cell_type": "markdown",
      "metadata": {
        "id": "A3dseBS4_evv"
      },
      "source": [
        "# Voting Regressor"
      ]
    },
    {
      "cell_type": "markdown",
      "metadata": {
        "id": "d3_BxsVu_evv"
      },
      "source": [
        "Suppose you have trained a few classifiers, each one achieving about 80% accuracy. You may have a Logistic Regression classifier, an SVM classifier, a Random Forest classifier, a K-Nearest Neighbors classifier, and perhaps a few more\n",
        "\n",
        "A very simple way to create an even better classifier is to aggregate the predictions of each classifier and predict the class that gets the most votes. This majority-vote classifier is called a hard voting classifier.\n",
        "\n",
        "Somewhat surprisingly, this voting classifier often achieves a higher accuracy than the best classifier in the ensemble. In fact, even if each classifier is a weak learner (meaning it does only slightly better than random guessing), the ensemble can still be a strong learner (achieving high accuracy), provided there are a sufficient number of weak learners and they are sufficiently diverse."
      ]
    },
    {
      "cell_type": "code",
      "execution_count": null,
      "metadata": {
        "colab": {
          "base_uri": "https://localhost:8080/"
        },
        "id": "hj9w4tau_evv",
        "outputId": "6a68c069-8079-460e-dd48-1e2e82289b4d"
      },
      "outputs": [
        {
          "output_type": "execute_result",
          "data": {
            "text/plain": [
              "0.018403015519450637"
            ]
          },
          "metadata": {},
          "execution_count": 75
        }
      ],
      "source": [
        "from sklearn.ensemble import VotingRegressor\n",
        "Voting = VotingRegressor(estimators=[('DTree', DTree), ('RForest', RForest)])\n",
        "Voting.fit(x_train, y_train)\n",
        "IPython.display.clear_output()\n",
        "Voting_predict = Voting.predict(x_test)\n",
        "from sklearn.metrics import mean_squared_error\n",
        "mean_squared_error(y_test, Voting_predict)"
      ]
    },
    {
      "cell_type": "code",
      "execution_count": null,
      "metadata": {
        "colab": {
          "base_uri": "https://localhost:8080/",
          "height": 297
        },
        "id": "ONqnM0a0_evw",
        "outputId": "cb2c5ee1-9f2f-4127-b382-d193ec9e86f6"
      },
      "outputs": [
        {
          "output_type": "execute_result",
          "data": {
            "text/plain": [
              "<matplotlib.axes._subplots.AxesSubplot at 0x7fa6e4074750>"
            ]
          },
          "metadata": {},
          "execution_count": 76
        },
        {
          "output_type": "display_data",
          "data": {
            "image/png": "[encoded data removed]",
            "text/plain": [
              "<Figure size 432x288 with 1 Axes>"
            ]
          },
          "metadata": {
            "needs_background": "light"
          }
        }
      ],
      "source": [
        "sns.distplot(y_test-Voting_predict)"
      ]
    },
    {
      "cell_type": "code",
      "execution_count": null,
      "metadata": {
        "id": "R97UwAI4_evw"
      },
      "outputs": [],
      "source": [
        "# plt.figure()\n",
        "# plt.plot(GBReg_predict, \"gd\", label=\"GradientBoostingRegressor\")\n",
        "# plt.plot(RForest_predict, \"b^\", label=\"RandomForestRegressor\")\n",
        "# plt.plot(LR_predict, \"ys\", label=\"LinearRegression\")\n",
        "# plt.plot(Voting_predict, \"r*\", label=\"VotingRegressor\")\n",
        "\n",
        "# plt.tick_params(axis=\"x\", which=\"both\", bottom=False, top=False, labelbottom=False)\n",
        "# plt.ylabel(\"predicted\")\n",
        "# plt.xlabel(\"training samples\")\n",
        "# plt.legend(loc=\"best\")\n",
        "# plt.title(\"Regressor predictions and their average\")\n",
        "\n",
        "# plt.show()"
      ]
    },
    {
      "cell_type": "code",
      "execution_count": null,
      "metadata": {
        "id": "IE7soJXs_evw"
      },
      "outputs": [],
      "source": [
        ""
      ]
    }
  ],
  "metadata": {
    "interpreter": {
      "hash": "1baa965d5efe3ac65b79dfc60c0d706280b1da80fedb7760faf2759126c4f253"
    },
    "kernelspec": {
      "display_name": "Python 3 (ipykernel)",
      "language": "python",
      "name": "python3"
    },
    "language_info": {
      "codemirror_mode": {
        "name": "ipython",
        "version": 3
      },
      "file_extension": ".py",
      "mimetype": "text/x-python",
      "name": "python",
      "nbconvert_exporter": "python",
      "pygments_lexer": "ipython3",
      "version": "3.8.10"
    },
    "colab": {
      "name": "predict_rating.ipynb",
      "provenance": [],
      "collapsed_sections": [
        "sDcFoOSQCxBV",
        "WOQC3pw7_evU",
        "kEIGSBJp_evf",
        "-3NqHHDl_evi",
        "cjPUsD9T_evj",
        "Vm83ycUD_evj",
        "-VCUZpIW_evk",
        "igdRGZmy_evk",
        "avvjkRcZ_evm",
        "6fWzArNy_evn",
        "5OaKGope_evo"
      ]
    }
  },
  "nbformat": 4,
  "nbformat_minor": 0
}